{
 "cells": [
  {
   "cell_type": "code",
   "execution_count": 17,
   "metadata": {},
   "outputs": [],
   "source": [
    "%matplotlib inline\n",
    "# Load all necessary packages\n",
    "import sys\n",
    "sys.path.append(\"../\")\n",
    "import numpy as np\n",
    "from tqdm import tqdm\n",
    "from warnings import warn\n",
    "\n",
    "from aif360.datasets import BinaryLabelDataset\n",
    "from aif360.datasets import StandardDataset\n",
    "from aif360.metrics import ClassificationMetric, BinaryLabelDatasetMetric\n",
    "from aif360.algorithms.postprocessing.reject_option_classification\\\n",
    "        import RejectOptionClassification\n",
    "from common_utils import compute_metrics\n",
    "\n",
    "from sklearn.linear_model import LogisticRegression\n",
    "from sklearn.preprocessing import StandardScaler\n",
    "from sklearn.metrics import accuracy_score\n",
    "\n",
    "from IPython.display import Markdown, display\n",
    "import matplotlib.pyplot as plt\n",
    "from ipywidgets import interactive, FloatSlider\n",
    "import pandas as pd\n",
    "import pickle\n",
    "from sklearn.linear_model import Lasso"
   ]
  },
  {
   "cell_type": "markdown",
   "metadata": {},
   "source": [
    "## Huangrui's Dataset "
   ]
  },
  {
   "cell_type": "code",
   "execution_count": 18,
   "metadata": {},
   "outputs": [],
   "source": [
    "class GermanDataset(StandardDataset):\n",
    "    \"\"\"German credit Dataset.\n",
    "\n",
    "    See :file:`aif360/data/raw/german/README.md`.\n",
    "    \"\"\"\n",
    "\n",
    "    def __init__(self, path, label_name='Y', favorable_classes=[1],\n",
    "                 protected_attribute_names=['sex', 'age'],\n",
    "                 privileged_classes=[[1],[1]],\n",
    "                 instance_weights_name=None,\n",
    "                 categorical_features=[],\n",
    "                 features_to_keep=[], features_to_drop=[],\n",
    "                 na_values=[], custom_preprocessing=None,\n",
    "                 metadata=None):\n",
    "        \n",
    "        df = pd.read_csv(path)\n",
    "        \n",
    "\n",
    "        super(GermanDataset, self).__init__(df=df, label_name=label_name,\n",
    "            favorable_classes=favorable_classes,\n",
    "            protected_attribute_names=protected_attribute_names,\n",
    "            privileged_classes=privileged_classes,\n",
    "            instance_weights_name=instance_weights_name,\n",
    "            categorical_features=categorical_features,\n",
    "            features_to_keep=features_to_keep,\n",
    "            features_to_drop=features_to_drop, na_values=na_values,\n",
    "            custom_preprocessing=custom_preprocessing, metadata=metadata)"
   ]
  },
  {
   "cell_type": "markdown",
   "metadata": {},
   "source": [
    "#### Load dataset and specify options"
   ]
  },
  {
   "cell_type": "code",
   "execution_count": 19,
   "metadata": {},
   "outputs": [],
   "source": [
    "## import dataset\n",
    "dataset_used = \"german\" # \"german\", \"german\", \"compas\"\n",
    "protected_attribute_used = 1 # 1, 2\n",
    "\n",
    "\n",
    "#     dataset_orig = GermanDataset()\n",
    "if protected_attribute_used == 1:\n",
    "    privileged_groups = [{'sex': 1}]\n",
    "    unprivileged_groups = [{'sex': 0}]\n",
    "else:\n",
    "    privileged_groups = [{'age': 1}]\n",
    "    unprivileged_groups = [{'age': 0}]\n",
    "        \n",
    "# Metric used (should be one of allowed_metrics)\n",
    "metric_name = \"Equal opportunity difference\"\n",
    "\n",
    "# Upper and lower bound on the fairness metric used\n",
    "metric_ub = 0.05\n",
    "metric_lb = -0.05\n",
    "        \n",
    "        \n",
    "#random seed for calibrated equal odds prediction\n",
    "random_seed = 12345679\n",
    "np.random.seed(random_seed)\n",
    "\n",
    "# Verify metric name\n",
    "allowed_metrics = [\"Statistical parity difference\",\n",
    "                   \"Average odds difference\",\n",
    "                   \"Equal opportunity difference\"]\n",
    "if metric_name not in allowed_metrics:\n",
    "    raise ValueError(\"Metric name should be one of allowed metrics\")"
   ]
  },
  {
   "cell_type": "markdown",
   "metadata": {},
   "source": [
    "#### Split into train, test and validation"
   ]
  },
  {
   "cell_type": "code",
   "execution_count": 20,
   "metadata": {},
   "outputs": [],
   "source": [
    "protected_attribute_used = 2\n",
    "for K in range(1, 6):\n",
    "    if protected_attribute_used == 1:\n",
    "        dataset_orig_train_valid= GermanDataset(path=\"./Huangrui/german/german_train{}.csv\".format(K),protected_attribute_names=['sex'],\n",
    "                    privileged_classes=[[1]])\n",
    "        dataset_orig_test= GermanDataset(path=\"./Huangrui/german/german_test{}.csv\".format(K),protected_attribute_names=['sex'],\n",
    "                    privileged_classes=[[1]])\n",
    "    else:\n",
    "        dataset_orig_train_valid= GermanDataset(path=\"./Huangrui/german/german_train{}.csv\".format(K),protected_attribute_names=['age'],\n",
    "                    privileged_classes=[[1]])\n",
    "        dataset_orig_test= GermanDataset(path=\"./Huangrui/german/german_test{}.csv\".format(K),protected_attribute_names=['age'],\n",
    "                    privileged_classes=[[1]])\n",
    "        \n",
    "    # 80% train, 20% valid\n",
    "    dataset_orig_train, dataset_orig_valid = dataset_orig_train_valid.split([0.8], shuffle=True) \n",
    "        \n",
    "    # Lasso linear classifier and predictions\n",
    "    if protected_attribute_used == 1:\n",
    "        lmod = pickle.load(open('experiments/german'+str(K)+'_sex_bmodel.pkl','rb'))[\"clf\"]\n",
    "    else:\n",
    "        lmod = pickle.load(open('experiments/german'+str(K)+'_age_bmodel.pkl','rb'))[\"clf\"]\n",
    "    #training data\n",
    "    X_train = dataset_orig_train.features\n",
    "    y_train = dataset_orig_train.labels.ravel()\n",
    "    y_train_pred = lmod.predict(X_train)>0.5\n",
    "    #validation data\n",
    "    X_valid = dataset_orig_valid.features\n",
    "    y_valid = dataset_orig_valid.labels.ravel()\n",
    "    y_valid_pred = lmod.predict(X_valid)>0.5\n",
    "    #test data\n",
    "    dataset_orig_test_pred = dataset_orig_test.copy(deepcopy=True)\n",
    "    X_test = dataset_orig_test_pred.features\n",
    "    y_test = dataset_orig_test_pred.labels\n",
    "    y_test_pred = lmod.predict(X_test)>0.5\n",
    "\n",
    "    # save all the data\n",
    "    db = {}\n",
    "\n",
    "    db['Xtrain'] = X_train\n",
    "    db['Ytrain'] = y_train\n",
    "    db['Xval'] = X_valid\n",
    "    db['Yval'] = y_valid\n",
    "    db['Xtest'] = X_test\n",
    "    db['Ytest'] = y_test\n",
    "    db['clf'] = lmod\n",
    "    db['Ybtrain'] = y_train_pred\n",
    "    db['Ybval'] = y_valid_pred\n",
    "    db['Ybtest'] = y_test_pred\n",
    "    if protected_attribute_used==1:\n",
    "        pickle.dump(db, open('experiments/german'+str(K)+'_sex.pkl','wb'))\n",
    "    else:\n",
    "        pickle.dump(db, open('experiments/german'+str(K)+'_age.pkl','wb'))\n",
    "    "
   ]
  },
  {
   "cell_type": "code",
   "execution_count": 21,
   "metadata": {},
   "outputs": [],
   "source": [
    "db = pickle.load(open('experiments/'+'german1_age.pkl','rb')) \n",
    "Ytrain = db['Ytrain'] \n",
    "Yval = db['Yval']\n",
    "Ytest = db['Ytest'] \n",
    "clf = db['clf'] \n",
    "Ybtrain = db['Ybtrain'] # this is the predicted label of the biased decision-maker on training data\n",
    "Ybtest = db['Ybtest']\n",
    "Ybval = db['Ybval']\n",
    "Xtrain = db['Xtrain'] \n",
    "Xtest = db['Xtest'] \n",
    "Xval = db['Xval']"
   ]
  },
  {
   "cell_type": "code",
   "execution_count": 22,
   "metadata": {},
   "outputs": [
    {
     "data": {
      "text/plain": [
       "array([[2.100e+01, 5.248e+03, 1.000e+00, ..., 0.000e+00, 1.000e+00,\n",
       "        0.000e+00],\n",
       "       [1.500e+01, 1.478e+03, 4.000e+00, ..., 1.000e+00, 1.000e+00,\n",
       "        0.000e+00],\n",
       "       [1.200e+01, 1.123e+03, 4.000e+00, ..., 0.000e+00, 1.000e+00,\n",
       "        0.000e+00],\n",
       "       ...,\n",
       "       [2.100e+01, 3.414e+03, 2.000e+00, ..., 0.000e+00, 1.000e+00,\n",
       "        0.000e+00],\n",
       "       [1.200e+01, 6.260e+02, 4.000e+00, ..., 0.000e+00, 1.000e+00,\n",
       "        0.000e+00],\n",
       "       [9.000e+00, 1.422e+03, 3.000e+00, ..., 1.000e+00, 1.000e+00,\n",
       "        0.000e+00]])"
      ]
     },
     "execution_count": 22,
     "metadata": {},
     "output_type": "execute_result"
    }
   ],
   "source": [
    "dataset_orig_train.features"
   ]
  },
  {
   "cell_type": "code",
   "execution_count": null,
   "metadata": {},
   "outputs": [],
   "source": []
  },
  {
   "cell_type": "code",
   "execution_count": 23,
   "metadata": {},
   "outputs": [
    {
     "data": {
      "text/plain": [
       "array([[1.300e+01, 1.409e+03, 2.000e+00, ..., 0.000e+00, 1.000e+00,\n",
       "        0.000e+00],\n",
       "       [2.400e+01, 2.828e+03, 4.000e+00, ..., 1.000e+00, 1.000e+00,\n",
       "        0.000e+00],\n",
       "       [6.000e+00, 2.108e+03, 2.000e+00, ..., 0.000e+00, 1.000e+00,\n",
       "        0.000e+00],\n",
       "       ...,\n",
       "       [1.000e+01, 3.949e+03, 1.000e+00, ..., 0.000e+00, 1.000e+00,\n",
       "        0.000e+00],\n",
       "       [2.400e+01, 1.851e+03, 4.000e+00, ..., 1.000e+00, 1.000e+00,\n",
       "        0.000e+00],\n",
       "       [1.800e+01, 1.239e+03, 4.000e+00, ..., 0.000e+00, 1.000e+00,\n",
       "        0.000e+00]])"
      ]
     },
     "execution_count": 23,
     "metadata": {},
     "output_type": "execute_result"
    }
   ],
   "source": [
    "Xval"
   ]
  },
  {
   "cell_type": "code",
   "execution_count": null,
   "metadata": {},
   "outputs": [],
   "source": []
  },
  {
   "cell_type": "code",
   "execution_count": null,
   "metadata": {},
   "outputs": [],
   "source": []
  }
 ],
 "metadata": {
  "kernelspec": {
   "display_name": "Python 3",
   "language": "python",
   "name": "python3"
  },
  "language_info": {
   "codemirror_mode": {
    "name": "ipython",
    "version": 3
   },
   "file_extension": ".py",
   "mimetype": "text/x-python",
   "name": "python",
   "nbconvert_exporter": "python",
   "pygments_lexer": "ipython3",
   "version": "3.9.13"
  }
 },
 "nbformat": 4,
 "nbformat_minor": 2
}
