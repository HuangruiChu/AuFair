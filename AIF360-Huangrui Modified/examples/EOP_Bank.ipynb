{
 "cells": [
  {
   "cell_type": "markdown",
   "metadata": {},
   "source": [
    "#### This notebook demonstrates the use of the EOP post-processing algorithm for bias mitigation.\n"
   ]
  },
  {
   "cell_type": "code",
   "execution_count": 8,
   "metadata": {},
   "outputs": [],
   "source": [
    "%matplotlib inline\n",
    "# Load all necessary packages\n",
    "import sys\n",
    "sys.path.append(\"../\")\n",
    "import numpy as np\n",
    "from tqdm import tqdm\n",
    "from warnings import warn\n",
    "\n",
    "from aif360.datasets import BinaryLabelDataset\n",
    "from aif360.datasets import StandardDataset\n",
    "from aif360.metrics import ClassificationMetric, BinaryLabelDatasetMetric\n",
    "from eq_odds_postprocessing import EqOddsPostprocessing\n",
    "from common_utils import compute_metrics\n",
    "\n",
    "from sklearn.linear_model import LogisticRegression\n",
    "from sklearn.preprocessing import StandardScaler\n",
    "from sklearn.metrics import accuracy_score\n",
    "\n",
    "from IPython.display import Markdown, display\n",
    "import matplotlib.pyplot as plt\n",
    "from ipywidgets import interactive, FloatSlider\n",
    "import pandas as pd\n",
    "import pickle\n",
    "from sklearn.linear_model import Lasso\n",
    "from random import sample"
   ]
  },
  {
   "cell_type": "markdown",
   "metadata": {},
   "source": [
    "## Huangrui's Dataset "
   ]
  },
  {
   "cell_type": "code",
   "execution_count": 9,
   "metadata": {},
   "outputs": [],
   "source": [
    "def code_continuous(df,collist,Nlevel):\n",
    "    for col in collist:\n",
    "        for q in range(1,Nlevel,1):\n",
    "            threshold = df[~np.isnan(df[col])][col].quantile(float(q)/Nlevel)\n",
    "            df[col+'_geq'+str(int(q))+'q'+str(threshold)] = (df[col] >= threshold).astype(float)\n",
    "    df.drop(collist,axis = 1, inplace = True)\n",
    "    \n",
    "class BankDataset(StandardDataset):\n",
    "    \"\"\"financial-inclusion-in-africa dataset.\n",
    "    \"\"\"\n",
    "\n",
    "    def __init__(self, path, label_name='y', favorable_classes=[1],  \n",
    "                 protected_attribute_names=['age'],\n",
    "                 privileged_classes=[[1]],\n",
    "                 instance_weights_name=None,\n",
    "                 categorical_features=[],\n",
    "                 features_to_drop=[],\n",
    "                 features_to_keep=[],\n",
    "                 na_values=[], custom_preprocessing=None,\n",
    "                 metadata=None):\n",
    "        \"\"\"See :obj:`RegressionDataset` for a description of the arguments.\"\"\"\n",
    "        \n",
    "\n",
    "        df = pd.read_csv(path)\n",
    "        df[\"cons.conf.idx\"] = -df[\"cons.conf.idx\"]\n",
    "        numericals = [col for col in df.columns if len(df[col].unique())>2 and max(df[col])>1]\n",
    "        code_continuous(df,numericals, 5)\n",
    "\n",
    "        super(BankDataset, self).__init__(\n",
    "            df=df, label_name=label_name,\n",
    "            favorable_classes=favorable_classes,\n",
    "            protected_attribute_names=protected_attribute_names,\n",
    "            privileged_classes=privileged_classes,\n",
    "            instance_weights_name=instance_weights_name,\n",
    "            categorical_features=categorical_features,\n",
    "            features_to_keep=features_to_keep,\n",
    "            features_to_drop=features_to_drop, na_values=na_values,\n",
    "            custom_preprocessing=custom_preprocessing, metadata=metadata)"
   ]
  },
  {
   "cell_type": "markdown",
   "metadata": {},
   "source": [
    "#### Load dataset and specify options"
   ]
  },
  {
   "cell_type": "code",
   "execution_count": 10,
   "metadata": {},
   "outputs": [],
   "source": [
    "privileged_groups = [{'age': 1}]\n",
    "unprivileged_groups = [{'age': 0}]\n",
    "\n",
    "# Metric used (should be one of allowed_metrics)\n",
    "metric_name = \"Equal opportunity difference\"\n",
    "        \n",
    "#random seed for calibrated equal odds prediction\n",
    "random_seed = 12345679\n",
    "np.random.seed(random_seed)\n",
    "# Verify metric name\n",
    "allowed_metrics = [\"Statistical parity difference\",\n",
    "                   \"Average odds difference\",\n",
    "                   \"Equal opportunity difference\"]\n",
    "if metric_name not in allowed_metrics:\n",
    "    raise ValueError(\"Metric name should be one of allowed metrics\")"
   ]
  },
  {
   "cell_type": "markdown",
   "metadata": {},
   "source": [
    "#### Split into train, test and validation"
   ]
  },
  {
   "cell_type": "code",
   "execution_count": 11,
   "metadata": {},
   "outputs": [
    {
     "name": "stdout",
     "output_type": "stream",
     "text": [
      "Fitted the EOP model\n",
      "Balanced accuracy = 0.6318\n",
      "Statistical parity difference = 0.0740\n",
      "Disparate impact = 2.2255\n",
      "Average odds difference = 0.0585\n",
      "Equal opportunity difference = 0.1017\n",
      "Theil index = 0.1053\n",
      "Balanced accuracy = 0.6236\n",
      "Statistical parity difference = -0.0013\n",
      "Disparate impact = 0.9792\n",
      "Average odds difference = -0.0778\n",
      "Equal opportunity difference = -0.1637\n",
      "Theil index = 0.1076\n",
      "K = 1, budget = 0.1\n",
      "The Error for the test dataset is 0.1179\n",
      "The Equal opportunity difference for the test dataset is -0.1637\n",
      "Fitted the EOP model\n",
      "Balanced accuracy = 0.6624\n",
      "Statistical parity difference = 0.1273\n",
      "Disparate impact = 2.9953\n",
      "Average odds difference = 0.1444\n",
      "Equal opportunity difference = 0.2313\n",
      "Theil index = 0.0952\n",
      "Balanced accuracy = 0.6558\n",
      "Statistical parity difference = 0.0212\n",
      "Disparate impact = 1.2273\n",
      "Average odds difference = -0.0147\n",
      "Equal opportunity difference = -0.0242\n",
      "Theil index = 0.1018\n",
      "K = 2, budget = 0.1\n",
      "The Error for the test dataset is 0.1281\n",
      "The Equal opportunity difference for the test dataset is -0.02421\n",
      "Fitted the EOP model\n",
      "Balanced accuracy = 0.6481\n",
      "Statistical parity difference = 0.1117\n",
      "Disparate impact = 2.9074\n",
      "Average odds difference = 0.1366\n",
      "Equal opportunity difference = 0.2282\n",
      "Theil index = 0.0990\n",
      "Balanced accuracy = 0.6284\n",
      "Statistical parity difference = -0.0283\n",
      "Disparate impact = 0.8354\n",
      "Average odds difference = -0.0165\n",
      "Equal opportunity difference = 0.0464\n",
      "Theil index = 0.1176\n",
      "K = 3, budget = 0.1\n",
      "The Error for the test dataset is 0.1978\n",
      "The Equal opportunity difference for the test dataset is 0.04636\n",
      "Fitted the EOP model\n",
      "Balanced accuracy = 0.6373\n",
      "Statistical parity difference = 0.1785\n",
      "Disparate impact = 4.3871\n",
      "Average odds difference = 0.1871\n",
      "Equal opportunity difference = 0.2429\n",
      "Theil index = 0.1014\n",
      "Balanced accuracy = 0.6279\n",
      "Statistical parity difference = 0.0203\n",
      "Disparate impact = 1.1731\n",
      "Average odds difference = 0.0145\n",
      "Equal opportunity difference = 0.0432\n",
      "Theil index = 0.1134\n",
      "K = 4, budget = 0.1\n",
      "The Error for the test dataset is 0.1581\n",
      "The Equal opportunity difference for the test dataset is 0.04316\n",
      "Fitted the EOP model\n",
      "Balanced accuracy = 0.6233\n",
      "Statistical parity difference = 0.1234\n",
      "Disparate impact = 3.4706\n",
      "Average odds difference = 0.1483\n",
      "Equal opportunity difference = 0.2433\n",
      "Theil index = 0.1022\n",
      "Balanced accuracy = 0.6210\n",
      "Statistical parity difference = 0.0246\n",
      "Disparate impact = 1.1868\n",
      "Average odds difference = 0.0473\n",
      "Equal opportunity difference = 0.1379\n",
      "Theil index = 0.1141\n",
      "K = 5, budget = 0.1\n",
      "The Error for the test dataset is 0.1704\n",
      "The Equal opportunity difference for the test dataset is 0.1379\n"
     ]
    }
   ],
   "source": [
    "experiments_info = {}\n",
    "bef_experiments_info = {}\n",
    "budget = 0.1\n",
    "for K in range(1, 6):\n",
    "    dataset_orig_train= BankDataset(path=\"./Huangrui/bank/bank_train{}.csv\".format(K))\n",
    "    dataset_orig_test= BankDataset(path=\"./Huangrui/bank/bank_test{}.csv\".format(K))\n",
    "    #only use the budget% of the training data\n",
    "    dataset_orig_train,_ = dataset_orig_train.split([budget], shuffle=False)\n",
    "    # Lasso linear classifier and predictions\n",
    "    X_train = dataset_orig_train.features\n",
    "    y_train = dataset_orig_train.labels.ravel()\n",
    "    lmod = pickle.load(open('experiments/bank'+str(K)+'_age_bmodel.pkl','rb'))[\"clf\"]\n",
    "   \n",
    "    y_train_pred = lmod.predict(X_train)\n",
    "\n",
    "    dataset_orig_train_pred = dataset_orig_train.copy(deepcopy=True)\n",
    "    dataset_orig_train_pred.labels = y_train_pred>0.5\n",
    "    sigmoid = lambda x: 1 / (1 + np.exp(0.5-x))\n",
    "    dataset_orig_train_pred.scores = sigmoid(y_train_pred).reshape(-1,1)\n",
    "\n",
    "\n",
    "    dataset_orig_test_pred = dataset_orig_test.copy(deepcopy=True)\n",
    "    X_test = dataset_orig_test.features\n",
    "    y_test = dataset_orig_test.labels\n",
    "    y_test_pred = lmod.predict(X_test)\n",
    "    dataset_orig_test_pred.scores = sigmoid(lmod.predict(X_test)).reshape(-1,1)\n",
    "    dataset_orig_test_pred.labels = (y_test_pred>0.5).reshape(-1,1)\n",
    "    #load EOP Model\n",
    "    EOP = EqOddsPostprocessing(unprivileged_groups=unprivileged_groups, privileged_groups=privileged_groups, seed=random_seed)\n",
    "    #fit EOP model\n",
    "    EOP = EOP.fit(dataset_orig_train, dataset_orig_train_pred)\n",
    "    print(\"Fitted the EOP model\")\n",
    "    # get the EOP predictions for test (Transform the test set)\n",
    "    dataset_transf_test_pred = EOP.predict(dataset_orig_test_pred)\n",
    "    metric_test_bef = compute_metrics(dataset_orig_test, dataset_orig_test_pred, \n",
    "                    unprivileged_groups, privileged_groups)\n",
    "    metric_test_aft = compute_metrics(dataset_orig_test, dataset_transf_test_pred, \n",
    "                    unprivileged_groups, privileged_groups)\n",
    "\n",
    "    #自己计算error, 不是balanced accuracy！！！\n",
    "    print(\"K = {}, budget = {}\".format(K, budget))\n",
    "    print(\"The Error for the test dataset is {:.4}\".format(np.mean(dataset_orig_test.labels!=dataset_transf_test_pred.labels)))\n",
    "    print(\"The Equal opportunity difference for the test dataset is {:.4}\".format(metric_test_aft[\"Equal opportunity difference\"]))\n",
    "    experiments_info[\"K = {}, budget = {}\".format(K, budget)] = {\"Error\": np.mean(dataset_orig_test.labels!=dataset_transf_test_pred.labels), \"Equal opportunity difference\": metric_test_aft[\"Equal opportunity difference\"]}\n",
    "    bef_experiments_info[\"K = {}, budget = {}\".format(K, budget)] = {\"Error\": np.mean(dataset_orig_test.labels!=dataset_orig_test_pred.labels), \"Equal opportunity difference\": metric_test_bef[\"Equal opportunity difference\"]}"
   ]
  },
  {
   "cell_type": "code",
   "execution_count": 12,
   "metadata": {},
   "outputs": [
    {
     "data": {
      "text/plain": [
       "{'K = 1, budget = 0.1': {'Error': 0.11595866819747416,\n",
       "  'Equal opportunity difference': 0.10165155980648388},\n",
       " 'K = 2, budget = 0.1': {'Error': 0.10511643161692358,\n",
       "  'Equal opportunity difference': 0.23134759976865238},\n",
       " 'K = 3, budget = 0.1': {'Error': 0.10774024270252541,\n",
       "  'Equal opportunity difference': 0.2281614528101803},\n",
       " 'K = 4, budget = 0.1': {'Error': 0.10888816005247622,\n",
       "  'Equal opportunity difference': 0.24292527821939586},\n",
       " 'K = 5, budget = 0.1': {'Error': 0.11005412497949811,\n",
       "  'Equal opportunity difference': 0.24330042313117067}}"
      ]
     },
     "execution_count": 12,
     "metadata": {},
     "output_type": "execute_result"
    }
   ],
   "source": [
    "bef_experiments_info"
   ]
  },
  {
   "cell_type": "code",
   "execution_count": 13,
   "metadata": {},
   "outputs": [
    {
     "data": {
      "text/plain": [
       "{'K = 1, budget = 0.1': {'Error': 0.11792684927013285,\n",
       "  'Equal opportunity difference': -0.1636545626424957},\n",
       " 'K = 2, budget = 0.1': {'Error': 0.12807477861593966,\n",
       "  'Equal opportunity difference': -0.02421438210911897},\n",
       " 'K = 3, budget = 0.1': {'Error': 0.19776976057723844,\n",
       "  'Equal opportunity difference': 0.046361346765641576},\n",
       " 'K = 4, budget = 0.1': {'Error': 0.15808461790751066,\n",
       "  'Equal opportunity difference': 0.043163751987281396},\n",
       " 'K = 5, budget = 0.1': {'Error': 0.17041167787436445,\n",
       "  'Equal opportunity difference': 0.13790550070521862}}"
      ]
     },
     "execution_count": 13,
     "metadata": {},
     "output_type": "execute_result"
    }
   ],
   "source": [
    "experiments_info"
   ]
  },
  {
   "cell_type": "markdown",
   "metadata": {},
   "source": [
    "# For budget =0.01, do it seperately"
   ]
  },
  {
   "cell_type": "code",
   "execution_count": 14,
   "metadata": {},
   "outputs": [],
   "source": [
    "experiments_info = {}"
   ]
  },
  {
   "cell_type": "code",
   "execution_count": 27,
   "metadata": {},
   "outputs": [
    {
     "name": "stdout",
     "output_type": "stream",
     "text": [
      "Fitted the EOP model\n",
      "Balanced accuracy = 0.6318\n",
      "Statistical parity difference = 0.0740\n",
      "Disparate impact = 2.2255\n",
      "Average odds difference = 0.0585\n",
      "Equal opportunity difference = 0.1017\n",
      "Theil index = 0.1053\n",
      "Balanced accuracy = 0.6291\n",
      "Statistical parity difference = 0.0633\n",
      "Disparate impact = 2.0474\n",
      "Average odds difference = 0.0250\n",
      "Equal opportunity difference = 0.0200\n",
      "Theil index = 0.1061\n",
      "K = 1, budget = 0.01\n",
      "The Error for the test dataset is 0.1169\n",
      "The Equal opportunity difference for the test dataset is 0.02002\n"
     ]
    }
   ],
   "source": [
    "budget = 0.01\n",
    "K = 1\n",
    "dataset_orig_train= BankDataset(path=\"./Huangrui/bank/bank_train{}.csv\".format(K))\n",
    "dataset_orig_test= BankDataset(path=\"./Huangrui/bank/bank_test{}.csv\".format(K))\n",
    "#only use the budget% of the training data\n",
    "dataset_orig_train,_ = dataset_orig_train.split([budget], shuffle=True)\n",
    "# Lasso linear classifier and predictions\n",
    "X_train = dataset_orig_train.features\n",
    "y_train = dataset_orig_train.labels.ravel()\n",
    "lmod = pickle.load(open('experiments/bank'+str(K)+'_age_bmodel.pkl','rb'))[\"clf\"]\n",
    "\n",
    "y_train_pred = lmod.predict(X_train)\n",
    "\n",
    "dataset_orig_train_pred = dataset_orig_train.copy(deepcopy=True)\n",
    "dataset_orig_train_pred.labels = y_train_pred>0.5\n",
    "sigmoid = lambda x: 1 / (1 + np.exp(0.5-x))\n",
    "dataset_orig_train_pred.scores = sigmoid(y_train_pred).reshape(-1,1)\n",
    "\n",
    "\n",
    "dataset_orig_test_pred = dataset_orig_test.copy(deepcopy=True)\n",
    "X_test = dataset_orig_test.features\n",
    "y_test = dataset_orig_test.labels\n",
    "y_test_pred = lmod.predict(X_test)\n",
    "dataset_orig_test_pred.scores = sigmoid(lmod.predict(X_test)).reshape(-1,1)\n",
    "dataset_orig_test_pred.labels = (y_test_pred>0.5).reshape(-1,1)\n",
    "#load EOP Model\n",
    "EOP = EqOddsPostprocessing(unprivileged_groups=unprivileged_groups, privileged_groups=privileged_groups, seed=random_seed)\n",
    "#fit EOP model\n",
    "EOP = EOP.fit(dataset_orig_train, dataset_orig_train_pred)\n",
    "print(\"Fitted the EOP model\")\n",
    "# get the EOP predictions for test (Transform the test set)\n",
    "dataset_transf_test_pred = EOP.predict(dataset_orig_test_pred)\n",
    "metric_test_bef = compute_metrics(dataset_orig_test, dataset_orig_test_pred, \n",
    "                unprivileged_groups, privileged_groups)\n",
    "metric_test_aft = compute_metrics(dataset_orig_test, dataset_transf_test_pred, \n",
    "                unprivileged_groups, privileged_groups)\n",
    "\n",
    "#自己计算error, 不是balanced accuracy！！！\n",
    "print(\"K = {}, budget = {}\".format(K, budget))\n",
    "print(\"The Error for the test dataset is {:.4}\".format(np.mean(dataset_orig_test.labels!=dataset_transf_test_pred.labels)))\n",
    "print(\"The Equal opportunity difference for the test dataset is {:.4}\".format(metric_test_aft[\"Equal opportunity difference\"]))\n",
    "experiments_info[\"K = {}, budget = {}\".format(K, budget)] = {\"Error\": np.mean(dataset_orig_test.labels!=dataset_transf_test_pred.labels), \"Equal opportunity difference\": metric_test_aft[\"Equal opportunity difference\"]}\n",
    "bef_experiments_info[\"K = {}, budget = {}\".format(K, budget)] = {\"Error\": np.mean(dataset_orig_test.labels!=dataset_orig_test_pred.labels), \"Equal opportunity difference\": metric_test_bef[\"Equal opportunity difference\"]}"
   ]
  },
  {
   "cell_type": "code",
   "execution_count": 28,
   "metadata": {},
   "outputs": [
    {
     "data": {
      "text/plain": [
       "{'K = 1, budget = 0.01': {'Error': 0.11694275873380351,\n",
       "  'Equal opportunity difference': 0.020018906745259413},\n",
       " 'K = 2, budget = 0.01': {'Error': 0.138570022958347,\n",
       "  'Equal opportunity difference': -0.14524773472141891},\n",
       " 'K = 3, budget = 0.01': {'Error': 0.3832404066907183,\n",
       "  'Equal opportunity difference': -0.3524986744432662},\n",
       " 'K = 4, budget = 0.01': {'Error': 0.427189242374549,\n",
       "  'Equal opportunity difference': -0.3728139904610493},\n",
       " 'K = 5, budget = 0.01': {'Error': 0.14843365589634247,\n",
       "  'Equal opportunity difference': -0.15747531734837802}}"
      ]
     },
     "execution_count": 28,
     "metadata": {},
     "output_type": "execute_result"
    }
   ],
   "source": [
    "experiments_info"
   ]
  }
 ],
 "metadata": {
  "kernelspec": {
   "display_name": "Python 3",
   "language": "python",
   "name": "python3"
  },
  "language_info": {
   "codemirror_mode": {
    "name": "ipython",
    "version": 3
   },
   "file_extension": ".py",
   "mimetype": "text/x-python",
   "name": "python",
   "nbconvert_exporter": "python",
   "pygments_lexer": "ipython3",
   "version": "3.9.13"
  }
 },
 "nbformat": 4,
 "nbformat_minor": 2
}
