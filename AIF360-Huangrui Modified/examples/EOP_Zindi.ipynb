{
 "cells": [
  {
   "cell_type": "markdown",
   "metadata": {},
   "source": [
    "#### This notebook demonstrates the use of the EOP post-processing algorithm for bias mitigation.\n"
   ]
  },
  {
   "cell_type": "code",
   "execution_count": 37,
   "metadata": {},
   "outputs": [],
   "source": [
    "%matplotlib inline\n",
    "# Load all necessary packages\n",
    "import sys\n",
    "sys.path.append(\"../\")\n",
    "import numpy as np\n",
    "from tqdm import tqdm\n",
    "from warnings import warn\n",
    "\n",
    "from aif360.datasets import BinaryLabelDataset\n",
    "from aif360.datasets import StandardDataset\n",
    "from aif360.metrics import ClassificationMetric, BinaryLabelDatasetMetric\n",
    "from eq_odds_postprocessing import EqOddsPostprocessing\n",
    "from common_utils import compute_metrics\n",
    "\n",
    "from sklearn.linear_model import LogisticRegression\n",
    "from sklearn.preprocessing import StandardScaler\n",
    "from sklearn.metrics import accuracy_score\n",
    "\n",
    "from IPython.display import Markdown, display\n",
    "import matplotlib.pyplot as plt\n",
    "from ipywidgets import interactive, FloatSlider\n",
    "import pandas as pd\n",
    "import pickle\n",
    "from sklearn.linear_model import Lasso\n",
    "from random import sample"
   ]
  },
  {
   "cell_type": "markdown",
   "metadata": {},
   "source": [
    "## Huangrui's Dataset "
   ]
  },
  {
   "cell_type": "code",
   "execution_count": 38,
   "metadata": {},
   "outputs": [],
   "source": [
    "def code_continuous(df,collist,Nlevel):\n",
    "    for col in collist:\n",
    "        for q in range(1,Nlevel,1):\n",
    "            threshold = df[~np.isnan(df[col])][col].quantile(float(q)/Nlevel)\n",
    "            df[col+'_geq'+str(int(q))+'q'+str(threshold)] = (df[col] >= threshold).astype(float)\n",
    "    df.drop(collist,axis = 1, inplace = True)\n",
    "    \n",
    "class Zindi(StandardDataset):\n",
    "    \"\"\"financial-inclusion-in-africa dataset.\n",
    "    \"\"\"\n",
    "\n",
    "    def __init__(self, path, label_name='Y', favorable_classes=[1],  \n",
    "                 protected_attribute_names=['sex'],\n",
    "                 privileged_classes=[[1]],\n",
    "                 instance_weights_name=None,\n",
    "                 categorical_features=[],\n",
    "                 features_to_drop=[],\n",
    "                 features_to_keep=[],\n",
    "                 na_values=[], custom_preprocessing=None,\n",
    "                 metadata=None):\n",
    "        \"\"\"See :obj:`RegressionDataset` for a description of the arguments.\"\"\"\n",
    "        \n",
    "\n",
    "        df = pd.read_csv(path)\n",
    "        numericals = [col for col in df.columns if len(df[col].unique())>2 and max(df[col])>1]\n",
    "        code_continuous(df,numericals, 5)\n",
    "\n",
    "        super(Zindi, self).__init__(\n",
    "            df=df, label_name=label_name,\n",
    "            favorable_classes=favorable_classes,\n",
    "            protected_attribute_names=protected_attribute_names,\n",
    "            privileged_classes=privileged_classes,\n",
    "            instance_weights_name=instance_weights_name,\n",
    "            categorical_features=categorical_features,\n",
    "            features_to_keep=features_to_keep,\n",
    "            features_to_drop=features_to_drop, na_values=na_values,\n",
    "            custom_preprocessing=custom_preprocessing, metadata=metadata)"
   ]
  },
  {
   "cell_type": "markdown",
   "metadata": {},
   "source": [
    "#### Load dataset and specify options"
   ]
  },
  {
   "cell_type": "code",
   "execution_count": 39,
   "metadata": {},
   "outputs": [],
   "source": [
    "privileged_groups = [{'sex': 1}]\n",
    "unprivileged_groups = [{'sex': 0}]\n",
    "# Metric used (should be one of allowed_metrics)\n",
    "metric_name = \"Equal opportunity difference\"\n",
    "#random seed for calibrated equal odds prediction\n",
    "random_seed = 12345679\n",
    "np.random.seed(random_seed)\n",
    "# Verify metric name\n",
    "allowed_metrics = [\"Statistical parity difference\",\n",
    "                   \"Average odds difference\",\n",
    "                   \"Equal opportunity difference\"]\n",
    "if metric_name not in allowed_metrics:\n",
    "    raise ValueError(\"Metric name should be one of allowed metrics\")"
   ]
  },
  {
   "cell_type": "markdown",
   "metadata": {},
   "source": [
    "#### Split into train, test and validation"
   ]
  },
  {
   "cell_type": "code",
   "execution_count": 47,
   "metadata": {},
   "outputs": [
    {
     "name": "stdout",
     "output_type": "stream",
     "text": [
      "Fitted the EOP model\n",
      "Balanced accuracy = 0.5726\n",
      "Statistical parity difference = -0.0372\n",
      "Disparate impact = 0.3022\n",
      "Average odds difference = -0.0625\n",
      "Equal opportunity difference = -0.1179\n",
      "Theil index = 0.1327\n",
      "Balanced accuracy = 0.5631\n",
      "Statistical parity difference = -0.0488\n",
      "Disparate impact = 0.1631\n",
      "Average odds difference = -0.0886\n",
      "Equal opportunity difference = -0.1612\n",
      "Theil index = 0.1360\n",
      "K = 1, budget = 0.01\n",
      "The Error for the test dataset is 0.1335\n",
      "The Equal opportunity difference for the test dataset is -0.1612\n",
      "Fitted the EOP model\n",
      "Balanced accuracy = 0.6481\n",
      "Statistical parity difference = -0.0485\n",
      "Disparate impact = 0.4949\n",
      "Average odds difference = -0.0426\n",
      "Equal opportunity difference = -0.0600\n",
      "Theil index = 0.1091\n",
      "Balanced accuracy = 0.6292\n",
      "Statistical parity difference = -0.0317\n",
      "Disparate impact = 0.5998\n",
      "Average odds difference = -0.0023\n",
      "Equal opportunity difference = 0.0167\n",
      "Theil index = 0.1148\n",
      "K = 2, budget = 0.01\n",
      "The Error for the test dataset is 0.1216\n",
      "The Equal opportunity difference for the test dataset is 0.01669\n",
      "Fitted the EOP model\n",
      "Balanced accuracy = 0.6168\n",
      "Statistical parity difference = -0.0409\n",
      "Disparate impact = 0.4405\n",
      "Average odds difference = -0.0454\n",
      "Equal opportunity difference = -0.0836\n",
      "Theil index = 0.1157\n",
      "Balanced accuracy = 0.4692\n",
      "Statistical parity difference = -0.0276\n",
      "Disparate impact = 0.9696\n",
      "Average odds difference = -0.0943\n",
      "Equal opportunity difference = -0.1789\n",
      "Theil index = 0.0517\n",
      "K = 3, budget = 0.01\n",
      "The Error for the test dataset is 0.7981\n",
      "The Equal opportunity difference for the test dataset is -0.1789\n",
      "Fitted the EOP model\n",
      "Balanced accuracy = 0.6001\n",
      "Statistical parity difference = -0.0419\n",
      "Disparate impact = 0.3519\n",
      "Average odds difference = -0.0618\n",
      "Equal opportunity difference = -0.1108\n",
      "Theil index = 0.1174\n",
      "Balanced accuracy = 0.5875\n",
      "Statistical parity difference = -0.0057\n",
      "Disparate impact = 0.8948\n",
      "Average odds difference = -0.0201\n",
      "Equal opportunity difference = -0.0593\n",
      "Theil index = 0.1240\n",
      "K = 4, budget = 0.01\n",
      "The Error for the test dataset is 0.1318\n",
      "The Equal opportunity difference for the test dataset is -0.05935\n",
      "Fitted the EOP model\n",
      "Balanced accuracy = 0.6434\n",
      "Statistical parity difference = -0.0545\n",
      "Disparate impact = 0.4572\n",
      "Average odds difference = -0.0502\n",
      "Equal opportunity difference = -0.0747\n",
      "Theil index = 0.1148\n",
      "Balanced accuracy = 0.6270\n",
      "Statistical parity difference = -0.0562\n",
      "Disparate impact = 0.4393\n",
      "Average odds difference = -0.0782\n",
      "Equal opportunity difference = -0.1368\n",
      "Theil index = 0.1208\n",
      "K = 5, budget = 0.01\n",
      "The Error for the test dataset is 0.1301\n",
      "The Equal opportunity difference for the test dataset is -0.1368\n"
     ]
    }
   ],
   "source": [
    "experiments_info = {}\n",
    "bef_experiments_info = {}\n",
    "budget = 0.01\n",
    "for K in range(1, 6):\n",
    "    dataset_orig_train= Zindi(path=\"./Huangrui/zindi/zindi_train{}.csv\".format(K),protected_attribute_names=['sex'],\n",
    "                privileged_classes=[[1]])\n",
    "    dataset_orig_test= Zindi(path=\"./Huangrui/zindi/zindi_test{}.csv\".format(K),protected_attribute_names=['sex'],\n",
    "                privileged_classes=[[1]])\n",
    "    #only use the budget% of the training data\n",
    "    dataset_orig_train,_ = dataset_orig_train.split([budget], shuffle=False)\n",
    "    # Lasso linear classifier and predictions\n",
    "    X_train = dataset_orig_train.features\n",
    "    y_train = dataset_orig_train.labels.ravel()\n",
    "    lmod = pickle.load(open('experiments/zindi'+str(K)+'_sex_bmodel.pkl','rb'))[\"clf\"]\n",
    "   \n",
    "    y_train_pred = lmod.predict(X_train)\n",
    "\n",
    "    dataset_orig_train_pred = dataset_orig_train.copy(deepcopy=True)\n",
    "    dataset_orig_train_pred.labels = y_train_pred>0.5\n",
    "    sigmoid = lambda x: 1 / (1 + np.exp(0.5-x))\n",
    "    dataset_orig_train_pred.scores = sigmoid(y_train_pred).reshape(-1,1)\n",
    "\n",
    "\n",
    "    dataset_orig_test_pred = dataset_orig_test.copy(deepcopy=True)\n",
    "    X_test = dataset_orig_test.features\n",
    "    y_test = dataset_orig_test.labels\n",
    "    y_test_pred = lmod.predict(X_test)\n",
    "    dataset_orig_test_pred.scores = sigmoid(lmod.predict(X_test)).reshape(-1,1)\n",
    "    dataset_orig_test_pred.labels = (y_test_pred>0.5).reshape(-1,1)\n",
    "    #load EOP Model\n",
    "    EOP = EqOddsPostprocessing(unprivileged_groups=unprivileged_groups, privileged_groups=privileged_groups, seed=random_seed)\n",
    "    #fit EOP model\n",
    "    EOP = EOP.fit(dataset_orig_train, dataset_orig_train_pred)\n",
    "    print(\"Fitted the EOP model\")\n",
    "    # get the EOP predictions for test (Transform the test set)\n",
    "    dataset_transf_test_pred = EOP.predict(dataset_orig_test_pred)\n",
    "    metric_test_bef = compute_metrics(dataset_orig_test, dataset_orig_test_pred, \n",
    "                    unprivileged_groups, privileged_groups)\n",
    "    metric_test_aft = compute_metrics(dataset_orig_test, dataset_transf_test_pred, \n",
    "                    unprivileged_groups, privileged_groups)\n",
    "\n",
    "    #自己计算error, 不是balanced accuracy！！！\n",
    "    print(\"K = {}, budget = {}\".format(K, budget))\n",
    "    print(\"The Error for the test dataset is {:.4}\".format(np.mean(dataset_orig_test.labels!=dataset_transf_test_pred.labels)))\n",
    "    print(\"The Equal opportunity difference for the test dataset is {:.4}\".format(metric_test_aft[\"Equal opportunity difference\"]))\n",
    "    experiments_info[\"K = {}, budget = {}\".format(K, budget)] = {\"Error\": np.mean(dataset_orig_test.labels!=dataset_transf_test_pred.labels), \"Equal opportunity difference\": metric_test_aft[\"Equal opportunity difference\"]}\n",
    "    bef_experiments_info[\"K = {}, budget = {}\".format(K, budget)] = {\"Error\": np.mean(dataset_orig_test.labels!=dataset_orig_test_pred.labels), \"Equal opportunity difference\": metric_test_bef[\"Equal opportunity difference\"]}"
   ]
  },
  {
   "cell_type": "code",
   "execution_count": 48,
   "metadata": {},
   "outputs": [
    {
     "data": {
      "text/plain": [
       "{'K = 1, budget = 0.01': {'Error': 0.13010204081632654,\n",
       "  'Equal opportunity difference': -0.11790285526747622},\n",
       " 'K = 2, budget = 0.01': {'Error': 0.11732199787460149,\n",
       "  'Equal opportunity difference': -0.06001077655095577},\n",
       " 'K = 3, budget = 0.01': {'Error': 0.1179596174282678,\n",
       "  'Equal opportunity difference': -0.08358662613981763},\n",
       " 'K = 4, budget = 0.01': {'Error': 0.1179596174282678,\n",
       "  'Equal opportunity difference': -0.11075930342077311},\n",
       " 'K = 5, budget = 0.01': {'Error': 0.1226354941551541,\n",
       "  'Equal opportunity difference': -0.07465328001361354}}"
      ]
     },
     "execution_count": 48,
     "metadata": {},
     "output_type": "execute_result"
    }
   ],
   "source": [
    "bef_experiments_info"
   ]
  },
  {
   "cell_type": "code",
   "execution_count": 49,
   "metadata": {},
   "outputs": [
    {
     "data": {
      "text/plain": [
       "{'K = 1, budget = 0.01': {'Error': 0.13350340136054423,\n",
       "  'Equal opportunity difference': -0.16122415490646538},\n",
       " 'K = 2, budget = 0.01': {'Error': 0.12157279489904357,\n",
       "  'Equal opportunity difference': 0.01668538864078467},\n",
       " 'K = 3, budget = 0.01': {'Error': 0.798087141339001,\n",
       "  'Equal opportunity difference': -0.17885339603525074},\n",
       " 'K = 4, budget = 0.01': {'Error': 0.13177470775770456,\n",
       "  'Equal opportunity difference': -0.05934750806597061},\n",
       " 'K = 5, budget = 0.01': {'Error': 0.13007438894792775,\n",
       "  'Equal opportunity difference': -0.13676508125584957}}"
      ]
     },
     "execution_count": 49,
     "metadata": {},
     "output_type": "execute_result"
    }
   ],
   "source": [
    "experiments_info"
   ]
  }
 ],
 "metadata": {
  "kernelspec": {
   "display_name": "Python 3",
   "language": "python",
   "name": "python3"
  },
  "language_info": {
   "codemirror_mode": {
    "name": "ipython",
    "version": 3
   },
   "file_extension": ".py",
   "mimetype": "text/x-python",
   "name": "python",
   "nbconvert_exporter": "python",
   "pygments_lexer": "ipython3",
   "version": "3.9.13"
  }
 },
 "nbformat": 4,
 "nbformat_minor": 2
}
