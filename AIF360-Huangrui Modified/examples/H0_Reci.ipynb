{
 "cells": [
  {
   "cell_type": "code",
   "execution_count": 9,
   "metadata": {},
   "outputs": [],
   "source": [
    "%matplotlib inline\n",
    "# Load all necessary packages\n",
    "import sys\n",
    "sys.path.append(\"../\")\n",
    "import numpy as np\n",
    "from tqdm import tqdm\n",
    "from warnings import warn\n",
    "\n",
    "from aif360.datasets import BinaryLabelDataset\n",
    "from aif360.datasets import StandardDataset\n",
    "from aif360.metrics import ClassificationMetric, BinaryLabelDatasetMetric\n",
    "from eq_odds_postprocessing import EqOddsPostprocessing\n",
    "from common_utils import compute_metrics\n",
    "\n",
    "from sklearn.linear_model import LogisticRegression\n",
    "from sklearn.preprocessing import StandardScaler\n",
    "from sklearn.metrics import accuracy_score\n",
    "\n",
    "from IPython.display import Markdown, display\n",
    "import matplotlib.pyplot as plt\n",
    "from ipywidgets import interactive, FloatSlider\n",
    "import pandas as pd\n",
    "import pickle\n",
    "from sklearn.linear_model import Lasso\n",
    "from random import sample"
   ]
  },
  {
   "cell_type": "markdown",
   "metadata": {},
   "source": [
    "## Huangrui's Dataset "
   ]
  },
  {
   "cell_type": "code",
   "execution_count": 10,
   "metadata": {},
   "outputs": [],
   "source": [
    "default_mappings = {\n",
    "    #Huangrui flip the lable\n",
    "    'label_maps': [{0: 'Did recid.', 1: 'No recid.'}],\n",
    "    'protected_attribute_maps': [{0.0: 'Male', 1.0: 'Female'},\n",
    "                                 {1.0: 'Caucasian', 0.0: 'Not Caucasian'}]\n",
    "}\n",
    "def code_continuous(df,collist,Nlevel):\n",
    "    for col in collist:\n",
    "        for q in range(1,Nlevel,1):\n",
    "            threshold = df[~np.isnan(df[col])][col].quantile(float(q)/Nlevel)\n",
    "            df[col+'_geq'+str(int(q))+'q'+str(threshold)] = (df[col] >= threshold).astype(float)\n",
    "    df.drop(collist,axis = 1, inplace = True)\n",
    "class CompasDataset(StandardDataset):\n",
    "    \"\"\"ProPublica COMPAS Dataset.\n",
    "\n",
    "    See :file:`aif360/data/raw/compas/README.md`.\n",
    "    \"\"\"\n",
    "\n",
    "    def __init__(self, label_name='Y', favorable_classes=[1],\n",
    "                 protected_attribute_names=['sex'],\n",
    "                 privileged_classes=[[1]],\n",
    "                 instance_weights_name=None,\n",
    "                 categorical_features=[],\n",
    "                 features_to_keep=[],\n",
    "                 features_to_drop=[], na_values=[],\n",
    "                 custom_preprocessing=None,\n",
    "                 metadata=default_mappings,\n",
    "                 path='./Huangrui/recidivism/recidivism_test1.csv'):\n",
    "\n",
    "    \n",
    "        df = pd.read_csv(path,index_col=False)\n",
    "        df.rename(columns={'Probationerssex_Female': 'sex'}, inplace=True)\n",
    "        df.drop([\"Probationerssex_Male\",\"Probationerssex_Notascertained\"], axis=1, inplace=True)\n",
    "        numericals = [col for col in df.columns if len(df[col].unique())>2 and max(df[col])>1]\n",
    "        code_continuous(df,numericals, 5)\n",
    "        #flip the Y lable to 0: recid, 1: no recid\n",
    "        df[\"Y\"] = [1 if x == 0 else 0 for x in df[\"Y\"]]\n",
    "        \n",
    "        super(CompasDataset, self).__init__(df=df, label_name=label_name,\n",
    "            favorable_classes=favorable_classes,\n",
    "            protected_attribute_names=protected_attribute_names,\n",
    "            privileged_classes=privileged_classes,\n",
    "            instance_weights_name=instance_weights_name,\n",
    "            categorical_features=categorical_features,\n",
    "            features_to_keep=features_to_keep,\n",
    "            features_to_drop=features_to_drop, na_values=na_values,\n",
    "            custom_preprocessing=custom_preprocessing, metadata=metadata)\n"
   ]
  },
  {
   "cell_type": "code",
   "execution_count": null,
   "metadata": {},
   "outputs": [],
   "source": []
  },
  {
   "cell_type": "markdown",
   "metadata": {},
   "source": [
    "#### Load dataset and specify options"
   ]
  },
  {
   "cell_type": "code",
   "execution_count": 11,
   "metadata": {},
   "outputs": [],
   "source": [
    "privileged_groups = [{'sex': 1}]\n",
    "unprivileged_groups = [{'sex': 0}]\n",
    "# Metric used (should be one of allowed_metrics)\n",
    "metric_name = \"Equal opportunity difference\"\n",
    "#random seed for calibrated equal odds prediction\n",
    "random_seed = 12345679\n",
    "np.random.seed(random_seed)\n",
    "# Verify metric name\n",
    "allowed_metrics = [\"Statistical parity difference\",\n",
    "                   \"Average odds difference\",\n",
    "                   \"Equal opportunity difference\"]\n",
    "if metric_name not in allowed_metrics:\n",
    "    raise ValueError(\"Metric name should be one of allowed metrics\")"
   ]
  },
  {
   "cell_type": "markdown",
   "metadata": {},
   "source": [
    "#### Split into train, test and validation"
   ]
  },
  {
   "cell_type": "code",
   "execution_count": 12,
   "metadata": {},
   "outputs": [
    {
     "name": "stderr",
     "output_type": "stream",
     "text": [
      "C:\\edb\\languagepack\\v2\\Python-3.9\\lib\\site-packages\\sklearn\\base.py:348: InconsistentVersionWarning: Trying to unpickle estimator Lasso from version 0.22.1 when using version 1.3.2. This might lead to breaking code or invalid results. Use at your own risk. For more info please refer to:\n",
      "https://scikit-learn.org/stable/model_persistence.html#security-maintainability-limitations\n",
      "  warnings.warn(\n",
      "C:\\edb\\languagepack\\v2\\Python-3.9\\lib\\site-packages\\sklearn\\base.py:458: UserWarning: X has feature names, but Lasso was fitted without feature names\n",
      "  warnings.warn(\n"
     ]
    },
    {
     "name": "stdout",
     "output_type": "stream",
     "text": [
      "Balanced accuracy = 0.6859\n",
      "Statistical parity difference = -0.0837\n",
      "Disparate impact = 0.8973\n",
      "Average odds difference = -0.0453\n",
      "Equal opportunity difference = -0.0002\n",
      "Theil index = 0.1217\n",
      "K = 1, budget = 1\n",
      "The Error for the test dataset is 0.2687\n",
      "The Equal opportunity difference for the test dataset is -0.0001884\n"
     ]
    },
    {
     "name": "stderr",
     "output_type": "stream",
     "text": [
      "C:\\edb\\languagepack\\v2\\Python-3.9\\lib\\site-packages\\sklearn\\base.py:348: InconsistentVersionWarning: Trying to unpickle estimator Lasso from version 0.22.1 when using version 1.3.2. This might lead to breaking code or invalid results. Use at your own risk. For more info please refer to:\n",
      "https://scikit-learn.org/stable/model_persistence.html#security-maintainability-limitations\n",
      "  warnings.warn(\n",
      "C:\\edb\\languagepack\\v2\\Python-3.9\\lib\\site-packages\\sklearn\\base.py:458: UserWarning: X has feature names, but Lasso was fitted without feature names\n",
      "  warnings.warn(\n"
     ]
    },
    {
     "name": "stdout",
     "output_type": "stream",
     "text": [
      "Balanced accuracy = 0.7173\n",
      "Statistical parity difference = -0.1293\n",
      "Disparate impact = 0.8412\n",
      "Average odds difference = -0.0646\n",
      "Equal opportunity difference = -0.0721\n",
      "Theil index = 0.1275\n",
      "K = 2, budget = 1\n",
      "The Error for the test dataset is 0.2477\n",
      "The Equal opportunity difference for the test dataset is -0.07209\n"
     ]
    },
    {
     "name": "stderr",
     "output_type": "stream",
     "text": [
      "C:\\edb\\languagepack\\v2\\Python-3.9\\lib\\site-packages\\sklearn\\base.py:348: InconsistentVersionWarning: Trying to unpickle estimator Lasso from version 0.22.1 when using version 1.3.2. This might lead to breaking code or invalid results. Use at your own risk. For more info please refer to:\n",
      "https://scikit-learn.org/stable/model_persistence.html#security-maintainability-limitations\n",
      "  warnings.warn(\n",
      "C:\\edb\\languagepack\\v2\\Python-3.9\\lib\\site-packages\\sklearn\\base.py:458: UserWarning: X has feature names, but Lasso was fitted without feature names\n",
      "  warnings.warn(\n"
     ]
    },
    {
     "name": "stdout",
     "output_type": "stream",
     "text": [
      "Balanced accuracy = 0.6851\n",
      "Statistical parity difference = -0.0480\n",
      "Disparate impact = 0.9069\n",
      "Average odds difference = 0.0012\n",
      "Equal opportunity difference = 0.0168\n",
      "Theil index = 0.3034\n",
      "K = 3, budget = 1\n",
      "The Error for the test dataset is 0.3302\n",
      "The Equal opportunity difference for the test dataset is 0.01683\n"
     ]
    },
    {
     "name": "stderr",
     "output_type": "stream",
     "text": [
      "C:\\edb\\languagepack\\v2\\Python-3.9\\lib\\site-packages\\sklearn\\base.py:348: InconsistentVersionWarning: Trying to unpickle estimator Lasso from version 0.22.1 when using version 1.3.2. This might lead to breaking code or invalid results. Use at your own risk. For more info please refer to:\n",
      "https://scikit-learn.org/stable/model_persistence.html#security-maintainability-limitations\n",
      "  warnings.warn(\n",
      "C:\\edb\\languagepack\\v2\\Python-3.9\\lib\\site-packages\\sklearn\\base.py:458: UserWarning: X has feature names, but Lasso was fitted without feature names\n",
      "  warnings.warn(\n"
     ]
    },
    {
     "name": "stdout",
     "output_type": "stream",
     "text": [
      "Balanced accuracy = 0.7069\n",
      "Statistical parity difference = -0.0663\n",
      "Disparate impact = 0.9091\n",
      "Average odds difference = -0.0426\n",
      "Equal opportunity difference = 0.0376\n",
      "Theil index = 0.1544\n",
      "K = 4, budget = 1\n",
      "The Error for the test dataset is 0.2649\n",
      "The Equal opportunity difference for the test dataset is 0.03763\n",
      "Balanced accuracy = 0.7308\n",
      "Statistical parity difference = -0.0780\n",
      "Disparate impact = 0.8969\n",
      "Average odds difference = -0.0367\n",
      "Equal opportunity difference = -0.0320\n",
      "Theil index = 0.1293\n",
      "K = 5, budget = 1\n",
      "The Error for the test dataset is 0.2384\n",
      "The Equal opportunity difference for the test dataset is -0.03203\n"
     ]
    },
    {
     "name": "stderr",
     "output_type": "stream",
     "text": [
      "C:\\edb\\languagepack\\v2\\Python-3.9\\lib\\site-packages\\sklearn\\base.py:348: InconsistentVersionWarning: Trying to unpickle estimator Lasso from version 0.22.1 when using version 1.3.2. This might lead to breaking code or invalid results. Use at your own risk. For more info please refer to:\n",
      "https://scikit-learn.org/stable/model_persistence.html#security-maintainability-limitations\n",
      "  warnings.warn(\n",
      "C:\\edb\\languagepack\\v2\\Python-3.9\\lib\\site-packages\\sklearn\\base.py:458: UserWarning: X has feature names, but Lasso was fitted without feature names\n",
      "  warnings.warn(\n"
     ]
    }
   ],
   "source": [
    "experiments_info = {}\n",
    "budget = 1\n",
    "for K in range(1, 6):\n",
    "    # dataset_orig_train= Zindi(path=\"./Huangrui/zindi/zindi_train{}.csv\".format(K),protected_attribute_names=['sex'],\n",
    "    #             privileged_classes=[[1]])\n",
    "    dataset_orig_test= CompasDataset(path=\"./Huangrui/recidivism/recidivism_test{}.csv\".format(K),protected_attribute_names=['sex'],\n",
    "                privileged_classes=[[1]])\n",
    "    # #only use the budget% of the training data\n",
    "    # dataset_orig_train,_ = dataset_orig_train.split([budget], shuffle=False)\n",
    "    # Lasso linear classifier and predictions\n",
    "    lmod = pickle.load(open('experiments/recidivism'+str(K)+'_sex_bmodel.pkl','rb'))[\"clf\"]\n",
    "   \n",
    "    dataset_orig_test_pred = dataset_orig_test.copy(deepcopy=True)\n",
    "    data= pickle.load(open(\"./experiments/recidivism{}_sex.pkl\".format(K), \"rb\"))\n",
    "    X_test = data[\"Xtest\"]\n",
    "    X_test[\"Probationerssex_Female\"] = [0]*X_test.shape[0]\n",
    "    y_test = dataset_orig_test_pred.labels\n",
    "    y_test_pred = lmod.predict(X_test)\n",
    "    #flip the lable\n",
    "    dataset_orig_test_pred.labels = (y_test_pred<0.5).reshape(-1,1)\n",
    "    metric_test = compute_metrics(dataset_orig_test, dataset_orig_test_pred, \n",
    "                                  unprivileged_groups, privileged_groups)\n",
    "   \n",
    "    #自己计算error, 不是balanced accuracy！！！\n",
    "    print(\"K = {}, budget = {}\".format(K, budget))\n",
    "    print(\"The Error for the test dataset is {:.4}\".format(np.mean(dataset_orig_test.labels!=dataset_orig_test_pred.labels)))\n",
    "    print(\"The Equal opportunity difference for the test dataset is {:.4}\".format(metric_test[\"Equal opportunity difference\"]))\n",
    "    experiments_info[\"K = {}, budget = {}\".format(K, budget)] = {\"Error\": np.mean(dataset_orig_test.labels!=dataset_orig_test_pred.labels), \"Equal opportunity difference\": metric_test[\"Equal opportunity difference\"]}"
   ]
  },
  {
   "cell_type": "code",
   "execution_count": 13,
   "metadata": {},
   "outputs": [
    {
     "data": {
      "text/plain": [
       "{'K = 1, budget = 1': {'Error': 0.2686695278969957,\n",
       "  'Equal opportunity difference': -0.000188422277463407},\n",
       " 'K = 2, budget = 1': {'Error': 0.24774581365392873,\n",
       "  'Equal opportunity difference': -0.07209356908152087},\n",
       " 'K = 3, budget = 1': {'Error': 0.3301846285959639,\n",
       "  'Equal opportunity difference': 0.01683322537861265},\n",
       " 'K = 4, budget = 1': {'Error': 0.2649205667668527,\n",
       "  'Equal opportunity difference': 0.03762792298357154},\n",
       " 'K = 5, budget = 1': {'Error': 0.23840206185567012,\n",
       "  'Equal opportunity difference': -0.03203099510603591}}"
      ]
     },
     "execution_count": 13,
     "metadata": {},
     "output_type": "execute_result"
    }
   ],
   "source": [
    "experiments_info"
   ]
  }
 ],
 "metadata": {
  "kernelspec": {
   "display_name": "Python 3",
   "language": "python",
   "name": "python3"
  },
  "language_info": {
   "codemirror_mode": {
    "name": "ipython",
    "version": 3
   },
   "file_extension": ".py",
   "mimetype": "text/x-python",
   "name": "python",
   "nbconvert_exporter": "python",
   "pygments_lexer": "ipython3",
   "version": "3.9.13"
  }
 },
 "nbformat": 4,
 "nbformat_minor": 2
}
