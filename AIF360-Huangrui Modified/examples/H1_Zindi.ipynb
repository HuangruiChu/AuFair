{
 "cells": [
  {
   "cell_type": "code",
   "execution_count": 1,
   "metadata": {},
   "outputs": [
    {
     "name": "stderr",
     "output_type": "stream",
     "text": [
      "WARNING:root:\n",
      "`load_boston` has been removed from scikit-learn since version 1.2.\n",
      "\n",
      "The Boston housing prices dataset has an ethical problem: as\n",
      "investigated in [1], the authors of this dataset engineered a\n",
      "non-invertible variable \"B\" assuming that racial self-segregation had a\n",
      "positive impact on house prices [2]. Furthermore the goal of the\n",
      "research that led to the creation of this dataset was to study the\n",
      "impact of air quality but it did not give adequate demonstration of the\n",
      "validity of this assumption.\n",
      "\n",
      "The scikit-learn maintainers therefore strongly discourage the use of\n",
      "this dataset unless the purpose of the code is to study and educate\n",
      "about ethical issues in data science and machine learning.\n",
      "\n",
      "In this special case, you can fetch the dataset from the original\n",
      "source::\n",
      "\n",
      "    import pandas as pd\n",
      "    import numpy as np\n",
      "\n",
      "    data_url = \"http://lib.stat.cmu.edu/datasets/boston\"\n",
      "    raw_df = pd.read_csv(data_url, sep=\"\\s+\", skiprows=22, header=None)\n",
      "    data = np.hstack([raw_df.values[::2, :], raw_df.values[1::2, :2]])\n",
      "    target = raw_df.values[1::2, 2]\n",
      "\n",
      "Alternative datasets include the California housing dataset and the\n",
      "Ames housing dataset. You can load the datasets as follows::\n",
      "\n",
      "    from sklearn.datasets import fetch_california_housing\n",
      "    housing = fetch_california_housing()\n",
      "\n",
      "for the California housing dataset and::\n",
      "\n",
      "    from sklearn.datasets import fetch_openml\n",
      "    housing = fetch_openml(name=\"house_prices\", as_frame=True)\n",
      "\n",
      "for the Ames housing dataset.\n",
      "\n",
      "[1] M Carlisle.\n",
      "\"Racist data destruction?\"\n",
      "<https://medium.com/@docintangible/racist-data-destruction-113e3eff54a8>\n",
      "\n",
      "[2] Harrison Jr, David, and Daniel L. Rubinfeld.\n",
      "\"Hedonic housing prices and the demand for clean air.\"\n",
      "Journal of environmental economics and management 5.1 (1978): 81-102.\n",
      "<https://www.researchgate.net/publication/4974606_Hedonic_housing_prices_and_the_demand_for_clean_air>\n",
      ": LawSchoolGPADataset will be unavailable. To install, run:\n",
      "pip install 'aif360[LawSchoolGPA]'\n",
      "WARNING:root:No module named 'tensorflow': AdversarialDebiasing will be unavailable. To install, run:\n",
      "pip install 'aif360[AdversarialDebiasing]'\n",
      "WARNING:root:No module named 'tensorflow': AdversarialDebiasing will be unavailable. To install, run:\n",
      "pip install 'aif360[AdversarialDebiasing]'\n"
     ]
    }
   ],
   "source": [
    "%matplotlib inline\n",
    "# Load all necessary packages\n",
    "import sys\n",
    "sys.path.append(\"../\")\n",
    "import numpy as np\n",
    "from tqdm import tqdm\n",
    "from warnings import warn\n",
    "\n",
    "from aif360.datasets import BinaryLabelDataset\n",
    "from aif360.datasets import StandardDataset\n",
    "from aif360.metrics import ClassificationMetric, BinaryLabelDatasetMetric\n",
    "from eq_odds_postprocessing import EqOddsPostprocessing\n",
    "from common_utils import compute_metrics\n",
    "\n",
    "from sklearn.linear_model import LogisticRegression\n",
    "from sklearn.preprocessing import StandardScaler\n",
    "from sklearn.metrics import accuracy_score\n",
    "\n",
    "from IPython.display import Markdown, display\n",
    "import matplotlib.pyplot as plt\n",
    "from ipywidgets import interactive, FloatSlider\n",
    "import pandas as pd\n",
    "import pickle\n",
    "from sklearn.linear_model import Lasso\n",
    "from random import sample"
   ]
  },
  {
   "cell_type": "markdown",
   "metadata": {},
   "source": [
    "## Huangrui's Dataset "
   ]
  },
  {
   "cell_type": "code",
   "execution_count": 2,
   "metadata": {},
   "outputs": [],
   "source": [
    "def code_continuous(df,collist,Nlevel):\n",
    "    for col in collist:\n",
    "        for q in range(1,Nlevel,1):\n",
    "            threshold = df[~np.isnan(df[col])][col].quantile(float(q)/Nlevel)\n",
    "            df[col+'_geq'+str(int(q))+'q'+str(threshold)] = (df[col] >= threshold).astype(float)\n",
    "    df.drop(collist,axis = 1, inplace = True)\n",
    "    \n",
    "class Zindi(StandardDataset):\n",
    "    \"\"\"financial-inclusion-in-africa dataset.\n",
    "    \"\"\"\n",
    "\n",
    "    def __init__(self, path, label_name='Y', favorable_classes=[1],  \n",
    "                 protected_attribute_names=['sex'],\n",
    "                 privileged_classes=[[1]],\n",
    "                 instance_weights_name=None,\n",
    "                 categorical_features=[],\n",
    "                 features_to_drop=[],\n",
    "                 features_to_keep=[],\n",
    "                 na_values=[], custom_preprocessing=None,\n",
    "                 metadata=None):\n",
    "        \"\"\"See :obj:`RegressionDataset` for a description of the arguments.\"\"\"\n",
    "        \n",
    "\n",
    "        df = pd.read_csv(path)\n",
    "        numericals = [col for col in df.columns if len(df[col].unique())>2 and max(df[col])>1]\n",
    "        code_continuous(df,numericals, 5)\n",
    "\n",
    "        super(Zindi, self).__init__(\n",
    "            df=df, label_name=label_name,\n",
    "            favorable_classes=favorable_classes,\n",
    "            protected_attribute_names=protected_attribute_names,\n",
    "            privileged_classes=privileged_classes,\n",
    "            instance_weights_name=instance_weights_name,\n",
    "            categorical_features=categorical_features,\n",
    "            features_to_keep=features_to_keep,\n",
    "            features_to_drop=features_to_drop, na_values=na_values,\n",
    "            custom_preprocessing=custom_preprocessing, metadata=metadata)"
   ]
  },
  {
   "cell_type": "markdown",
   "metadata": {},
   "source": [
    "#### Load dataset and specify options"
   ]
  },
  {
   "cell_type": "code",
   "execution_count": 3,
   "metadata": {},
   "outputs": [],
   "source": [
    "privileged_groups = [{'sex': 1}]\n",
    "unprivileged_groups = [{'sex': 0}]\n",
    "# Metric used (should be one of allowed_metrics)\n",
    "metric_name = \"Equal opportunity difference\"\n",
    "#random seed for calibrated equal odds prediction\n",
    "random_seed = 12345679\n",
    "np.random.seed(random_seed)\n",
    "# Verify metric name\n",
    "allowed_metrics = [\"Statistical parity difference\",\n",
    "                   \"Average odds difference\",\n",
    "                   \"Equal opportunity difference\"]\n",
    "if metric_name not in allowed_metrics:\n",
    "    raise ValueError(\"Metric name should be one of allowed metrics\")"
   ]
  },
  {
   "cell_type": "code",
   "execution_count": 4,
   "metadata": {},
   "outputs": [],
   "source": [
    "dataset_orig_train= Zindi(path=\"./Huangrui/zindi/zindi_train1.csv\",protected_attribute_names=['sex'],\n",
    "                privileged_classes=[[1]])"
   ]
  },
  {
   "cell_type": "markdown",
   "metadata": {},
   "source": [
    "#### Split into train, test and validation"
   ]
  },
  {
   "cell_type": "code",
   "execution_count": 5,
   "metadata": {},
   "outputs": [
    {
     "name": "stdout",
     "output_type": "stream",
     "text": [
      "Balanced accuracy = 0.5915\n",
      "Statistical parity difference = -0.0214\n",
      "Disparate impact = 0.5976\n",
      "Average odds difference = -0.0089\n",
      "Equal opportunity difference = -0.0168\n",
      "Theil index = 0.1272\n",
      "K = 1, budget = 1\n",
      "The Error for the test dataset is 0.1273\n",
      "The Equal opportunity difference for the test dataset is -0.01682\n",
      "Balanced accuracy = 0.6628\n",
      "Statistical parity difference = -0.0274\n",
      "Disparate impact = 0.7144\n",
      "Average odds difference = 0.0030\n",
      "Equal opportunity difference = 0.0174\n",
      "Theil index = 0.1059\n",
      "K = 2, budget = 1\n",
      "The Error for the test dataset is 0.1192\n",
      "The Equal opportunity difference for the test dataset is 0.01739\n",
      "Balanced accuracy = 0.6228\n",
      "Statistical parity difference = -0.0352\n",
      "Disparate impact = 0.5179\n",
      "Average odds difference = -0.0281\n",
      "Equal opportunity difference = -0.0517\n",
      "Theil index = 0.1142\n",
      "K = 3, budget = 1\n",
      "The Error for the test dataset is 0.1175\n",
      "The Equal opportunity difference for the test dataset is -0.05167\n",
      "Balanced accuracy = 0.6182\n",
      "Statistical parity difference = -0.0254\n",
      "Disparate impact = 0.6074\n",
      "Average odds difference = -0.0111\n",
      "Equal opportunity difference = -0.0172\n",
      "Theil index = 0.1128\n",
      "K = 4, budget = 1\n",
      "The Error for the test dataset is 0.1165\n",
      "The Equal opportunity difference for the test dataset is -0.01723\n",
      "Balanced accuracy = 0.6543\n",
      "Statistical parity difference = -0.0416\n",
      "Disparate impact = 0.5858\n",
      "Average odds difference = -0.0186\n",
      "Equal opportunity difference = -0.0188\n",
      "Theil index = 0.1119\n",
      "K = 5, budget = 1\n",
      "The Error for the test dataset is 0.1226\n",
      "The Equal opportunity difference for the test dataset is -0.01875\n"
     ]
    }
   ],
   "source": [
    "experiments_info = {}\n",
    "budget = 1\n",
    "for K in range(1, 6):\n",
    "    # dataset_orig_train= Zindi(path=\"./Huangrui/zindi/zindi_train{}.csv\".format(K),protected_attribute_names=['sex'],\n",
    "    #             privileged_classes=[[1]])\n",
    "    dataset_orig_test= Zindi(path=\"./Huangrui/zindi/zindi_test{}.csv\".format(K),protected_attribute_names=['sex'],\n",
    "                privileged_classes=[[1]])\n",
    "    # #only use the budget% of the training data\n",
    "    # dataset_orig_train,_ = dataset_orig_train.split([budget], shuffle=False)\n",
    "    # Lasso linear classifier and predictions\n",
    "    lmod = pickle.load(open('experiments/zindi'+str(K)+'_sex_bmodel.pkl','rb'))[\"clf\"]\n",
    "   \n",
    "    dataset_orig_test_pred = dataset_orig_test.copy(deepcopy=True)\n",
    "    X_test = dataset_orig_test_pred.features.copy()\n",
    "    X_test[:,1] = [1]*X_test.shape[0]\n",
    "    y_test = dataset_orig_test_pred.labels\n",
    "    y_test_pred = lmod.predict(X_test)\n",
    "    dataset_orig_test_pred.labels = (y_test_pred>0.5).reshape(-1,1)\n",
    "    metric_test = compute_metrics(dataset_orig_test, dataset_orig_test_pred, \n",
    "                                  unprivileged_groups, privileged_groups)\n",
    "   \n",
    "    #自己计算error, 不是balanced accuracy！！！\n",
    "    print(\"K = {}, budget = {}\".format(K, budget))\n",
    "    print(\"The Error for the test dataset is {:.4}\".format(np.mean(dataset_orig_test.labels!=dataset_orig_test_pred.labels)))\n",
    "    print(\"The Equal opportunity difference for the test dataset is {:.4}\".format(metric_test[\"Equal opportunity difference\"]))\n",
    "    experiments_info[\"K = {}, budget = {}\".format(K, budget)] = {\"Error\": np.mean(dataset_orig_test.labels!=dataset_orig_test_pred.labels), \"Equal opportunity difference\": metric_test[\"Equal opportunity difference\"]}"
   ]
  },
  {
   "cell_type": "code",
   "execution_count": 6,
   "metadata": {},
   "outputs": [
    {
     "data": {
      "text/plain": [
       "{'K = 1, budget = 1': {'Error': 0.12733843537414966,\n",
       "  'Equal opportunity difference': -0.016819822776501486},\n",
       " 'K = 2, budget = 1': {'Error': 0.11923485653560043,\n",
       "  'Equal opportunity difference': 0.017388604253997797},\n",
       " 'K = 3, budget = 1': {'Error': 0.11753453772582359,\n",
       "  'Equal opportunity difference': -0.05167173252279633},\n",
       " 'K = 4, budget = 1': {'Error': 0.11647183846971307,\n",
       "  'Equal opportunity difference': -0.017234123564658005},\n",
       " 'K = 5, budget = 1': {'Error': 0.1226354941551541,\n",
       "  'Equal opportunity difference': -0.018752658895601126}}"
      ]
     },
     "execution_count": 6,
     "metadata": {},
     "output_type": "execute_result"
    }
   ],
   "source": [
    "experiments_info"
   ]
  }
 ],
 "metadata": {
  "kernelspec": {
   "display_name": "Python 3",
   "language": "python",
   "name": "python3"
  },
  "language_info": {
   "codemirror_mode": {
    "name": "ipython",
    "version": 3
   },
   "file_extension": ".py",
   "mimetype": "text/x-python",
   "name": "python",
   "nbconvert_exporter": "python",
   "pygments_lexer": "ipython3",
   "version": "3.9.13"
  }
 },
 "nbformat": 4,
 "nbformat_minor": 2
}
