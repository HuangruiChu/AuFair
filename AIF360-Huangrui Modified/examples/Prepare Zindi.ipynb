{
 "cells": [
  {
   "cell_type": "markdown",
   "metadata": {},
   "source": [
    "#### This notebook prepare the Zindi Dataset and do the 5 fold split\n",
    "\n",
    "After we get the 5 fold data, we then save it to the csv file"
   ]
  },
  {
   "cell_type": "code",
   "execution_count": 1,
   "metadata": {},
   "outputs": [
    {
     "name": "stderr",
     "output_type": "stream",
     "text": [
      "WARNING:root:No module named 'tensorflow': AdversarialDebiasing will be unavailable. To install, run:\n",
      "pip install 'aif360[AdversarialDebiasing]'\n",
      "WARNING:root:No module named 'tensorflow': AdversarialDebiasing will be unavailable. To install, run:\n",
      "pip install 'aif360[AdversarialDebiasing]'\n",
      "WARNING:root:No module named 'fairlearn': ExponentiatedGradientReduction will be unavailable. To install, run:\n",
      "pip install 'aif360[Reductions]'\n",
      "WARNING:root:No module named 'fairlearn': GridSearchReduction will be unavailable. To install, run:\n",
      "pip install 'aif360[Reductions]'\n",
      "WARNING:root:No module named 'fairlearn': GridSearchReduction will be unavailable. To install, run:\n",
      "pip install 'aif360[Reductions]'\n"
     ]
    }
   ],
   "source": [
    "%matplotlib inline\n",
    "# Load all necessary packages\n",
    "import sys\n",
    "sys.path.append(\"../\")\n",
    "import numpy as np\n",
    "from tqdm import tqdm\n",
    "from warnings import warn\n",
    "import pandas as pd\n",
    "from aif360.datasets import StandardDataset\n",
    "from aif360.metrics import ClassificationMetric, BinaryLabelDatasetMetric\n",
    "from aif360.algorithms.postprocessing.reject_option_classification\\\n",
    "        import RejectOptionClassification\n",
    "from common_utils import compute_metrics\n",
    "\n",
    "from sklearn.linear_model import LogisticRegression\n",
    "from sklearn.preprocessing import StandardScaler\n",
    "from sklearn.metrics import accuracy_score\n",
    "\n",
    "from IPython.display import Markdown, display\n",
    "import matplotlib.pyplot as plt\n",
    "from ipywidgets import interactive, FloatSlider"
   ]
  },
  {
   "cell_type": "markdown",
   "metadata": {},
   "source": [
    "## Huangrui's financial-inclusion-in-africa"
   ]
  },
  {
   "cell_type": "code",
   "execution_count": 2,
   "metadata": {},
   "outputs": [],
   "source": [
    "class Zindi(StandardDataset):\n",
    "    \"\"\"financial-inclusion-in-africa dataset.\n",
    "    \"\"\"\n",
    "\n",
    "    def __init__(self, label_name='Y', favorable_classes=[1],  \n",
    "                 protected_attribute_names=['sex'],\n",
    "                 privileged_classes=[[1]],\n",
    "                 instance_weights_name=None,\n",
    "                 categorical_features=[\"location_type\",\"country\",\"relationship_with_head\",\"marital_status\",\"education_level\",\"job_type\"],\n",
    "                 features_to_drop=[],\n",
    "                 features_to_keep=[],\n",
    "                 na_values=[], custom_preprocessing=None,\n",
    "                 metadata=None):\n",
    "        \"\"\"See :obj:`RegressionDataset` for a description of the arguments.\"\"\"\n",
    "        \n",
    "\n",
    "        train = pd.read_csv('./Huangrui/zindi/Train.csv')\n",
    "        test = pd.read_csv('./Huangrui/zindi/Test.csv')\n",
    "        df = pd.concat([train, test], axis=0, ignore_index=True)\n",
    "        df.rename(columns={'gender_of_respondent':'sex','age_of_respondent':'age', 'bank_account':'Y' }, inplace=True)\n",
    "        df.Y = df.Y.map({'Yes':1, 'No':0})\n",
    "        df.sex = df.sex.map({\"Male\":1,\"Female\":0})\n",
    "        df.cellphone_access = df.cellphone_access.map({'Yes':1, 'No':0})\n",
    "        df.drop(['uniqueid'], axis=1, inplace=True)\n",
    "        df.dropna(inplace=True)\n",
    "\n",
    "        super(Zindi, self).__init__(\n",
    "            df=df, label_name=label_name,\n",
    "            favorable_classes=favorable_classes,\n",
    "            protected_attribute_names=protected_attribute_names,\n",
    "            privileged_classes=privileged_classes,\n",
    "            instance_weights_name=instance_weights_name,\n",
    "            categorical_features=categorical_features,\n",
    "            features_to_keep=features_to_keep,\n",
    "            features_to_drop=features_to_drop, na_values=na_values,\n",
    "            custom_preprocessing=custom_preprocessing, metadata=metadata)\n",
    "\n"
   ]
  },
  {
   "cell_type": "markdown",
   "metadata": {},
   "source": [
    "#### Load dataset and specify options"
   ]
  },
  {
   "cell_type": "code",
   "execution_count": 3,
   "metadata": {},
   "outputs": [],
   "source": [
    "dataset_orig = Zindi()\n",
    "privileged_groups = [{'sex': 1}]\n",
    "unprivileged_groups = [{'sex': 0}]\n",
    "# Metric used (should be one of allowed_metrics)\n",
    "metric_name = \"Equal opportunity difference\"\n",
    "#random seed for calibrated equal odds prediction\n",
    "random_seed = 12345679\n",
    "np.random.seed(random_seed)\n",
    "# Upper and lower bound on the fairness metric used\n",
    "metric_ub = 0.05\n",
    "metric_lb = -0.05"
   ]
  },
  {
   "cell_type": "code",
   "execution_count": 4,
   "metadata": {},
   "outputs": [
    {
     "data": {
      "text/plain": [
       "['year',\n",
       " 'cellphone_access',\n",
       " 'household_size',\n",
       " 'age',\n",
       " 'sex',\n",
       " 'country=Kenya',\n",
       " 'country=Rwanda',\n",
       " 'country=Tanzania',\n",
       " 'country=Uganda',\n",
       " 'location_type=Rural',\n",
       " 'location_type=Urban',\n",
       " 'relationship_with_head=Child',\n",
       " 'relationship_with_head=Head of Household',\n",
       " 'relationship_with_head=Other non-relatives',\n",
       " 'relationship_with_head=Other relative',\n",
       " 'relationship_with_head=Parent',\n",
       " 'relationship_with_head=Spouse',\n",
       " 'marital_status=Divorced/Seperated',\n",
       " 'marital_status=Dont know',\n",
       " 'marital_status=Married/Living together',\n",
       " 'marital_status=Single/Never Married',\n",
       " 'marital_status=Widowed',\n",
       " 'education_level=No formal education',\n",
       " 'education_level=Other/Dont know/RTA',\n",
       " 'education_level=Primary education',\n",
       " 'education_level=Secondary education',\n",
       " 'education_level=Tertiary education',\n",
       " 'education_level=Vocational/Specialised training',\n",
       " 'job_type=Dont Know/Refuse to answer',\n",
       " 'job_type=Farming and Fishing',\n",
       " 'job_type=Formally employed Government',\n",
       " 'job_type=Formally employed Private',\n",
       " 'job_type=Government Dependent',\n",
       " 'job_type=Informally employed',\n",
       " 'job_type=No Income',\n",
       " 'job_type=Other Income',\n",
       " 'job_type=Remittance Dependent',\n",
       " 'job_type=Self employed']"
      ]
     },
     "execution_count": 4,
     "metadata": {},
     "output_type": "execute_result"
    }
   ],
   "source": [
    "dataset_orig.feature_names"
   ]
  },
  {
   "cell_type": "code",
   "execution_count": 5,
   "metadata": {},
   "outputs": [],
   "source": [
    "# 5 fold cross validation\n",
    "Z =  dataset_orig.split(5, shuffle=True,seed = random_seed)\n",
    "# i th fold\n",
    "dataset_train1 = Z[0].copy()\n",
    "dataset_train1.features = np.concatenate((Z[0].features,Z[1].features,Z[2].features,Z[3].features),axis=0)\n",
    "dataset_train1.scores = np.concatenate((Z[0].scores,Z[1].scores,Z[2].scores,Z[3].scores),axis=0)\n",
    "dataset_train1.labels = np.concatenate((Z[0].labels,Z[1].labels,Z[2].labels,Z[3].labels),axis=0)\n",
    "dataset_train1.protected_attributes = np.concatenate((Z[0].protected_attributes,Z[1].protected_attributes,Z[2].protected_attributes,Z[3].protected_attributes),axis=0)\n",
    "dataset_train1.instance_weights = np.concatenate((Z[0].instance_weights,Z[1].instance_weights,Z[2].instance_weights,Z[3].instance_weights),axis=0)\n",
    "dataset_train1.instance_names = np.concatenate((Z[0].instance_names,Z[1].instance_names,Z[2].instance_names,Z[3].instance_names),axis=0)\n",
    "dataset_train1.metadata = Z[0].metadata.copy()\n",
    "dataset_test1= Z[4].copy()\n",
    "\n",
    "dataset_train2 = Z[1].copy()\n",
    "dataset_train2.features = np.concatenate((Z[1].features,Z[2].features,Z[3].features,Z[4].features),axis=0)\n",
    "dataset_train2.scores = np.concatenate((Z[1].scores,Z[2].scores,Z[3].scores,Z[4].scores),axis=0)\n",
    "dataset_train2.labels = np.concatenate((Z[1].labels,Z[2].labels,Z[3].labels,Z[4].labels),axis=0)\n",
    "dataset_train2.protected_attributes = np.concatenate((Z[1].protected_attributes,Z[2].protected_attributes,Z[3].protected_attributes,Z[4].protected_attributes),axis=0)\n",
    "dataset_train2.instance_weights = np.concatenate((Z[1].instance_weights,Z[2].instance_weights,Z[3].instance_weights,Z[4].instance_weights),axis=0)\n",
    "dataset_train2.instance_names = np.concatenate((Z[1].instance_names,Z[2].instance_names,Z[3].instance_names,Z[4].instance_names),axis=0)\n",
    "dataset_train2.metadata = Z[1].metadata.copy()\n",
    "dataset_test2= Z[0].copy()\n",
    "\n",
    "dataset_train3 = Z[2].copy()\n",
    "dataset_train3.features = np.concatenate((Z[2].features,Z[3].features,Z[4].features,Z[0].features),axis=0)\n",
    "dataset_train3.scores = np.concatenate((Z[2].scores,Z[3].scores,Z[4].scores,Z[0].scores),axis=0)\n",
    "dataset_train3.labels = np.concatenate((Z[2].labels,Z[3].labels,Z[4].labels,Z[0].labels),axis=0)\n",
    "dataset_train3.protected_attributes = np.concatenate((Z[2].protected_attributes,Z[3].protected_attributes,Z[4].protected_attributes,Z[0].protected_attributes),axis=0)\n",
    "dataset_train3.instance_weights = np.concatenate((Z[2].instance_weights,Z[3].instance_weights,Z[4].instance_weights,Z[0].instance_weights),axis=0)\n",
    "dataset_train3.instance_names = np.concatenate((Z[2].instance_names,Z[3].instance_names,Z[4].instance_names,Z[0].instance_names),axis=0)\n",
    "dataset_train3.metadata = Z[2].metadata.copy()\n",
    "dataset_test3= Z[1].copy()\n",
    "\n",
    "dataset_train4 = Z[3].copy()\n",
    "dataset_train4.features = np.concatenate((Z[3].features,Z[4].features,Z[0].features,Z[1].features),axis=0)\n",
    "dataset_train4.scores = np.concatenate((Z[3].scores,Z[4].scores,Z[0].scores,Z[1].scores),axis=0)\n",
    "dataset_train4.labels = np.concatenate((Z[3].labels,Z[4].labels,Z[0].labels,Z[1].labels),axis=0)\n",
    "dataset_train4.protected_attributes = np.concatenate((Z[3].protected_attributes,Z[4].protected_attributes,Z[0].protected_attributes,Z[1].protected_attributes),axis=0)\n",
    "dataset_train4.instance_weights = np.concatenate((Z[3].instance_weights,Z[4].instance_weights,Z[0].instance_weights,Z[1].instance_weights),axis=0)\n",
    "dataset_train4.instance_names = np.concatenate((Z[3].instance_names,Z[4].instance_names,Z[0].instance_names,Z[1].instance_names),axis=0)\n",
    "dataset_train4.metadata = Z[3].metadata.copy()\n",
    "dataset_test4= Z[2].copy()\n",
    "\n",
    "dataset_train5 = Z[4].copy()\n",
    "dataset_train5.features = np.concatenate((Z[4].features,Z[0].features,Z[1].features,Z[2].features),axis=0)\n",
    "dataset_train5.scores = np.concatenate((Z[4].scores,Z[0].scores,Z[1].scores,Z[2].scores),axis=0)\n",
    "dataset_train5.labels = np.concatenate((Z[4].labels,Z[0].labels,Z[1].labels,Z[2].labels),axis=0)\n",
    "dataset_train5.protected_attributes = np.concatenate((Z[4].protected_attributes,Z[0].protected_attributes,Z[1].protected_attributes,Z[2].protected_attributes),axis=0)\n",
    "dataset_train5.instance_weights = np.concatenate((Z[4].instance_weights,Z[0].instance_weights,Z[1].instance_weights,Z[2].instance_weights),axis=0)\n",
    "dataset_train5.instance_names = np.concatenate((Z[4].instance_names,Z[0].instance_names,Z[1].instance_names,Z[2].instance_names),axis=0)\n",
    "dataset_train5.metadata = Z[4].metadata.copy()\n",
    "dataset_test5= Z[3].copy()"
   ]
  },
  {
   "cell_type": "markdown",
   "metadata": {},
   "source": [
    "#### Save the split dataset"
   ]
  },
  {
   "cell_type": "code",
   "execution_count": 6,
   "metadata": {},
   "outputs": [],
   "source": [
    "protected_name = \"sex\"\n",
    "dataset_train1.convert_to_dataframe()[0].to_csv(\"Huangrui/zindi/{}/zindi_train1.csv\".format(protected_name),index=False)\n",
    "dataset_test1.convert_to_dataframe()[0].to_csv(\"Huangrui/zindi/{}/zindi_test1.csv\".format(protected_name),index=False)\n",
    "dataset_train2.convert_to_dataframe()[0].to_csv(\"Huangrui/zindi/{}/zindi_train2.csv\".format(protected_name),index=False)\n",
    "dataset_test2.convert_to_dataframe()[0].to_csv(\"Huangrui/zindi/{}/zindi_test2.csv\".format(protected_name),index=False)\n",
    "dataset_train3.convert_to_dataframe()[0].to_csv(\"Huangrui/zindi/{}/zindi_train3.csv\".format(protected_name),index=False)\n",
    "dataset_test3.convert_to_dataframe()[0].to_csv(\"Huangrui/zindi/{}/zindi_test3.csv\".format(protected_name),index=False)\n",
    "dataset_train4.convert_to_dataframe()[0].to_csv(\"Huangrui/zindi/{}/zindi_train4.csv\".format(protected_name),index=False)\n",
    "dataset_test4.convert_to_dataframe()[0].to_csv(\"Huangrui/zindi/{}/zindi_test4.csv\".format(protected_name),index=False)\n",
    "dataset_train5.convert_to_dataframe()[0].to_csv(\"Huangrui/zindi/{}/zindi_train5.csv\".format(protected_name),index=False)\n",
    "dataset_test5.convert_to_dataframe()[0].to_csv(\"Huangrui/zindi/{}/zindi_test5.csv\".format(protected_name),index=False)\n"
   ]
  }
 ],
 "metadata": {
  "kernelspec": {
   "display_name": "Python 3",
   "language": "python",
   "name": "python3"
  },
  "language_info": {
   "codemirror_mode": {
    "name": "ipython",
    "version": 3
   },
   "file_extension": ".py",
   "mimetype": "text/x-python",
   "name": "python",
   "nbconvert_exporter": "python",
   "pygments_lexer": "ipython3",
   "version": "3.9.13"
  }
 },
 "nbformat": 4,
 "nbformat_minor": 2
}
