{
 "cells": [
  {
   "cell_type": "markdown",
   "metadata": {},
   "source": [
    "#### This notebook demonstrates the use of the Reject Option Classification (ROC) post-processing algorithm for bias mitigation.\n",
    "- The debiasing function used is implemented in the `RejectOptionClassification` class.\n",
    "- Divide the dataset into training, validation, and testing partitions.\n",
    "- Train classifier on original training data.\n",
    "- Estimate the optimal classification threshold, that maximizes balanced accuracy without fairness constraints.\n",
    "- Estimate the optimal classification threshold, and the critical region boundary (ROC margin) using a validation set for the desired constraint on fairness. The best parameters are those that maximize the classification threshold while satisfying the fairness constraints.\n",
    "- The constraints can be used on the following fairness measures:\n",
    "    * Statistical parity difference on the predictions of the classifier\n",
    "    * Average odds difference for the classifier\n",
    "    * Equal opportunity difference for the classifier\n",
    "- Determine the prediction scores for testing data. Using the estimated optimal classification threshold, compute accuracy and fairness metrics.\n",
    "- Using the determined optimal classification threshold and the ROC margin, adjust the predictions. Report accuracy and fairness metric on the new predictions."
   ]
  },
  {
   "cell_type": "code",
   "execution_count": 1,
   "metadata": {},
   "outputs": [
    {
     "name": "stderr",
     "output_type": "stream",
     "text": [
      "WARNING:root:No module named 'tensorflow': AdversarialDebiasing will be unavailable. To install, run:\n",
      "pip install 'aif360[AdversarialDebiasing]'\n",
      "WARNING:root:No module named 'tensorflow': AdversarialDebiasing will be unavailable. To install, run:\n",
      "pip install 'aif360[AdversarialDebiasing]'\n",
      "WARNING:root:No module named 'fairlearn': ExponentiatedGradientReduction will be unavailable. To install, run:\n",
      "pip install 'aif360[Reductions]'\n",
      "WARNING:root:No module named 'fairlearn': GridSearchReduction will be unavailable. To install, run:\n",
      "pip install 'aif360[Reductions]'\n",
      "WARNING:root:No module named 'fairlearn': GridSearchReduction will be unavailable. To install, run:\n",
      "pip install 'aif360[Reductions]'\n"
     ]
    }
   ],
   "source": [
    "%matplotlib inline\n",
    "# Load all necessary packages\n",
    "import sys\n",
    "sys.path.append(\"../\")\n",
    "import numpy as np\n",
    "import pandas as pd\n",
    "from tqdm import tqdm\n",
    "from warnings import warn\n",
    "from aif360.datasets import StandardDataset\n",
    "from aif360.metrics import ClassificationMetric, BinaryLabelDatasetMetric\n",
    "from aif360.metrics.utils import compute_boolean_conditioning_vector\n",
    "from aif360.algorithms.preprocessing.optim_preproc_helpers.data_preproc_functions\\\n",
    "        import load_preproc_data_adult, load_preproc_data_german, load_preproc_data_compas\n",
    "from aif360.algorithms.postprocessing.reject_option_classification\\\n",
    "        import RejectOptionClassification\n",
    "from common_utils import compute_metrics\n",
    "\n",
    "from sklearn.linear_model import LogisticRegression\n",
    "from sklearn.preprocessing import StandardScaler\n",
    "from sklearn.metrics import accuracy_score\n",
    "\n",
    "from IPython.display import Markdown, display\n",
    "import matplotlib.pyplot as plt\n",
    "from ipywidgets import interactive, FloatSlider"
   ]
  },
  {
   "cell_type": "markdown",
   "metadata": {},
   "source": [
    "## Huangrui's Dataset"
   ]
  },
  {
   "cell_type": "code",
   "execution_count": 13,
   "metadata": {},
   "outputs": [],
   "source": [
    "default_mappings = {\n",
    "    'label_maps': [{1.0: 'Did recid.', 0.0: 'No recid.'}],\n",
    "    'protected_attribute_maps': [{0.0: 'Male', 1.0: 'Female'},\n",
    "                                 {1.0: 'Caucasian', 0.0: 'Not Caucasian'}]\n",
    "}\n",
    "\n",
    "class CompasDataset(StandardDataset):\n",
    "    \"\"\"ProPublica COMPAS Dataset.\n",
    "\n",
    "    See :file:`aif360/data/raw/compas/README.md`.\n",
    "    \"\"\"\n",
    "\n",
    "    def __init__(self, label_name='Y', favorable_classes=[1],\n",
    "                 protected_attribute_names=['sex'],\n",
    "                 privileged_classes=[[1]],\n",
    "                 instance_weights_name=None,\n",
    "                 categorical_features=[],\n",
    "                 features_to_keep=[],\n",
    "                 features_to_drop=[], na_values=[],\n",
    "                 custom_preprocessing=None,\n",
    "                 metadata=default_mappings,\n",
    "                 path='./Huangrui/recidivism/recidivism_test1.csv'):\n",
    "\n",
    "    \n",
    "        df = pd.read_csv(path,index_col=False)\n",
    "        df.rename(columns={'Probationerssex_Female': 'sex'}, inplace=True)\n",
    "        df.drop([\"Probationerssex_Male\",\"Probationerssex_Notascertained\"], axis=1, inplace=True)\n",
    "\n",
    "        super(CompasDataset, self).__init__(df=df, label_name=label_name,\n",
    "            favorable_classes=favorable_classes,\n",
    "            protected_attribute_names=protected_attribute_names,\n",
    "            privileged_classes=privileged_classes,\n",
    "            instance_weights_name=instance_weights_name,\n",
    "            categorical_features=categorical_features,\n",
    "            features_to_keep=features_to_keep,\n",
    "            features_to_drop=features_to_drop, na_values=na_values,\n",
    "            custom_preprocessing=custom_preprocessing, metadata=metadata)\n"
   ]
  },
  {
   "cell_type": "markdown",
   "metadata": {},
   "source": [
    "#### Load dataset and specify options"
   ]
  },
  {
   "cell_type": "code",
   "execution_count": 14,
   "metadata": {},
   "outputs": [],
   "source": [
    "## import dataset\n",
    "dataset_used = \"compas\" # \"adult\", \"german\", \"compas\"\n",
    "\n",
    "privileged_groups = [{'sex': 1}]\n",
    "unprivileged_groups = [{'sex': 0}]\n",
    "        \n",
    "# Metric used (should be one of allowed_metrics)\n",
    "metric_name = \"Equal opportunity difference\"\n",
    "\n",
    "# Upper and lower bound on the fairness metric used\n",
    "metric_ub = 0.05\n",
    "metric_lb = -0.05\n",
    "        \n",
    "#random seed for calibrated equal odds prediction\n",
    "np.random.seed(1)\n",
    "\n",
    "# Verify metric name\n",
    "allowed_metrics = [\"Statistical parity difference\",\n",
    "                   \"Average odds difference\",\n",
    "                   \"Equal opportunity difference\"]\n",
    "if metric_name not in allowed_metrics:\n",
    "    raise ValueError(\"Metric name should be one of allowed metrics\")"
   ]
  },
  {
   "cell_type": "markdown",
   "metadata": {},
   "source": [
    "#### Split into train, test and validation"
   ]
  },
  {
   "cell_type": "code",
   "execution_count": 83,
   "metadata": {},
   "outputs": [],
   "source": [
    "K=5"
   ]
  },
  {
   "cell_type": "code",
   "execution_count": 84,
   "metadata": {},
   "outputs": [],
   "source": [
    "dataset_orig_train_valid= CompasDataset(path=\"./Huangrui/recidivism/recidivism_train{}.csv\".format(K),\n",
    "                                       protected_attribute_names=[\"sex\"],\n",
    "                                       privileged_classes=[[1]])"
   ]
  },
  {
   "cell_type": "code",
   "execution_count": 85,
   "metadata": {},
   "outputs": [],
   "source": [
    "dataset_orig_test= CompasDataset(path=\"./Huangrui/recidivism/recidivism_test{}.csv\".format(K),\n",
    "                                       protected_attribute_names=[\"sex\"],\n",
    "                                       privileged_classes=[[1]])"
   ]
  },
  {
   "cell_type": "code",
   "execution_count": 86,
   "metadata": {},
   "outputs": [],
   "source": [
    "# Get the dataset and split into train and test\n",
    "dataset_orig_train, dataset_orig_valid = dataset_orig_train_valid.split([0.8], shuffle=True)"
   ]
  },
  {
   "cell_type": "markdown",
   "metadata": {},
   "source": [
    "#### Clean up training data and display properties of the data"
   ]
  },
  {
   "cell_type": "code",
   "execution_count": 87,
   "metadata": {},
   "outputs": [
    {
     "data": {
      "text/markdown": [
       "#### Training Dataset shape"
      ],
      "text/plain": [
       "<IPython.core.display.Markdown object>"
      ]
     },
     "metadata": {},
     "output_type": "display_data"
    },
    {
     "name": "stdout",
     "output_type": "stream",
     "text": [
      "(7453, 417)\n"
     ]
    },
    {
     "data": {
      "text/markdown": [
       "#### Favorable and unfavorable labels"
      ],
      "text/plain": [
       "<IPython.core.display.Markdown object>"
      ]
     },
     "metadata": {},
     "output_type": "display_data"
    },
    {
     "name": "stdout",
     "output_type": "stream",
     "text": [
      "1.0 0.0\n"
     ]
    },
    {
     "data": {
      "text/markdown": [
       "#### Protected attribute names"
      ],
      "text/plain": [
       "<IPython.core.display.Markdown object>"
      ]
     },
     "metadata": {},
     "output_type": "display_data"
    },
    {
     "name": "stdout",
     "output_type": "stream",
     "text": [
      "['sex']\n"
     ]
    },
    {
     "data": {
      "text/markdown": [
       "#### Privileged and unprivileged protected attribute values"
      ],
      "text/plain": [
       "<IPython.core.display.Markdown object>"
      ]
     },
     "metadata": {},
     "output_type": "display_data"
    },
    {
     "name": "stdout",
     "output_type": "stream",
     "text": [
      "[array([1.])] [array([0.])]\n"
     ]
    },
    {
     "data": {
      "text/markdown": [
       "#### Dataset feature names"
      ],
      "text/plain": [
       "<IPython.core.display.Markdown object>"
      ]
     },
     "metadata": {},
     "output_type": "display_data"
    },
    {
     "name": "stdout",
     "output_type": "stream",
     "text": [
      "['Numberofconvictioncharges', 'Averagehourlywage', 'Numberofprobationofficers', 'Caseloadofprobationofficers', 'Communityorpublicservicehoursordered', 'Numberofhoursperformedtodate', 'Percentofcommunityworkperformed', 'Numberofbehavioralconditionsimposed', 'Scoreforcomplyingwithbehavioralconditionsimposed', 'Percentofcompliancewithbehavioralconditions', 'Probationcaseweight', 'Lengthofprobationsentence', 'Weightedprobationfeesassessed', 'Weightedprobationfeespaid', 'Weightedrestitutionassessment', 'Weightedrestitutionpayment', 'Totalfinancialconditionsimposed', 'Weightedtotalassessment', 'Weightedtotalpayment', 'Amountfineassessmentimposed', 'Amountcourtfeesassessed', 'Amountdefenderfeesassessed', 'Weightedcourtassessments', 'Weightedcourtpayments', 'Weightedotherassessments', 'Weightedotherpayments', 'Dayssince1900sentence', 'Age-weighted', 'Dayssince1900probationbegan', 'Dayssince1900probationended', 'Dayssincefirstdisciplinaryhearing', 'Dayssincefirstviolation', 'Weightedprobationtime', 'Weightedtimefromprobationtofirsthearing', 'Weightedtimeprobationtofirstviolation-days', 'Riskscore', 'Weightedrisk', 'Threedigitoffensecode_Allotherexceptcannabis', 'Threedigitoffensecode_Armedrobbery', 'Threedigitoffensecode_Assault', 'Threedigitoffensecode_Attemptedhomicide', 'Threedigitoffensecode_Burglary', 'Threedigitoffensecode_Burglaryinvolvingvict', 'Threedigitoffensecode_Cannabis', 'Threedigitoffensecode_Drugpossession', 'Threedigitoffensecode_Drugtrafficking', 'Threedigitoffensecode_Escape', 'Threedigitoffensecode_ForcibleRape', 'Threedigitoffensecode_Forgery', 'Threedigitoffensecode_Fraud', 'Threedigitoffensecode_Homicides', 'Threedigitoffensecode_Manslaughter', 'Threedigitoffensecode_Miscellaneous', 'Threedigitoffensecode_Motorvehicularoffenses', 'Threedigitoffensecode_Murder', 'Threedigitoffensecode_Narcotics,cocaine', 'Threedigitoffensecode_Notascertained', 'Threedigitoffensecode_Otherstructure', 'Threedigitoffensecode_Possessionstolenproperty', 'Threedigitoffensecode_Rape', 'Threedigitoffensecode_Residential', 'Threedigitoffensecode_Robbery', 'Threedigitoffensecode_Sexrelatedoffenses', 'Threedigitoffensecode_Statutory', 'Threedigitoffensecode_Theft', 'Threedigitoffensecode_Unarmedrobbery', 'Threedigitoffensecode_Weaponsrelated', 'sex', 'Percentageoftimeemployed_40to60%', 'Percentageoftimeemployed_60%ormore', 'Percentageoftimeemployed_Notascertained', 'Percentageoftimeemployed_Under40%', 'Maritalstatus_Divorced/separated', 'Maritalstatus_Married/widower', 'Maritalstatus_Notascertained', 'Maritalstatus_Single', 'Educationallevelattained_Collegedegree', 'Educationallevelattained_Gradeschool', 'Educationallevelattained_Highschool(GED)', 'Educationallevelattained_Notascertained', 'Educationallevelattained_Somecollege', 'Educationallevelattained_Somehighschool', 'Addresschangesintwelvemonths_None', 'Addresschangesintwelvemonths_Notascertained', 'Addresschangesintwelvemonths_One', 'Addresschangesintwelvemonths_Twoormore', 'Drugabusehistory_Frequentabuse', 'Drugabusehistory_Nodrugabuseproblem', 'Drugabusehistory_Notascertained', 'Drugabusehistory_Occasionalabuse', 'Numberofpriorfelonyconvictions_None', 'Numberofpriorfelonyconvictions_Notascertained', 'Numberofpriorfelonyconvictions_One', 'Numberofpriorfelonyconvictions_Twoormore', 'Typeofsupervision_Notapplicable', 'Typeofsupervision_Notascertained', 'Typeofsupervision_Supervised', 'Typeofsupervision_Unsupervised', 'Transferredtoanotherjurisdiction_No', 'Transferredtoanotherjurisdiction_Notascertained', 'Transferredtoanotherjurisdiction_Yes,instate', 'Transferredtoanotherjurisdiction_Yes,outofstate', 'Reasonforbeingtransferred_Absconded', 'Reasonforbeingtransferred_Died', 'Reasonforbeingtransferred_Notascertained', 'Reasonforbeingtransferred_Other', 'Reasonforbeingtransferred_Prison', 'Reasonforbeingtransferred_Termserved', 'Probationrecordsreflectjailbeingimposed_No', 'Probationrecordsreflectjailbeingimposed_Notascertained', 'Probationrecordsreflectjailbeingimposed_Yes', 'Recodeofprobationersassigned_1to50', 'Recodeofprobationersassigned_101to150', 'Recodeofprobationersassigned_151to200', 'Recodeofprobationersassigned_201to250', 'Recodeofprobationersassigned_250ormore', 'Recodeofprobationersassigned_51to100', 'Recodeofprobationersassigned_Notascertained', 'Communityplacementordered_No', 'Communityplacementordered_Notascertained', 'Communityplacementordered_Yes', 'Statusofcompliancewithcommunityplacement_Notapplicable', 'Statusofcompliancewithcommunityplacement_Notascertained', 'Statusofcompliancewithcommunityplacement_Notsatisfied', 'Statusofcompliancewithcommunityplacement_Progressmade', 'Statusofcompliancewithcommunityplacement_Satisfied', 'Alcoholtreatmentordered_No', 'Alcoholtreatmentordered_Notascertained', 'Alcoholtreatmentordered_Yes', 'Statusofcompliancewithalcoholtreatment_Notapplicable', 'Statusofcompliancewithalcoholtreatment_Notascertained', 'Statusofcompliancewithalcoholtreatment_Notsatisfied', 'Statusofcompliancewithalcoholtreatment_Progressmade', 'Statusofcompliancewithalcoholtreatment_Satisfied', 'Drugtreatmentordered_No', 'Drugtreatmentordered_Notascertained', 'Drugtreatmentordered_Yes', 'Statusofcompliancewithdrugtreatment_Notapplicable', 'Statusofcompliancewithdrugtreatment_Notascertained', 'Statusofcompliancewithdrugtreatment_Notsatisfied', 'Statusofcompliancewithdrugtreatment_Progressmade', 'Statusofcompliancewithdrugtreatment_Satisfied', 'Drugtestingordered_No', 'Drugtestingordered_Notascertained', 'Drugtestingordered_Yes', 'Statusofcompliancewithdrugtesting_Notapplicable', 'Statusofcompliancewithdrugtesting_Notascertained', 'Statusofcompliancewithdrugtesting_Notsatisfied', 'Statusofcompliancewithdrugtesting_Progressmade', 'Statusofcompliancewithdrugtesting_Satisfied', 'Mentalhealthcounsellingordered_No', 'Mentalhealthcounsellingordered_Notascertained', 'Mentalhealthcounsellingordered_Yes', 'Statusofcompliancewithmentalhealthcounselling_Notapplicable', 'Statusofcompliancewithmentalhealthcounselling_Notascertained', 'Statusofcompliancewithmentalhealthcounselling_Notsatisfied', 'Statusofcompliancewithmentalhealthcounselling_Progressmade', 'Statusofcompliancewithmentalhealthcounselling_Satisfied', 'Housearrestordered_No', 'Housearrestordered_Notascertained', 'Housearrestordered_Yes', 'Statusofcompliancewithhousearrestorder_Notapplicable', 'Statusofcompliancewithhousearrestorder_Notascertained', 'Statusofcompliancewithhousearrestorder_Notsatisfied', 'Statusofcompliancewithhousearrestorder_Progressmade', 'Statusofcompliancewithhousearrestorder_Satisfied', 'Dayprogrammingordered_No', 'Dayprogrammingordered_Notascertained', 'Dayprogrammingordered_Yes', 'Statusofcompliancewithdayprogramming_Notapplicable', 'Statusofcompliancewithdayprogramming_Notascertained', 'Statusofcompliancewithdayprogramming_Notsatisfied', 'Statusofcompliancewithdayprogramming_Progressmade', 'Statusofcompliancewithdayprogramming_Satisfied', 'Communityserviceordered_No', 'Communityserviceordered_Notascertained', 'Communityserviceordered_Yes', 'Statusofcompliancewithcommunityserviceorder_Notapplicable', 'Statusofcompliancewithcommunityserviceorder_Notascertained', 'Statusofcompliancewithcommunityserviceorder_Notsatisfied', 'Statusofcompliancewithcommunityserviceorder_Progressmade', 'Statusofcompliancewithcommunityserviceorder_Satisfied', 'Recodefornumberofcommunityhours_1to49', 'Recodefornumberofcommunityhours_100to199', 'Recodefornumberofcommunityhours_200to499', 'Recodefornumberofcommunityhours_50to99', 'Recodefornumberofcommunityhours_500ormore', 'Recodefornumberofcommunityhours_Notapplicable', 'Recodeofpercentofcommunityhours_0%', 'Recodeofpercentofcommunityhours_1to24%', 'Recodeofpercentofcommunityhours_100%', 'Recodeofpercentofcommunityhours_25to49%', 'Recodeofpercentofcommunityhours_50to74%', 'Recodeofpercentofcommunityhours_75to99%', 'Recodeofpercentofcommunityhours_Notapplicable', 'Recodeofcompliancepercent_0%', 'Recodeofcompliancepercent_1to24%', 'Recodeofcompliancepercent_100%', 'Recodeofcompliancepercent_25to49%', 'Recodeofcompliancepercent_50to74%', 'Recodeofcompliancepercent_75to99%', 'Recodeofcompliancepercent_Notapplicable', 'Recodeofcompliancepercent_Notascertained', 'Howhousearrestmonitored_Electronically', 'Howhousearrestmonitored_Notapplicable', 'Howhousearrestmonitored_Notascertained', 'Howhousearrestmonitored_Other', 'Howhousearrestmonitored_Randomcalls', 'Probationflag_Personprobbefore1986', 'Probationflag_Persstartprobw/1986sent', 'Courtfineimposed_No', 'Courtfineimposed_Notascertained', 'Courtfineimposed_Yes,amountknown', 'Courtfineimposed_Yes,amountunknown', 'Courtfeesimposed_No', 'Courtfeesimposed_Notascertained', 'Courtfeesimposed_Yes,amountknown', 'Courtfeesimposed_Yes,amountunknown', 'Probationfeesimposed_No', 'Probationfeesimposed_Notascertained', 'Probationfeesimposed_Yes,amountknown', 'Probationfeesimposed_Yes,amountunknown', 'Restitutionimposed_No', 'Restitutionimposed_Notascertained', 'Restitutionimposed_Yes,amountknown', 'Restitutionimposed_Yes,amountunknown', 'Victimcompensationfeeimposed_No', 'Victimcompensationfeeimposed_Notascertained', 'Victimcompensationfeeimposed_Yes,amountknown', 'Victimcompensationfeeimposed_Yes,amountunknown', 'Otherfeesimposed_No', 'Otherfeesimposed_Notascertained', 'Otherfeesimposed_Yes,amountknown', 'Otherfeesimposed_Yes,amountunknown', 'Publicdefenderfeesimposed_No', 'Publicdefenderfeesimposed_Notascertained', 'Publicdefenderfeesimposed_Yes,amountknown', 'Publicdefenderfeesimposed_Yes,amountunknown', 'Financialflag_Atleast1fineassess', 'Financialflag_Nofineassessimposed', 'Financialflag_Notapplicable', 'Totalfeesassessed_No', 'Totalfeesassessed_Notascertained', 'Totalfeesassessed_Yes', 'Totalotherfees_No', 'Totalotherfees_Notascertained', 'Totalotherfees_Yes', 'Distributionofallcourtassessments_$100to$249', 'Distributionofallcourtassessments_$1000to$4999', 'Distributionofallcourtassessments_$250to$499', 'Distributionofallcourtassessments_$500to$999', 'Distributionofallcourtassessments_$5000ormore', 'Distributionofallcourtassessments_Lessthan$100', 'Distributionofallcourtassessments_Notascertained', 'Distributionofsupervisionfees_$100to$249', 'Distributionofsupervisionfees_$1000to$4999', 'Distributionofsupervisionfees_$250to$499', 'Distributionofsupervisionfees_$500to$999', 'Distributionofsupervisionfees_Lessthan$100', 'Distributionofsupervisionfees_Notascertained', 'Distributionofrestitutionfees_$100to$249', 'Distributionofrestitutionfees_$1000to$4999', 'Distributionofrestitutionfees_$250to$499', 'Distributionofrestitutionfees_$500to$999', 'Distributionofrestitutionfees_$5000ormore', 'Distributionofrestitutionfees_Lessthan$100', 'Distributionofrestitutionfees_Notascertained', 'Distributionofallotherfees_$100to$249', 'Distributionofallotherfees_$1000to$4999', 'Distributionofallotherfees_$250to$499', 'Distributionofallotherfees_$500to$999', 'Distributionofallotherfees_$5000ormore', 'Distributionofallotherfees_Lessthan$100', 'Distributionofallotherfees_Notascertained', 'Distributionofallotherassessments_$100to$249', 'Distributionofallotherassessments_$1000to$4999', 'Distributionofallotherassessments_$250to$499', 'Distributionofallotherassessments_$500to$999', 'Distributionofallotherassessments_$5000ormore', 'Distributionofallotherassessments_Lessthan$100', 'Distributionofallotherassessments_Notascertained', 'Distributionofpercentofassessments-court_0%', 'Distributionofpercentofassessments-court_1to24%', 'Distributionofpercentofassessments-court_100%', 'Distributionofpercentofassessments-court_25to49%', 'Distributionofpercentofassessments-court_50to74%', 'Distributionofpercentofassessments-court_75to99%', 'Distributionofpercentofassessments-court_Notascertained', 'Distributionofpercentofassessments-supervision_0%', 'Distributionofpercentofassessments-supervision_1to24%', 'Distributionofpercentofassessments-supervision_100%', 'Distributionofpercentofassessments-supervision_25to49%', 'Distributionofpercentofassessments-supervision_50to74%', 'Distributionofpercentofassessments-supervision_75to99%', 'Distributionofpercentofassessments-supervision_Notascertained', 'Distributionofpercentofassessments-restitution_0%', 'Distributionofpercentofassessments-restitution_1to24%', 'Distributionofpercentofassessments-restitution_100%', 'Distributionofpercentofassessments-restitution_25to49%', 'Distributionofpercentofassessments-restitution_50to74%', 'Distributionofpercentofassessments-restitution_75to99%', 'Distributionofpercentofassessments-restitution_Notascertained', 'Distributionofpercentofassessments-other_0%', 'Distributionofpercentofassessments-other_1to24%', 'Distributionofpercentofassessments-other_100%', 'Distributionofpercentofassessments-other_25to49%', 'Distributionofpercentofassessments-other_50to74%', 'Distributionofpercentofassessments-other_75to99%', 'Distributionofpercentofassessments-other_Notascertained', 'Distributionofpercentofassessments-total_0%', 'Distributionofpercentofassessments-total_1to24%', 'Distributionofpercentofassessments-total_100%', 'Distributionofpercentofassessments-total_25to49%', 'Distributionofpercentofassessments-total_50to74%', 'Distributionofpercentofassessments-total_75to99%', 'Distributionofpercentofassessments-total_Notascertained', 'Agedistribution_20to24years', 'Agedistribution_25to29years', 'Agedistribution_30to39years', 'Agedistribution_40to49years', 'Agedistribution_50orolder', 'Agedistribution_Notascertained', 'Agedistribution_Under20', 'Recodeoftimetofirsthearing_0to183days', 'Recodeoftimetofirsthearing_184to365days', 'Recodeoftimetofirsthearing_366to548days', 'Recodeoftimetofirsthearing_549ormoredays', 'Recodeoftimetofirsthearing_Notapplicable', 'Recodeoftimetofirsthearing_Notascertained', 'Recodeoftimefromviolationtohearing_0to14days', 'Recodeoftimefromviolationtohearing_15to31days', 'Recodeoftimefromviolationtohearing_32to46days', 'Recodeoftimefromviolationtohearing_47to62days', 'Recodeoftimefromviolationtohearing_63ormoredays', 'Recodeoftimefromviolationtohearing_Notapplicable', 'Recodeoftimefromviolationtohearing_Notascertained', 'Riskflag_No', 'Riskflag_Yes', 'Raceofprobationer_AmerIndian/AlaskanNative', 'Raceofprobationer_Asian/PacificIslander', 'Raceofprobationer_Black', 'Raceofprobationer_Notascertained', 'Raceofprobationer_Other', 'Raceofprobationer_White', 'Ethnicityofprobationer_Hispanic', 'Ethnicityofprobationer_Non-Hispanic', 'Ethnicityofprobationer_Notascertained', '1986convictionoffense_Aggravatedassault', '1986convictionoffense_Burglary', '1986convictionoffense_Drugtrafficking', '1986convictionoffense_Larceny/autotheft', '1986convictionoffense_Murder/nonnegmanslaughter', '1986convictionoffense_Otherfelony', '1986convictionoffense_Rape', '1986convictionoffense_Robbery', 'Jurisdiction_BaltimoreCity,MD', 'Jurisdiction_BaltimoreCounty,MD', 'Jurisdiction_BexarCounty,TX', 'Jurisdiction_CookCounty,IL', 'Jurisdiction_DadeCounty,FL', 'Jurisdiction_DallasCounty,TX', 'Jurisdiction_Denver,CO', 'Jurisdiction_ErieCounty,NY', 'Jurisdiction_FranklinCounty,OH', 'Jurisdiction_HarrisCounty,TX', 'Jurisdiction_HennepinCounty,MN', 'Jurisdiction_Honolulucounty,HI', 'Jurisdiction_JeffersonCounty,KY', 'Jurisdiction_KingCounty,WA', 'Jurisdiction_KingsCounty,NY', 'Jurisdiction_LosAngelesCounty,CA', 'Jurisdiction_MaricopaCounty,AZ', 'Jurisdiction_MilwaukeeCounty,WI', 'Jurisdiction_MonroeCounty,NY', 'Jurisdiction_NassauCounty,NY', 'Jurisdiction_NewYorkCounty,NY', 'Jurisdiction_OklahomaCounty,OK', 'Jurisdiction_OrangeCounty,CA', 'Jurisdiction_Philadelphia,PA', 'Jurisdiction_SanBernardinoCounty,CA', 'Jurisdiction_SanDiegoCounty,CA', 'Jurisdiction_SanFrancisco,CA', 'Jurisdiction_SantaClaraCounty,CA', 'Jurisdiction_StLouisCity,MO', 'Jurisdiction_StLouisCounty,MO', 'Jurisdiction_SuffolkCounty,NY', 'Jurisdiction_VenturaCounty,CA', 'Presentenceinvestigationbeforesentencing_No', 'Presentenceinvestigationbeforesentencing_Notascertained', 'Presentenceinvestigationbeforesentencing_Yes', 'Probationrecommended_No', 'Probationrecommended_Notascertained', 'Probationrecommended_Yes', 'Stillonprobation_No', 'Stillonprobation_Notascertained', 'Stillonprobation_Yes', 'Initialsupervisionlevel_Administrativesupervision', 'Initialsupervisionlevel_Intensivesupervision', 'Initialsupervisionlevel_Lowsupervision', 'Initialsupervisionlevel_Maximumsupervision', 'Initialsupervisionlevel_Mediumsupervision', 'Initialsupervisionlevel_Minimumsupervision', 'Initialsupervisionlevel_Notascertained', 'Lastsupervisionlevel_Administrativesupervision', 'Lastsupervisionlevel_Intensivesupervision', 'Lastsupervisionlevel_Maximumsupervision', 'Lastsupervisionlevel_Mediumsupervision', 'Lastsupervisionlevel_Minimumsupervision', 'Lastsupervisionlevel_Notascertained', 'Lastsupervisionlevel.1_Notascertained', 'Lastsupervisionlevel.1_Nothing,notreatment/testing', 'Lastsupervisionlevel.1_Testingonly', 'Lastsupervisionlevel.1_Treatmentonly', 'Lastsupervisionlevel.1_Treatment/testingimposed', 'Arrestdatematch-rapsheetandsentencingsurvey_No', 'Arrestdatematch-rapsheetandsentencingsurvey_Notascertained', 'Arrestdatematch-rapsheetandsentencingsurvey_Yes']\n"
     ]
    }
   ],
   "source": [
    "# print out some labels, names, etc.\n",
    "display(Markdown(\"#### Training Dataset shape\"))\n",
    "print(dataset_orig_train.features.shape)\n",
    "display(Markdown(\"#### Favorable and unfavorable labels\"))\n",
    "print(dataset_orig_train.favorable_label, dataset_orig_train.unfavorable_label)\n",
    "display(Markdown(\"#### Protected attribute names\"))\n",
    "print(dataset_orig_train.protected_attribute_names)\n",
    "display(Markdown(\"#### Privileged and unprivileged protected attribute values\"))\n",
    "print(dataset_orig_train.privileged_protected_attributes, \n",
    "      dataset_orig_train.unprivileged_protected_attributes)\n",
    "display(Markdown(\"#### Dataset feature names\"))\n",
    "print(dataset_orig_train.feature_names)"
   ]
  },
  {
   "cell_type": "markdown",
   "metadata": {},
   "source": [
    "#### Metric for original training data"
   ]
  },
  {
   "cell_type": "code",
   "execution_count": 88,
   "metadata": {},
   "outputs": [
    {
     "data": {
      "text/markdown": [
       "#### Original training dataset"
      ],
      "text/plain": [
       "<IPython.core.display.Markdown object>"
      ]
     },
     "metadata": {},
     "output_type": "display_data"
    },
    {
     "name": "stdout",
     "output_type": "stream",
     "text": [
      "Difference in mean outcomes between unprivileged and privileged groups = 0.127986\n"
     ]
    }
   ],
   "source": [
    "metric_orig_train = BinaryLabelDatasetMetric(dataset_orig_train, \n",
    "                                             unprivileged_groups=unprivileged_groups,\n",
    "                                             privileged_groups=privileged_groups)\n",
    "display(Markdown(\"#### Original training dataset\"))\n",
    "print(\"Difference in mean outcomes between unprivileged and privileged groups = %f\" % metric_orig_train.mean_difference())"
   ]
  },
  {
   "cell_type": "markdown",
   "metadata": {},
   "source": [
    "### Train classifier on original data"
   ]
  },
  {
   "cell_type": "code",
   "execution_count": 89,
   "metadata": {},
   "outputs": [
    {
     "name": "stderr",
     "output_type": "stream",
     "text": [
      "lbfgs failed to converge (status=1):\n",
      "STOP: TOTAL NO. of ITERATIONS REACHED LIMIT.\n",
      "\n",
      "Increase the number of iterations (max_iter) or scale the data as shown in:\n",
      "    https://scikit-learn.org/stable/modules/preprocessing.html\n",
      "Please also refer to the documentation for alternative solver options:\n",
      "    https://scikit-learn.org/stable/modules/linear_model.html#logistic-regression\n"
     ]
    }
   ],
   "source": [
    "# Logistic regression classifier and predictions\n",
    "scale_orig = StandardScaler()\n",
    "X_train = scale_orig.fit_transform(dataset_orig_train.features)\n",
    "y_train = dataset_orig_train.labels.ravel()\n",
    "\n",
    "lmod = LogisticRegression()\n",
    "lmod.fit(X_train, y_train)\n",
    "y_train_pred = lmod.predict(X_train)\n",
    "\n",
    "# positive class index\n",
    "pos_ind = np.where(lmod.classes_ == dataset_orig_train.favorable_label)[0][0]\n",
    "\n",
    "dataset_orig_train_pred = dataset_orig_train.copy(deepcopy=True)\n",
    "dataset_orig_train_pred.labels = y_train_pred"
   ]
  },
  {
   "cell_type": "markdown",
   "metadata": {},
   "source": [
    "#### Obtain scores for validation and test sets"
   ]
  },
  {
   "cell_type": "code",
   "execution_count": 90,
   "metadata": {},
   "outputs": [],
   "source": [
    "dataset_orig_valid_pred = dataset_orig_valid.copy(deepcopy=True)\n",
    "X_valid = scale_orig.transform(dataset_orig_valid_pred.features)\n",
    "y_valid = dataset_orig_valid_pred.labels\n",
    "dataset_orig_valid_pred.scores = lmod.predict_proba(X_valid)[:,pos_ind].reshape(-1,1)\n",
    "\n",
    "dataset_orig_test_pred = dataset_orig_test.copy(deepcopy=True)\n",
    "X_test = scale_orig.transform(dataset_orig_test_pred.features)\n",
    "y_test = dataset_orig_test_pred.labels\n",
    "dataset_orig_test_pred.scores = lmod.predict_proba(X_test)[:,pos_ind].reshape(-1,1)"
   ]
  },
  {
   "cell_type": "markdown",
   "metadata": {},
   "source": [
    "### Find the optimal parameters from the validation set"
   ]
  },
  {
   "cell_type": "markdown",
   "metadata": {},
   "source": [
    "#### Best threshold for classification only (no fairness)"
   ]
  },
  {
   "cell_type": "code",
   "execution_count": 91,
   "metadata": {},
   "outputs": [
    {
     "name": "stdout",
     "output_type": "stream",
     "text": [
      "Best balanced accuracy (no fairness constraints) = 0.7698\n",
      "Optimal classification threshold (no fairness constraints) = 0.3862\n"
     ]
    }
   ],
   "source": [
    "num_thresh = 100\n",
    "ba_arr = np.zeros(num_thresh)\n",
    "class_thresh_arr = np.linspace(0.01, 0.99, num_thresh)\n",
    "for idx, class_thresh in enumerate(class_thresh_arr):\n",
    "    \n",
    "    fav_inds = dataset_orig_valid_pred.scores > class_thresh\n",
    "    dataset_orig_valid_pred.labels[fav_inds] = dataset_orig_valid_pred.favorable_label\n",
    "    dataset_orig_valid_pred.labels[~fav_inds] = dataset_orig_valid_pred.unfavorable_label\n",
    "    \n",
    "    classified_metric_orig_valid = ClassificationMetric(dataset_orig_valid,\n",
    "                                             dataset_orig_valid_pred, \n",
    "                                             unprivileged_groups=unprivileged_groups,\n",
    "                                             privileged_groups=privileged_groups)\n",
    "    \n",
    "    ba_arr[idx] = 0.5*(classified_metric_orig_valid.true_positive_rate()\\\n",
    "                       +classified_metric_orig_valid.true_negative_rate())\n",
    "\n",
    "best_ind = np.where(ba_arr == np.max(ba_arr))[0][0]\n",
    "best_class_thresh = class_thresh_arr[best_ind]\n",
    "\n",
    "print(\"Best balanced accuracy (no fairness constraints) = %.4f\" % np.max(ba_arr))\n",
    "print(\"Optimal classification threshold (no fairness constraints) = %.4f\" % best_class_thresh)"
   ]
  },
  {
   "cell_type": "markdown",
   "metadata": {},
   "source": [
    "#### Estimate optimal parameters for the ROC method"
   ]
  },
  {
   "cell_type": "code",
   "execution_count": 92,
   "metadata": {},
   "outputs": [],
   "source": [
    "ROC = RejectOptionClassification(unprivileged_groups=unprivileged_groups, \n",
    "                                 privileged_groups=privileged_groups, \n",
    "                                 low_class_thresh=0.01, high_class_thresh=0.99,\n",
    "                                  num_class_thresh=100, num_ROC_margin=50,\n",
    "                                  metric_name=metric_name,\n",
    "                                  metric_ub=metric_ub, metric_lb=metric_lb)\n",
    "ROC = ROC.fit(dataset_orig_valid, dataset_orig_valid_pred)"
   ]
  },
  {
   "cell_type": "code",
   "execution_count": 93,
   "metadata": {},
   "outputs": [
    {
     "name": "stdout",
     "output_type": "stream",
     "text": [
      "Optimal classification threshold (with fairness constraints) = 0.1189\n",
      "Optimal ROC margin = 0.0000\n"
     ]
    }
   ],
   "source": [
    "print(\"Optimal classification threshold (with fairness constraints) = %.4f\" % ROC.classification_threshold)\n",
    "print(\"Optimal ROC margin = %.4f\" % ROC.ROC_margin)"
   ]
  },
  {
   "cell_type": "markdown",
   "metadata": {},
   "source": [
    "### Predictions from Validation Set"
   ]
  },
  {
   "cell_type": "code",
   "execution_count": 94,
   "metadata": {},
   "outputs": [
    {
     "data": {
      "text/markdown": [
       "#### Validation set"
      ],
      "text/plain": [
       "<IPython.core.display.Markdown object>"
      ]
     },
     "metadata": {},
     "output_type": "display_data"
    },
    {
     "data": {
      "text/markdown": [
       "##### Raw predictions - No fairness constraints, only maximizing balanced accuracy"
      ],
      "text/plain": [
       "<IPython.core.display.Markdown object>"
      ]
     },
     "metadata": {},
     "output_type": "display_data"
    },
    {
     "name": "stdout",
     "output_type": "stream",
     "text": [
      "Balanced accuracy = 0.7698\n",
      "Statistical parity difference = 0.2270\n",
      "Disparate impact = 2.0480\n",
      "Average odds difference = 0.1375\n",
      "Equal opportunity difference = 0.1902\n",
      "Theil index = 0.1410\n"
     ]
    }
   ],
   "source": [
    "# Metrics for the test set\n",
    "fav_inds = dataset_orig_valid_pred.scores > best_class_thresh\n",
    "dataset_orig_valid_pred.labels[fav_inds] = dataset_orig_valid_pred.favorable_label\n",
    "dataset_orig_valid_pred.labels[~fav_inds] = dataset_orig_valid_pred.unfavorable_label\n",
    "\n",
    "display(Markdown(\"#### Validation set\"))\n",
    "display(Markdown(\"##### Raw predictions - No fairness constraints, only maximizing balanced accuracy\"))\n",
    "\n",
    "metric_valid_bef = compute_metrics(dataset_orig_valid, dataset_orig_valid_pred, \n",
    "                unprivileged_groups, privileged_groups)"
   ]
  },
  {
   "cell_type": "code",
   "execution_count": 95,
   "metadata": {},
   "outputs": [
    {
     "data": {
      "text/markdown": [
       "#### Validation set"
      ],
      "text/plain": [
       "<IPython.core.display.Markdown object>"
      ]
     },
     "metadata": {},
     "output_type": "display_data"
    },
    {
     "data": {
      "text/markdown": [
       "##### Transformed predictions - With fairness constraints"
      ],
      "text/plain": [
       "<IPython.core.display.Markdown object>"
      ]
     },
     "metadata": {},
     "output_type": "display_data"
    },
    {
     "name": "stdout",
     "output_type": "stream",
     "text": [
      "Balanced accuracy = 0.6507\n",
      "Statistical parity difference = 0.1808\n",
      "Disparate impact = 1.3017\n",
      "Average odds difference = 0.0879\n",
      "Equal opportunity difference = 0.0416\n",
      "Theil index = 0.0823\n"
     ]
    }
   ],
   "source": [
    "# Transform the validation set\n",
    "dataset_transf_valid_pred = ROC.predict(dataset_orig_valid_pred)\n",
    "\n",
    "display(Markdown(\"#### Validation set\"))\n",
    "display(Markdown(\"##### Transformed predictions - With fairness constraints\"))\n",
    "metric_valid_aft = compute_metrics(dataset_orig_valid, dataset_transf_valid_pred, \n",
    "                unprivileged_groups, privileged_groups)"
   ]
  },
  {
   "cell_type": "code",
   "execution_count": 96,
   "metadata": {},
   "outputs": [],
   "source": [
    "# Testing: Check if the metric optimized has not become worse\n",
    "assert np.abs(metric_valid_aft[metric_name]) <= np.abs(metric_valid_bef[metric_name])"
   ]
  },
  {
   "cell_type": "markdown",
   "metadata": {},
   "source": [
    "### Predictions from Test Set"
   ]
  },
  {
   "cell_type": "code",
   "execution_count": 97,
   "metadata": {},
   "outputs": [
    {
     "data": {
      "text/markdown": [
       "#### Test set"
      ],
      "text/plain": [
       "<IPython.core.display.Markdown object>"
      ]
     },
     "metadata": {},
     "output_type": "display_data"
    },
    {
     "data": {
      "text/markdown": [
       "##### Raw predictions - No fairness constraints, only maximizing balanced accuracy"
      ],
      "text/plain": [
       "<IPython.core.display.Markdown object>"
      ]
     },
     "metadata": {},
     "output_type": "display_data"
    },
    {
     "name": "stdout",
     "output_type": "stream",
     "text": [
      "Balanced accuracy = 0.7528\n",
      "Statistical parity difference = 0.1460\n",
      "Disparate impact = 1.4948\n",
      "Average odds difference = 0.1080\n",
      "Equal opportunity difference = 0.1321\n",
      "Theil index = 0.1513\n"
     ]
    }
   ],
   "source": [
    "# Metrics for the test set\n",
    "fav_inds = dataset_orig_test_pred.scores > best_class_thresh\n",
    "dataset_orig_test_pred.labels[fav_inds] = dataset_orig_test_pred.favorable_label\n",
    "dataset_orig_test_pred.labels[~fav_inds] = dataset_orig_test_pred.unfavorable_label\n",
    "\n",
    "display(Markdown(\"#### Test set\"))\n",
    "display(Markdown(\"##### Raw predictions - No fairness constraints, only maximizing balanced accuracy\"))\n",
    "\n",
    "metric_test_bef = compute_metrics(dataset_orig_test, dataset_orig_test_pred, \n",
    "                unprivileged_groups, privileged_groups)"
   ]
  },
  {
   "cell_type": "code",
   "execution_count": 98,
   "metadata": {},
   "outputs": [
    {
     "data": {
      "text/markdown": [
       "#### Test set"
      ],
      "text/plain": [
       "<IPython.core.display.Markdown object>"
      ]
     },
     "metadata": {},
     "output_type": "display_data"
    },
    {
     "data": {
      "text/markdown": [
       "##### Transformed predictions - With fairness constraints"
      ],
      "text/plain": [
       "<IPython.core.display.Markdown object>"
      ]
     },
     "metadata": {},
     "output_type": "display_data"
    },
    {
     "name": "stdout",
     "output_type": "stream",
     "text": [
      "Balanced accuracy = 0.6432\n",
      "Statistical parity difference = 0.1016\n",
      "Disparate impact = 1.1464\n",
      "Average odds difference = 0.0596\n",
      "Equal opportunity difference = 0.0175\n",
      "Theil index = 0.0754\n"
     ]
    }
   ],
   "source": [
    "# Metrics for the transformed test set\n",
    "dataset_transf_test_pred = ROC.predict(dataset_orig_test_pred)\n",
    "\n",
    "display(Markdown(\"#### Test set\"))\n",
    "display(Markdown(\"##### Transformed predictions - With fairness constraints\"))\n",
    "metric_test_aft = compute_metrics(dataset_orig_test, dataset_transf_test_pred, \n",
    "                unprivileged_groups, privileged_groups)"
   ]
  },
  {
   "cell_type": "code",
   "execution_count": 99,
   "metadata": {},
   "outputs": [
    {
     "name": "stdout",
     "output_type": "stream",
     "text": [
      "The Error for the test dataset is 0.3568\n",
      "The Equal opportunity difference for the test dataset is 0.01751\n"
     ]
    }
   ],
   "source": [
    "metric_test_aft[\"Balanced accuracy\"]\n",
    "metric_test_aft[\"Equal opportunity difference\"]\n",
    "print(\"The Error for the test dataset is {:.4}\".format(1-metric_test_aft[\"Balanced accuracy\"]))\n",
    "print(\"The Equal opportunity difference for the test dataset is {:.4}\".format(metric_test_aft[\"Equal opportunity difference\"]))"
   ]
  }
 ],
 "metadata": {
  "kernelspec": {
   "display_name": "Python 3",
   "language": "python",
   "name": "python3"
  },
  "language_info": {
   "codemirror_mode": {
    "name": "ipython",
    "version": 3
   },
   "file_extension": ".py",
   "mimetype": "text/x-python",
   "name": "python",
   "nbconvert_exporter": "python",
   "pygments_lexer": "ipython3",
   "version": "3.9.13"
  }
 },
 "nbformat": 4,
 "nbformat_minor": 2
}
