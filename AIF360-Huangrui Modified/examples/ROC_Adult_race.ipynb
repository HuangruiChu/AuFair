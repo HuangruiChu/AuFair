{
 "cells": [
  {
   "cell_type": "markdown",
   "metadata": {},
   "source": [
    "#### This notebook demonstrates the use of the Reject Option Classification (ROC) post-processing algorithm for bias mitigation for Adult race.\n",
    "- The debiasing function used is implemented in the `RejectOptionClassification` class.\n",
    "- Divide the dataset into training, validation, and testing partitions.\n",
    "- Train classifier on original training data.\n",
    "- Estimate the optimal classification threshold, that maximizes balanced accuracy without fairness constraints.\n",
    "- Estimate the optimal classification threshold, and the critical region boundary (ROC margin) using a validation set for the desired constraint on fairness. The best parameters are those that maximize the classification threshold while satisfying the fairness constraints.\n",
    "- The constraints can be used on the following fairness measures:\n",
    "    * Statistical parity difference on the predictions of the classifier\n",
    "    * Average odds difference for the classifier\n",
    "    * Equal opportunity difference for the classifier\n",
    "- Determine the prediction scores for testing data. Using the estimated optimal classification threshold, compute accuracy and fairness metrics.\n",
    "- Using the determined optimal classification threshold and the ROC margin, adjust the predictions. Report accuracy and fairness metric on the new predictions."
   ]
  },
  {
   "cell_type": "code",
   "execution_count": 1,
   "metadata": {},
   "outputs": [
    {
     "name": "stderr",
     "output_type": "stream",
     "text": [
      "WARNING:root:\n",
      "`load_boston` has been removed from scikit-learn since version 1.2.\n",
      "\n",
      "The Boston housing prices dataset has an ethical problem: as\n",
      "investigated in [1], the authors of this dataset engineered a\n",
      "non-invertible variable \"B\" assuming that racial self-segregation had a\n",
      "positive impact on house prices [2]. Furthermore the goal of the\n",
      "research that led to the creation of this dataset was to study the\n",
      "impact of air quality but it did not give adequate demonstration of the\n",
      "validity of this assumption.\n",
      "\n",
      "The scikit-learn maintainers therefore strongly discourage the use of\n",
      "this dataset unless the purpose of the code is to study and educate\n",
      "about ethical issues in data science and machine learning.\n",
      "\n",
      "In this special case, you can fetch the dataset from the original\n",
      "source::\n",
      "\n",
      "    import pandas as pd\n",
      "    import numpy as np\n",
      "\n",
      "    data_url = \"http://lib.stat.cmu.edu/datasets/boston\"\n",
      "    raw_df = pd.read_csv(data_url, sep=\"\\s+\", skiprows=22, header=None)\n",
      "    data = np.hstack([raw_df.values[::2, :], raw_df.values[1::2, :2]])\n",
      "    target = raw_df.values[1::2, 2]\n",
      "\n",
      "Alternative datasets include the California housing dataset and the\n",
      "Ames housing dataset. You can load the datasets as follows::\n",
      "\n",
      "    from sklearn.datasets import fetch_california_housing\n",
      "    housing = fetch_california_housing()\n",
      "\n",
      "for the California housing dataset and::\n",
      "\n",
      "    from sklearn.datasets import fetch_openml\n",
      "    housing = fetch_openml(name=\"house_prices\", as_frame=True)\n",
      "\n",
      "for the Ames housing dataset.\n",
      "\n",
      "[1] M Carlisle.\n",
      "\"Racist data destruction?\"\n",
      "<https://medium.com/@docintangible/racist-data-destruction-113e3eff54a8>\n",
      "\n",
      "[2] Harrison Jr, David, and Daniel L. Rubinfeld.\n",
      "\"Hedonic housing prices and the demand for clean air.\"\n",
      "Journal of environmental economics and management 5.1 (1978): 81-102.\n",
      "<https://www.researchgate.net/publication/4974606_Hedonic_housing_prices_and_the_demand_for_clean_air>\n",
      ": LawSchoolGPADataset will be unavailable. To install, run:\n",
      "pip install 'aif360[LawSchoolGPA]'\n",
      "WARNING:root:No module named 'tensorflow': AdversarialDebiasing will be unavailable. To install, run:\n",
      "pip install 'aif360[AdversarialDebiasing]'\n",
      "WARNING:root:No module named 'tensorflow': AdversarialDebiasing will be unavailable. To install, run:\n",
      "pip install 'aif360[AdversarialDebiasing]'\n"
     ]
    }
   ],
   "source": [
    "%matplotlib inline\n",
    "# Load all necessary packages\n",
    "import sys\n",
    "sys.path.append(\"../\")\n",
    "import numpy as np\n",
    "from tqdm import tqdm\n",
    "from warnings import warn\n",
    "\n",
    "from aif360.datasets import BinaryLabelDataset\n",
    "from aif360.datasets import StandardDataset\n",
    "from aif360.metrics import ClassificationMetric, BinaryLabelDatasetMetric\n",
    "from aif360.metrics.utils import compute_boolean_conditioning_vector\n",
    "from aif360.algorithms.postprocessing.reject_option_classification\\\n",
    "        import RejectOptionClassification\n",
    "from common_utils import compute_metrics\n",
    "\n",
    "from sklearn.linear_model import LogisticRegression\n",
    "from sklearn.preprocessing import StandardScaler\n",
    "from sklearn.metrics import accuracy_score\n",
    "\n",
    "from IPython.display import Markdown, display\n",
    "import matplotlib.pyplot as plt\n",
    "from ipywidgets import interactive, FloatSlider\n",
    "import pandas as pd\n",
    "import pickle"
   ]
  },
  {
   "cell_type": "markdown",
   "metadata": {},
   "source": [
    "#### Load dataset and specify options"
   ]
  },
  {
   "cell_type": "markdown",
   "metadata": {},
   "source": [
    "\n",
    "Huangrui's ADULT PREPROCESS\n",
    "\n",
    "Only modify the sex and race to 1/0\n",
    "\n",
    "With favorable one as 1. \n",
    "\n",
    "keep all other features\n",
    "\n",
    "Race Is not dummy columned, thus we have fewer columns\n"
   ]
  },
  {
   "cell_type": "markdown",
   "metadata": {},
   "source": [
    "# Huangrui defined Adult Dataset"
   ]
  },
  {
   "cell_type": "code",
   "execution_count": 2,
   "metadata": {},
   "outputs": [],
   "source": [
    "default_mappings = {\n",
    "    'label_maps': [{1.0: '>50K', 0.0: '<=50K'}],\n",
    "    'protected_attribute_maps': [{1.0: 'Non-Black', 0.0: 'Black'},\n",
    "                                 {1.0: 'Male', 0.0: 'Female'}]\n",
    "}\n",
    "def code_continuous(df,collist,Nlevel):\n",
    "    for col in collist:\n",
    "        for q in range(1,Nlevel,1):\n",
    "            threshold = df[~np.isnan(df[col])][col].quantile(float(q)/Nlevel)\n",
    "            df[col+'_geq'+str(int(q))+'q'+str(threshold)] = (df[col] >= threshold).astype(float)\n",
    "    df.drop(collist,axis = 1, inplace = True)\n",
    "class AdultDataset(StandardDataset):\n",
    "    \"\"\"Adult Census Income Dataset.\n",
    "\n",
    "    See :file:`aif360/data/raw/adult/README.md`.\n",
    "    \"\"\"\n",
    "\n",
    "    def __init__(self, label_name='Y',\n",
    "                 favorable_classes=[1],\n",
    "                 protected_attribute_names=[\"race_Black\"],\n",
    "                 privileged_classes=[ [0]],\n",
    "                 instance_weights_name=None,\n",
    "                 categorical_features=[],\n",
    "                 features_to_keep=[], features_to_drop=[],\n",
    "                 na_values=['?'], custom_preprocessing=None,\n",
    "                 metadata=default_mappings, path=None):\n",
    "         #deal with the race\n",
    "         df = pd.read_csv(\"./Huangrui/adult/adult_train1.csv\",index_col=False,header = 0, sep = ',')\n",
    "         numericals = [col for col in df.columns if len(df[col].unique())>2 and max(df[col])>1]\n",
    "         code_continuous(df,numericals, 5)\n",
    "         df.drop([\"race_Asian-Pac-Islander\",\n",
    "            \"race_Amer-Indian-Eskimo\",\n",
    "            \"race_White\",\n",
    "            \"race_Other\"], axis=1, inplace=True)\n",
    "         super(AdultDataset, self).__init__(df=df, label_name=label_name,\n",
    "            favorable_classes=favorable_classes,\n",
    "            protected_attribute_names=protected_attribute_names,\n",
    "            privileged_classes=privileged_classes,\n",
    "            instance_weights_name=instance_weights_name,\n",
    "            categorical_features=categorical_features,\n",
    "            features_to_keep=features_to_keep,\n",
    "            features_to_drop=features_to_drop, na_values=na_values,\n",
    "            custom_preprocessing=custom_preprocessing, metadata=metadata)"
   ]
  },
  {
   "cell_type": "code",
   "execution_count": 3,
   "metadata": {},
   "outputs": [],
   "source": [
    "## import dataset\n",
    "dataset_used = \"adult\" # \"adult\", \"german\", \"compas\"\n",
    "\n",
    "privileged_groups = [{'race_Black': 0}]\n",
    "unprivileged_groups = [{'race_Black': 1}]\n",
    "\n",
    "# Metric used (should be one of allowed_metrics)\n",
    "metric_name = \"Equal opportunity difference\"\n",
    "\n",
    "# Upper and lower bound on the fairness metric used\n",
    "metric_ub = 0.05\n",
    "metric_lb = -0.05\n",
    "        \n",
    "#random seed for calibrated equal odds prediction\n",
    "random_seed = 12345679\n",
    "np.random.seed(random_seed)\n",
    "\n",
    "# Verify metric name\n",
    "allowed_metrics = [\"Statistical parity difference\",\n",
    "                   \"Average odds difference\",\n",
    "                   \"Equal opportunity difference\"]\n",
    "if metric_name not in allowed_metrics:\n",
    "    raise ValueError(\"Metric name should be one of allowed metrics\")"
   ]
  },
  {
   "cell_type": "markdown",
   "metadata": {},
   "source": [
    "#### Split into train, test and validation"
   ]
  },
  {
   "cell_type": "markdown",
   "metadata": {},
   "source": [
    "change the dataset_train[i] for specific K"
   ]
  },
  {
   "cell_type": "code",
   "execution_count": 40,
   "metadata": {},
   "outputs": [],
   "source": [
    "K=5\n",
    "budget = 0.01 #0.01, 0.1, 1"
   ]
  },
  {
   "cell_type": "code",
   "execution_count": 41,
   "metadata": {},
   "outputs": [],
   "source": [
    "dataset_orig_train= AdultDataset(path=\"./Huangrui/adult/adult_train{}.csv\".format(K))"
   ]
  },
  {
   "cell_type": "code",
   "execution_count": 42,
   "metadata": {},
   "outputs": [],
   "source": [
    "dataset_orig_test= AdultDataset(path=\"./Huangrui/adult/adult_test{}.csv\".format(K))"
   ]
  },
  {
   "cell_type": "code",
   "execution_count": 43,
   "metadata": {},
   "outputs": [],
   "source": [
    "#only use the budget% of the training data\n",
    "dataset_orig_train,_ = dataset_orig_train.split([budget], shuffle=False)"
   ]
  },
  {
   "cell_type": "markdown",
   "metadata": {},
   "source": [
    "#### Clean up training data and display properties of the data"
   ]
  },
  {
   "cell_type": "code",
   "execution_count": 44,
   "metadata": {},
   "outputs": [
    {
     "data": {
      "text/markdown": [
       "#### Training Dataset shape"
      ],
      "text/plain": [
       "<IPython.core.display.Markdown object>"
      ]
     },
     "metadata": {},
     "output_type": "display_data"
    },
    {
     "name": "stdout",
     "output_type": "stream",
     "text": [
      "(239, 122)\n"
     ]
    },
    {
     "data": {
      "text/markdown": [
       "#### Favorable and unfavorable labels"
      ],
      "text/plain": [
       "<IPython.core.display.Markdown object>"
      ]
     },
     "metadata": {},
     "output_type": "display_data"
    },
    {
     "name": "stdout",
     "output_type": "stream",
     "text": [
      "1.0 0.0\n"
     ]
    },
    {
     "data": {
      "text/markdown": [
       "#### Protected attribute names"
      ],
      "text/plain": [
       "<IPython.core.display.Markdown object>"
      ]
     },
     "metadata": {},
     "output_type": "display_data"
    },
    {
     "name": "stdout",
     "output_type": "stream",
     "text": [
      "['race_Black']\n"
     ]
    },
    {
     "data": {
      "text/markdown": [
       "#### Privileged and unprivileged protected attribute values"
      ],
      "text/plain": [
       "<IPython.core.display.Markdown object>"
      ]
     },
     "metadata": {},
     "output_type": "display_data"
    },
    {
     "name": "stdout",
     "output_type": "stream",
     "text": [
      "[array([0.])] [array([1.])]\n"
     ]
    },
    {
     "data": {
      "text/markdown": [
       "#### Dataset feature names"
      ],
      "text/plain": [
       "<IPython.core.display.Markdown object>"
      ]
     },
     "metadata": {},
     "output_type": "display_data"
    },
    {
     "name": "stdout",
     "output_type": "stream",
     "text": [
      "['workclass_?', 'workclass_Federal-gov', 'workclass_Local-gov', 'workclass_Never-worked', 'workclass_Private', 'workclass_Self-emp-inc', 'workclass_Self-emp-not-inc', 'workclass_State-gov', 'workclass_Without-pay', 'education_10th', 'education_11th', 'education_12th', 'education_1st-4th', 'education_5th-6th', 'education_7th-8th', 'education_9th', 'education_Assoc-acdm', 'education_Assoc-voc', 'education_Bachelors', 'education_Doctorate', 'education_HS-grad', 'education_Masters', 'education_Preschool', 'education_Prof-school', 'education_Some-college', 'maritalstatus_Divorced', 'maritalstatus_Married-AF-spouse', 'maritalstatus_Married-civ-spouse', 'maritalstatus_Married-spouse-absent', 'maritalstatus_Never-married', 'maritalstatus_Separated', 'maritalstatus_Widowed', 'occupation_?', 'occupation_Adm-clerical', 'occupation_Armed-Forces', 'occupation_Craft-repair', 'occupation_Exec-managerial', 'occupation_Farming-fishing', 'occupation_Handlers-cleaners', 'occupation_Machine-op-inspct', 'occupation_Other-service', 'occupation_Priv-house-serv', 'occupation_Prof-specialty', 'occupation_Protective-serv', 'occupation_Sales', 'occupation_Tech-support', 'occupation_Transport-moving', 'relationship_Husband', 'relationship_Not-in-family', 'relationship_Other-relative', 'relationship_Own-child', 'relationship_Unmarried', 'relationship_Wife', 'race_Black', 'sex_Female', 'sex_Male', 'nativecountry_?', 'nativecountry_Cambodia', 'nativecountry_Canada', 'nativecountry_China', 'nativecountry_Columbia', 'nativecountry_Cuba', 'nativecountry_Dominican-Republic', 'nativecountry_Ecuador', 'nativecountry_El-Salvador', 'nativecountry_England', 'nativecountry_France', 'nativecountry_Germany', 'nativecountry_Greece', 'nativecountry_Guatemala', 'nativecountry_Haiti', 'nativecountry_Holand-Netherlands', 'nativecountry_Honduras', 'nativecountry_Hong', 'nativecountry_Hungary', 'nativecountry_India', 'nativecountry_Iran', 'nativecountry_Ireland', 'nativecountry_Italy', 'nativecountry_Jamaica', 'nativecountry_Japan', 'nativecountry_Laos', 'nativecountry_Mexico', 'nativecountry_Nicaragua', 'nativecountry_Outlying-US(Guam-USVI-etc)', 'nativecountry_Peru', 'nativecountry_Philippines', 'nativecountry_Poland', 'nativecountry_Portugal', 'nativecountry_Puerto-Rico', 'nativecountry_Scotland', 'nativecountry_South', 'nativecountry_Taiwan', 'nativecountry_Thailand', 'nativecountry_Trinadad&Tobago', 'nativecountry_United-States', 'nativecountry_Vietnam', 'nativecountry_Yugoslavia', 'age_geq1q26.0', 'age_geq2q33.0', 'age_geq3q41.0', 'age_geq4q50.0', 'fnlwgt_geq1q106547.2', 'fnlwgt_geq2q158364.00000000006', 'fnlwgt_geq3q196177.2', 'fnlwgt_geq4q258606.60000000006', 'educationnum_geq1q9.0', 'educationnum_geq2q9.0', 'educationnum_geq3q10.0', 'educationnum_geq4q13.0', 'capitalgain_geq1q0.0', 'capitalgain_geq2q0.0', 'capitalgain_geq3q0.0', 'capitalgain_geq4q0.0', 'capitalloss_geq1q0.0', 'capitalloss_geq2q0.0', 'capitalloss_geq3q0.0', 'capitalloss_geq4q0.0', 'hoursperweek_geq1q35.0', 'hoursperweek_geq2q40.0', 'hoursperweek_geq3q40.0', 'hoursperweek_geq4q48.0']\n"
     ]
    }
   ],
   "source": [
    "# print out some labels, names, etc.\n",
    "display(Markdown(\"#### Training Dataset shape\"))\n",
    "print(dataset_orig_train.features.shape)\n",
    "display(Markdown(\"#### Favorable and unfavorable labels\"))\n",
    "print(dataset_orig_train.favorable_label, dataset_orig_train.unfavorable_label)\n",
    "display(Markdown(\"#### Protected attribute names\"))\n",
    "print(dataset_orig_train.protected_attribute_names)\n",
    "display(Markdown(\"#### Privileged and unprivileged protected attribute values\"))\n",
    "print(dataset_orig_train.privileged_protected_attributes, \n",
    "      dataset_orig_train.unprivileged_protected_attributes)\n",
    "display(Markdown(\"#### Dataset feature names\"))\n",
    "print(dataset_orig_train.feature_names)"
   ]
  },
  {
   "cell_type": "markdown",
   "metadata": {},
   "source": [
    "#### Metric for original training data"
   ]
  },
  {
   "cell_type": "code",
   "execution_count": 45,
   "metadata": {},
   "outputs": [
    {
     "data": {
      "text/markdown": [
       "#### Original training dataset"
      ],
      "text/plain": [
       "<IPython.core.display.Markdown object>"
      ]
     },
     "metadata": {},
     "output_type": "display_data"
    },
    {
     "name": "stdout",
     "output_type": "stream",
     "text": [
      "Difference in mean outcomes between unprivileged and privileged groups = -0.037443\n"
     ]
    }
   ],
   "source": [
    "metric_orig_train = BinaryLabelDatasetMetric(dataset_orig_train, \n",
    "                                             unprivileged_groups=unprivileged_groups,\n",
    "                                             privileged_groups=privileged_groups)\n",
    "display(Markdown(\"#### Original training dataset\"))\n",
    "print(\"Difference in mean outcomes between unprivileged and privileged groups = %f\" % metric_orig_train.mean_difference())"
   ]
  },
  {
   "cell_type": "markdown",
   "metadata": {},
   "source": [
    "### Train classifier on original data"
   ]
  },
  {
   "cell_type": "code",
   "execution_count": 46,
   "metadata": {},
   "outputs": [
    {
     "data": {
      "text/plain": [
       "               instance weights    features                        \\\n",
       "                                                                    \n",
       "                                workclass_? workclass_Federal-gov   \n",
       "instance names                                                      \n",
       "0                           1.0         0.0                   0.0   \n",
       "1                           1.0         0.0                   0.0   \n",
       "2                           1.0         0.0                   0.0   \n",
       "3                           1.0         0.0                   0.0   \n",
       "4                           1.0         0.0                   0.0   \n",
       "...                         ...         ...                   ...   \n",
       "234                         1.0         0.0                   0.0   \n",
       "235                         1.0         0.0                   0.0   \n",
       "236                         1.0         0.0                   0.0   \n",
       "237                         1.0         0.0                   0.0   \n",
       "238                         1.0         0.0                   0.0   \n",
       "\n",
       "                                                                             \\\n",
       "                                                                              \n",
       "               workclass_Local-gov workclass_Never-worked workclass_Private   \n",
       "instance names                                                                \n",
       "0                              0.0                    0.0               1.0   \n",
       "1                              0.0                    0.0               1.0   \n",
       "2                              0.0                    0.0               1.0   \n",
       "3                              0.0                    0.0               1.0   \n",
       "4                              0.0                    0.0               1.0   \n",
       "...                            ...                    ...               ...   \n",
       "234                            0.0                    0.0               1.0   \n",
       "235                            0.0                    0.0               1.0   \n",
       "236                            0.0                    0.0               0.0   \n",
       "237                            0.0                    0.0               1.0   \n",
       "238                            0.0                    0.0               1.0   \n",
       "\n",
       "                                                                  \\\n",
       "                                                                   \n",
       "               workclass_Self-emp-inc workclass_Self-emp-not-inc   \n",
       "instance names                                                     \n",
       "0                                 0.0                        0.0   \n",
       "1                                 0.0                        0.0   \n",
       "2                                 0.0                        0.0   \n",
       "3                                 0.0                        0.0   \n",
       "4                                 0.0                        0.0   \n",
       "...                               ...                        ...   \n",
       "234                               0.0                        0.0   \n",
       "235                               0.0                        0.0   \n",
       "236                               0.0                        1.0   \n",
       "237                               0.0                        0.0   \n",
       "238                               0.0                        0.0   \n",
       "\n",
       "                                                          ...  \\\n",
       "                                                          ...   \n",
       "               workclass_State-gov workclass_Without-pay  ...   \n",
       "instance names                                            ...   \n",
       "0                              0.0                   0.0  ...   \n",
       "1                              0.0                   0.0  ...   \n",
       "2                              0.0                   0.0  ...   \n",
       "3                              0.0                   0.0  ...   \n",
       "4                              0.0                   0.0  ...   \n",
       "...                            ...                   ...  ...   \n",
       "234                            0.0                   0.0  ...   \n",
       "235                            0.0                   0.0  ...   \n",
       "236                            0.0                   0.0  ...   \n",
       "237                            0.0                   0.0  ...   \n",
       "238                            0.0                   0.0  ...   \n",
       "\n",
       "                                                                               \\\n",
       "                                                                                \n",
       "               capitalgain_geq4q0.0 capitalloss_geq1q0.0 capitalloss_geq2q0.0   \n",
       "instance names                                                                  \n",
       "0                               1.0                  1.0                  1.0   \n",
       "1                               1.0                  1.0                  1.0   \n",
       "2                               1.0                  1.0                  1.0   \n",
       "3                               1.0                  1.0                  1.0   \n",
       "4                               1.0                  1.0                  1.0   \n",
       "...                             ...                  ...                  ...   \n",
       "234                             1.0                  1.0                  1.0   \n",
       "235                             1.0                  1.0                  1.0   \n",
       "236                             1.0                  1.0                  1.0   \n",
       "237                             1.0                  1.0                  1.0   \n",
       "238                             1.0                  1.0                  1.0   \n",
       "\n",
       "                                                          \\\n",
       "                                                           \n",
       "               capitalloss_geq3q0.0 capitalloss_geq4q0.0   \n",
       "instance names                                             \n",
       "0                               1.0                  1.0   \n",
       "1                               1.0                  1.0   \n",
       "2                               1.0                  1.0   \n",
       "3                               1.0                  1.0   \n",
       "4                               1.0                  1.0   \n",
       "...                             ...                  ...   \n",
       "234                             1.0                  1.0   \n",
       "235                             1.0                  1.0   \n",
       "236                             1.0                  1.0   \n",
       "237                             1.0                  1.0   \n",
       "238                             1.0                  1.0   \n",
       "\n",
       "                                                              \\\n",
       "                                                               \n",
       "               hoursperweek_geq1q35.0 hoursperweek_geq2q40.0   \n",
       "instance names                                                 \n",
       "0                                 1.0                    1.0   \n",
       "1                                 1.0                    1.0   \n",
       "2                                 1.0                    1.0   \n",
       "3                                 1.0                    1.0   \n",
       "4                                 1.0                    1.0   \n",
       "...                               ...                    ...   \n",
       "234                               1.0                    0.0   \n",
       "235                               1.0                    1.0   \n",
       "236                               1.0                    1.0   \n",
       "237                               1.0                    0.0   \n",
       "238                               1.0                    1.0   \n",
       "\n",
       "                                                             labels  \n",
       "                                                                     \n",
       "               hoursperweek_geq3q40.0 hoursperweek_geq4q48.0         \n",
       "instance names                                                       \n",
       "0                                 1.0                    0.0    0.0  \n",
       "1                                 1.0                    1.0    1.0  \n",
       "2                                 1.0                    0.0    0.0  \n",
       "3                                 1.0                    0.0    0.0  \n",
       "4                                 1.0                    0.0    0.0  \n",
       "...                               ...                    ...    ...  \n",
       "234                               0.0                    0.0    0.0  \n",
       "235                               1.0                    1.0    1.0  \n",
       "236                               1.0                    1.0    0.0  \n",
       "237                               0.0                    0.0    0.0  \n",
       "238                               1.0                    0.0    0.0  \n",
       "\n",
       "[239 rows x 124 columns]"
      ]
     },
     "execution_count": 46,
     "metadata": {},
     "output_type": "execute_result"
    }
   ],
   "source": [
    "dataset_orig_train"
   ]
  },
  {
   "cell_type": "code",
   "execution_count": 47,
   "metadata": {},
   "outputs": [
    {
     "name": "stderr",
     "output_type": "stream",
     "text": [
      "C:\\edb\\languagepack\\v2\\Python-3.9\\lib\\site-packages\\sklearn\\base.py:348: InconsistentVersionWarning: Trying to unpickle estimator Lasso from version 0.22.1 when using version 1.3.2. This might lead to breaking code or invalid results. Use at your own risk. For more info please refer to:\n",
      "https://scikit-learn.org/stable/model_persistence.html#security-maintainability-limitations\n",
      "  warnings.warn(\n"
     ]
    }
   ],
   "source": [
    "# Logistic regression classifier and predictions\n",
    "scale_orig = StandardScaler()\n",
    "X_train = scale_orig.fit_transform(dataset_orig_train.features)\n",
    "y_train = dataset_orig_train.labels.ravel()\n",
    "\n",
    "lmod = pickle.load(open('experiments/adult'+str(K)+'_race_bmodel.pkl','rb'))['clf']\n",
    "y_train_pred = lmod.predict(X_train)\n",
    "\n",
    "dataset_orig_train_pred = dataset_orig_train.copy(deepcopy=True)\n",
    "dataset_orig_train_pred.labels = y_train_pred.reshape(-1,1)\n",
    "sigmoid = lambda x: 1 / (1 + np.exp(0.5-x))\n",
    "dataset_orig_train_pred.scores = sigmoid(y_train_pred).reshape(-1,1)"
   ]
  },
  {
   "cell_type": "markdown",
   "metadata": {},
   "source": [
    "#### Obtain scores for test sets"
   ]
  },
  {
   "cell_type": "code",
   "execution_count": 48,
   "metadata": {},
   "outputs": [],
   "source": [
    "dataset_orig_test_pred = dataset_orig_test.copy(deepcopy=True)\n",
    "X_test = scale_orig.transform(dataset_orig_test_pred.features)\n",
    "y_test = dataset_orig_test_pred.labels\n",
    "dataset_orig_test_pred.scores = sigmoid(lmod.predict(X_test)).reshape(-1,1)"
   ]
  },
  {
   "cell_type": "markdown",
   "metadata": {},
   "source": [
    "### Find the optimal parameters from the training set with specific budget"
   ]
  },
  {
   "cell_type": "markdown",
   "metadata": {},
   "source": [
    "#### Best threshold for classification only (no fairness)"
   ]
  },
  {
   "cell_type": "code",
   "execution_count": 49,
   "metadata": {},
   "outputs": [
    {
     "name": "stdout",
     "output_type": "stream",
     "text": [
      "Best balanced accuracy (no fairness constraints) = 0.8242\n",
      "Optimal classification threshold (no fairness constraints) = 0.3565\n"
     ]
    }
   ],
   "source": [
    "num_thresh = 100\n",
    "ba_arr = np.zeros(num_thresh)\n",
    "class_thresh_arr = np.linspace(0.01, 0.99, num_thresh)\n",
    "for idx, class_thresh in enumerate(class_thresh_arr):\n",
    "    \n",
    "    fav_inds = dataset_orig_train_pred.scores > class_thresh\n",
    "    dataset_orig_train_pred.labels[fav_inds] = dataset_orig_train_pred.favorable_label\n",
    "    dataset_orig_train_pred.labels[~fav_inds] = dataset_orig_train_pred.unfavorable_label\n",
    "    \n",
    "    classified_metric_orig_train = ClassificationMetric(dataset_orig_train,\n",
    "                                             dataset_orig_train_pred, \n",
    "                                             unprivileged_groups=unprivileged_groups,\n",
    "                                             privileged_groups=privileged_groups)\n",
    "    \n",
    "    ba_arr[idx] = 0.5*(classified_metric_orig_train.true_positive_rate()\\\n",
    "                       +classified_metric_orig_train.true_negative_rate())\n",
    "\n",
    "best_ind = np.where(ba_arr == np.max(ba_arr))[0][0]\n",
    "best_class_thresh = class_thresh_arr[best_ind]\n",
    "\n",
    "print(\"Best balanced accuracy (no fairness constraints) = %.4f\" % np.max(ba_arr))\n",
    "print(\"Optimal classification threshold (no fairness constraints) = %.4f\" % best_class_thresh)"
   ]
  },
  {
   "cell_type": "markdown",
   "metadata": {},
   "source": [
    "#### Estimate optimal parameters for the ROC method"
   ]
  },
  {
   "cell_type": "code",
   "execution_count": 50,
   "metadata": {},
   "outputs": [],
   "source": [
    "ROC = RejectOptionClassification(unprivileged_groups=unprivileged_groups, \n",
    "                                 privileged_groups=privileged_groups, \n",
    "                                 low_class_thresh=0.01, high_class_thresh=0.99,\n",
    "                                  num_class_thresh=100, num_ROC_margin=50,\n",
    "                                  metric_name=metric_name,\n",
    "                                  metric_ub=metric_ub, metric_lb=metric_lb)\n",
    "ROC = ROC.fit(dataset_orig_train, dataset_orig_train_pred)"
   ]
  },
  {
   "cell_type": "code",
   "execution_count": 51,
   "metadata": {},
   "outputs": [
    {
     "name": "stdout",
     "output_type": "stream",
     "text": [
      "Optimal classification threshold (with fairness constraints) = 0.2971\n",
      "Optimal ROC margin = 0.0121\n"
     ]
    }
   ],
   "source": [
    "print(\"Optimal classification threshold (with fairness constraints) = %.4f\" % ROC.classification_threshold)\n",
    "print(\"Optimal ROC margin = %.4f\" % ROC.ROC_margin)"
   ]
  },
  {
   "cell_type": "markdown",
   "metadata": {},
   "source": [
    "### Predictions from train Set"
   ]
  },
  {
   "cell_type": "code",
   "execution_count": 52,
   "metadata": {},
   "outputs": [
    {
     "data": {
      "text/markdown": [
       "#### traination set"
      ],
      "text/plain": [
       "<IPython.core.display.Markdown object>"
      ]
     },
     "metadata": {},
     "output_type": "display_data"
    },
    {
     "data": {
      "text/markdown": [
       "##### Raw predictions - No fairness constraints, only maximizing balanced accuracy"
      ],
      "text/plain": [
       "<IPython.core.display.Markdown object>"
      ]
     },
     "metadata": {},
     "output_type": "display_data"
    },
    {
     "name": "stdout",
     "output_type": "stream",
     "text": [
      "Balanced accuracy = 0.8242\n",
      "Statistical parity difference = -0.1247\n",
      "Disparate impact = 0.7065\n",
      "Average odds difference = -0.0271\n",
      "Equal opportunity difference = 0.0962\n",
      "Theil index = 0.0705\n"
     ]
    }
   ],
   "source": [
    "# Metrics for the test set\n",
    "fav_inds = dataset_orig_train_pred.scores > best_class_thresh\n",
    "dataset_orig_train_pred.labels[fav_inds] = dataset_orig_train_pred.favorable_label\n",
    "dataset_orig_train_pred.labels[~fav_inds] = dataset_orig_train_pred.unfavorable_label\n",
    "\n",
    "display(Markdown(\"#### train set\"))\n",
    "display(Markdown(\"##### Raw predictions - No fairness constraints, only maximizing balanced accuracy\"))\n",
    "\n",
    "metric_train_bef = compute_metrics(dataset_orig_train, dataset_orig_train_pred, \n",
    "                unprivileged_groups, privileged_groups)"
   ]
  },
  {
   "cell_type": "code",
   "execution_count": 53,
   "metadata": {},
   "outputs": [
    {
     "data": {
      "text/markdown": [
       "#### train set"
      ],
      "text/plain": [
       "<IPython.core.display.Markdown object>"
      ]
     },
     "metadata": {},
     "output_type": "display_data"
    },
    {
     "data": {
      "text/markdown": [
       "##### Transformed predictions - With fairness constraints"
      ],
      "text/plain": [
       "<IPython.core.display.Markdown object>"
      ]
     },
     "metadata": {},
     "output_type": "display_data"
    },
    {
     "name": "stdout",
     "output_type": "stream",
     "text": [
      "Balanced accuracy = 0.7499\n",
      "Statistical parity difference = -0.0890\n",
      "Disparate impact = 0.8488\n",
      "Average odds difference = -0.0298\n",
      "Equal opportunity difference = 0.0385\n",
      "Theil index = 0.0679\n"
     ]
    }
   ],
   "source": [
    "# Transform the validation set\n",
    "dataset_transf_train_pred = ROC.predict(dataset_orig_train_pred)\n",
    "\n",
    "display(Markdown(\"#### train set\"))\n",
    "display(Markdown(\"##### Transformed predictions - With fairness constraints\"))\n",
    "metric_train_aft = compute_metrics(dataset_orig_train, dataset_transf_train_pred, \n",
    "                unprivileged_groups, privileged_groups)"
   ]
  },
  {
   "cell_type": "code",
   "execution_count": 54,
   "metadata": {},
   "outputs": [],
   "source": [
    "# Testing: Check if the metric optimized has not become worse\n",
    "assert np.abs(metric_train_aft[metric_name]) <= np.abs(metric_train_bef[metric_name])"
   ]
  },
  {
   "cell_type": "markdown",
   "metadata": {},
   "source": [
    "### Predictions from Test Set"
   ]
  },
  {
   "cell_type": "code",
   "execution_count": 55,
   "metadata": {},
   "outputs": [
    {
     "data": {
      "text/markdown": [
       "#### Test set"
      ],
      "text/plain": [
       "<IPython.core.display.Markdown object>"
      ]
     },
     "metadata": {},
     "output_type": "display_data"
    },
    {
     "data": {
      "text/markdown": [
       "##### Raw predictions - No fairness constraints, only maximizing balanced accuracy"
      ],
      "text/plain": [
       "<IPython.core.display.Markdown object>"
      ]
     },
     "metadata": {},
     "output_type": "display_data"
    },
    {
     "name": "stdout",
     "output_type": "stream",
     "text": [
      "Balanced accuracy = 0.7971\n",
      "Statistical parity difference = -0.1884\n",
      "Disparate impact = 0.5545\n",
      "Average odds difference = -0.0906\n",
      "Equal opportunity difference = -0.0601\n",
      "Theil index = 0.0844\n"
     ]
    }
   ],
   "source": [
    "# Metrics for the test set\n",
    "fav_inds = dataset_orig_test_pred.scores > best_class_thresh\n",
    "dataset_orig_test_pred.labels[fav_inds] = dataset_orig_test_pred.favorable_label\n",
    "dataset_orig_test_pred.labels[~fav_inds] = dataset_orig_test_pred.unfavorable_label\n",
    "\n",
    "display(Markdown(\"#### Test set\"))\n",
    "display(Markdown(\"##### Raw predictions - No fairness constraints, only maximizing balanced accuracy\"))\n",
    "\n",
    "metric_test_bef = compute_metrics(dataset_orig_test, dataset_orig_test_pred, \n",
    "                unprivileged_groups, privileged_groups)"
   ]
  },
  {
   "cell_type": "code",
   "execution_count": 56,
   "metadata": {},
   "outputs": [
    {
     "data": {
      "text/markdown": [
       "#### Test set"
      ],
      "text/plain": [
       "<IPython.core.display.Markdown object>"
      ]
     },
     "metadata": {},
     "output_type": "display_data"
    },
    {
     "data": {
      "text/markdown": [
       "##### Transformed predictions - With fairness constraints"
      ],
      "text/plain": [
       "<IPython.core.display.Markdown object>"
      ]
     },
     "metadata": {},
     "output_type": "display_data"
    },
    {
     "name": "stdout",
     "output_type": "stream",
     "text": [
      "Balanced accuracy = 0.7628\n",
      "Statistical parity difference = -0.1446\n",
      "Disparate impact = 0.7395\n",
      "Average odds difference = -0.0425\n",
      "Equal opportunity difference = 0.0054\n",
      "Theil index = 0.0726\n"
     ]
    }
   ],
   "source": [
    "# Metrics for the transformed test set\n",
    "dataset_transf_test_pred = ROC.predict(dataset_orig_test_pred)\n",
    "\n",
    "display(Markdown(\"#### Test set\"))\n",
    "display(Markdown(\"##### Transformed predictions - With fairness constraints\"))\n",
    "metric_test_aft = compute_metrics(dataset_orig_test, dataset_transf_test_pred, \n",
    "                unprivileged_groups, privileged_groups)"
   ]
  },
  {
   "cell_type": "code",
   "execution_count": 57,
   "metadata": {},
   "outputs": [
    {
     "name": "stdout",
     "output_type": "stream",
     "text": [
      "The Error for the test dataset is 0.3303\n",
      "The Equal opportunity difference for the test dataset is 0.005392\n"
     ]
    }
   ],
   "source": [
    "#自己计算error, 不是balanced accuracy！！！\n",
    "metric_test_aft[\"Equal opportunity difference\"]\n",
    "print(\"The Error for the test dataset is {:.4}\".format(np.mean(dataset_orig_test.labels!=dataset_transf_test_pred.labels)))\n",
    "print(\"The Equal opportunity difference for the test dataset is {:.4}\".format(metric_test_aft[\"Equal opportunity difference\"]))"
   ]
  }
 ],
 "metadata": {
  "kernelspec": {
   "display_name": "Python 3",
   "language": "python",
   "name": "python3"
  },
  "language_info": {
   "codemirror_mode": {
    "name": "ipython",
    "version": 3
   },
   "file_extension": ".py",
   "mimetype": "text/x-python",
   "name": "python",
   "nbconvert_exporter": "python",
   "pygments_lexer": "ipython3",
   "version": "3.9.13"
  }
 },
 "nbformat": 4,
 "nbformat_minor": 2
}
