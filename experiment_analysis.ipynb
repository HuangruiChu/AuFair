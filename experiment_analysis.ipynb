{
 "cells": [
  {
   "cell_type": "code",
   "execution_count": 15,
   "metadata": {},
   "outputs": [],
   "source": [
    "import pandas as pd"
   ]
  },
  {
   "cell_type": "code",
   "execution_count": 16,
   "metadata": {},
   "outputs": [
    {
     "data": {
      "text/html": [
       "<div>\n",
       "<style scoped>\n",
       "    .dataframe tbody tr th:only-of-type {\n",
       "        vertical-align: middle;\n",
       "    }\n",
       "\n",
       "    .dataframe tbody tr th {\n",
       "        vertical-align: top;\n",
       "    }\n",
       "\n",
       "    .dataframe thead th {\n",
       "        text-align: right;\n",
       "    }\n",
       "</style>\n",
       "<table border=\"1\" class=\"dataframe\">\n",
       "  <thead>\n",
       "    <tr style=\"text-align: right;\">\n",
       "      <th></th>\n",
       "      <th>Model</th>\n",
       "      <th>dataset</th>\n",
       "      <th>protected_feature</th>\n",
       "      <th>budget</th>\n",
       "      <th>K</th>\n",
       "      <th>Error</th>\n",
       "      <th>Unfairness</th>\n",
       "    </tr>\n",
       "  </thead>\n",
       "  <tbody>\n",
       "    <tr>\n",
       "      <th>0</th>\n",
       "      <td>ROC</td>\n",
       "      <td>Adult</td>\n",
       "      <td>race</td>\n",
       "      <td>1.00</td>\n",
       "      <td>1</td>\n",
       "      <td>0.2231</td>\n",
       "      <td>0.026860</td>\n",
       "    </tr>\n",
       "    <tr>\n",
       "      <th>1</th>\n",
       "      <td>ROC</td>\n",
       "      <td>Adult</td>\n",
       "      <td>race</td>\n",
       "      <td>1.00</td>\n",
       "      <td>2</td>\n",
       "      <td>0.2313</td>\n",
       "      <td>0.014680</td>\n",
       "    </tr>\n",
       "    <tr>\n",
       "      <th>2</th>\n",
       "      <td>ROC</td>\n",
       "      <td>Adult</td>\n",
       "      <td>race</td>\n",
       "      <td>1.00</td>\n",
       "      <td>3</td>\n",
       "      <td>0.2393</td>\n",
       "      <td>0.046450</td>\n",
       "    </tr>\n",
       "    <tr>\n",
       "      <th>3</th>\n",
       "      <td>ROC</td>\n",
       "      <td>Adult</td>\n",
       "      <td>race</td>\n",
       "      <td>1.00</td>\n",
       "      <td>4</td>\n",
       "      <td>0.2331</td>\n",
       "      <td>0.024940</td>\n",
       "    </tr>\n",
       "    <tr>\n",
       "      <th>4</th>\n",
       "      <td>ROC</td>\n",
       "      <td>Adult</td>\n",
       "      <td>race</td>\n",
       "      <td>1.00</td>\n",
       "      <td>5</td>\n",
       "      <td>0.2363</td>\n",
       "      <td>0.000982</td>\n",
       "    </tr>\n",
       "    <tr>\n",
       "      <th>...</th>\n",
       "      <td>...</td>\n",
       "      <td>...</td>\n",
       "      <td>...</td>\n",
       "      <td>...</td>\n",
       "      <td>...</td>\n",
       "      <td>...</td>\n",
       "      <td>...</td>\n",
       "    </tr>\n",
       "    <tr>\n",
       "      <th>115</th>\n",
       "      <td>ROC</td>\n",
       "      <td>zindi</td>\n",
       "      <td>sex</td>\n",
       "      <td>0.01</td>\n",
       "      <td>1</td>\n",
       "      <td>0.0000</td>\n",
       "      <td>0.000000</td>\n",
       "    </tr>\n",
       "    <tr>\n",
       "      <th>116</th>\n",
       "      <td>ROC</td>\n",
       "      <td>zindi</td>\n",
       "      <td>sex</td>\n",
       "      <td>0.01</td>\n",
       "      <td>2</td>\n",
       "      <td>0.0000</td>\n",
       "      <td>0.000000</td>\n",
       "    </tr>\n",
       "    <tr>\n",
       "      <th>117</th>\n",
       "      <td>ROC</td>\n",
       "      <td>zindi</td>\n",
       "      <td>sex</td>\n",
       "      <td>0.01</td>\n",
       "      <td>3</td>\n",
       "      <td>0.0000</td>\n",
       "      <td>0.000000</td>\n",
       "    </tr>\n",
       "    <tr>\n",
       "      <th>118</th>\n",
       "      <td>ROC</td>\n",
       "      <td>zindi</td>\n",
       "      <td>sex</td>\n",
       "      <td>0.01</td>\n",
       "      <td>4</td>\n",
       "      <td>0.0000</td>\n",
       "      <td>0.000000</td>\n",
       "    </tr>\n",
       "    <tr>\n",
       "      <th>119</th>\n",
       "      <td>ROC</td>\n",
       "      <td>zindi</td>\n",
       "      <td>sex</td>\n",
       "      <td>0.01</td>\n",
       "      <td>5</td>\n",
       "      <td>0.0000</td>\n",
       "      <td>0.000000</td>\n",
       "    </tr>\n",
       "  </tbody>\n",
       "</table>\n",
       "<p>120 rows × 7 columns</p>\n",
       "</div>"
      ],
      "text/plain": [
       "    Model dataset protected_feature  budget  K   Error  Unfairness\n",
       "0     ROC   Adult              race    1.00  1  0.2231    0.026860\n",
       "1     ROC   Adult              race    1.00  2  0.2313    0.014680\n",
       "2     ROC   Adult              race    1.00  3  0.2393    0.046450\n",
       "3     ROC   Adult              race    1.00  4  0.2331    0.024940\n",
       "4     ROC   Adult              race    1.00  5  0.2363    0.000982\n",
       "..    ...     ...               ...     ... ..     ...         ...\n",
       "115   ROC   zindi               sex    0.01  1  0.0000    0.000000\n",
       "116   ROC   zindi               sex    0.01  2  0.0000    0.000000\n",
       "117   ROC   zindi               sex    0.01  3  0.0000    0.000000\n",
       "118   ROC   zindi               sex    0.01  4  0.0000    0.000000\n",
       "119   ROC   zindi               sex    0.01  5  0.0000    0.000000\n",
       "\n",
       "[120 rows x 7 columns]"
      ]
     },
     "execution_count": 16,
     "metadata": {},
     "output_type": "execute_result"
    }
   ],
   "source": [
    "# Read the data from file using read_excel\n",
    "data = pd.read_excel('Experiment Result.xlsx')\n",
    "data.drop([\"notes\"], axis=1, inplace=True)\n",
    "data.fillna(0, inplace=True)\n",
    "data"
   ]
  },
  {
   "cell_type": "markdown",
   "metadata": {},
   "source": [
    "# Adult "
   ]
  },
  {
   "cell_type": "code",
   "execution_count": 17,
   "metadata": {},
   "outputs": [
    {
     "name": "stdout",
     "output_type": "stream",
     "text": [
      "                     Error  Unfairness\n",
      "protected_feature                     \n",
      "race               0.23262    0.022782\n",
      "sex                0.23180    0.040818\n",
      "                      Error  Unfairness\n",
      "protected_feature                      \n",
      "race               0.006139    0.016751\n",
      "sex                0.009519    0.020665\n"
     ]
    },
    {
     "name": "stderr",
     "output_type": "stream",
     "text": [
      "C:\\TEMP\\ipykernel_18596\\451067795.py:5: SettingWithCopyWarning: \n",
      "A value is trying to be set on a copy of a slice from a DataFrame\n",
      "\n",
      "See the caveats in the documentation: https://pandas.pydata.org/pandas-docs/stable/user_guide/indexing.html#returning-a-view-versus-a-copy\n",
      "  adult_budget1.drop([\"Model\",\"dataset\", \"budget\",\"K\"], axis=1, inplace=True)\n"
     ]
    }
   ],
   "source": [
    "#analysis adult dataset\n",
    "adult = data[data['dataset'] == 'Adult']\n",
    "#for budget == 1\n",
    "adult_budget1 = adult[adult['budget'] == 1]\n",
    "adult_budget1.drop([\"Model\",\"dataset\", \"budget\",\"K\"], axis=1, inplace=True)\n",
    "print(adult_budget1.groupby(['protected_feature']).mean())\n",
    "print(adult_budget1.groupby(['protected_feature']).std())"
   ]
  },
  {
   "cell_type": "code",
   "execution_count": 18,
   "metadata": {},
   "outputs": [
    {
     "name": "stdout",
     "output_type": "stream",
     "text": [
      "                     Error  Unfairness\n",
      "protected_feature                     \n",
      "race               0.23654    0.055722\n",
      "sex                0.22454    0.034398\n",
      "                      Error  Unfairness\n",
      "protected_feature                      \n",
      "race               0.007837    0.023288\n",
      "sex                0.010071    0.027995\n"
     ]
    },
    {
     "name": "stderr",
     "output_type": "stream",
     "text": [
      "C:\\TEMP\\ipykernel_18596\\2934726019.py:3: SettingWithCopyWarning: \n",
      "A value is trying to be set on a copy of a slice from a DataFrame\n",
      "\n",
      "See the caveats in the documentation: https://pandas.pydata.org/pandas-docs/stable/user_guide/indexing.html#returning-a-view-versus-a-copy\n",
      "  adult_budget01.drop([\"Model\",\"dataset\", \"budget\",\"K\"], axis=1, inplace=True)\n"
     ]
    }
   ],
   "source": [
    "# for budget == 0.1\n",
    "adult_budget01 = adult[adult['budget'] == 0.1]\n",
    "adult_budget01.drop([\"Model\",\"dataset\", \"budget\",\"K\"], axis=1, inplace=True)\n",
    "print(adult_budget01.groupby(['protected_feature']).mean())\n",
    "print(adult_budget01.groupby(['protected_feature']).std())"
   ]
  },
  {
   "cell_type": "code",
   "execution_count": 19,
   "metadata": {},
   "outputs": [
    {
     "name": "stdout",
     "output_type": "stream",
     "text": [
      "                     Error  Unfairness\n",
      "protected_feature                     \n",
      "race               0.29228    0.042610\n",
      "sex                0.22340    0.033131\n",
      "                      Error  Unfairness\n",
      "protected_feature                      \n",
      "race               0.069528    0.067330\n",
      "sex                0.040488    0.023004\n"
     ]
    },
    {
     "name": "stderr",
     "output_type": "stream",
     "text": [
      "C:\\TEMP\\ipykernel_18596\\875874653.py:3: SettingWithCopyWarning: \n",
      "A value is trying to be set on a copy of a slice from a DataFrame\n",
      "\n",
      "See the caveats in the documentation: https://pandas.pydata.org/pandas-docs/stable/user_guide/indexing.html#returning-a-view-versus-a-copy\n",
      "  adult_budget001.drop([\"Model\",\"dataset\", \"budget\",\"K\"], axis=1, inplace=True)\n"
     ]
    }
   ],
   "source": [
    "# for budget == 0.01\n",
    "adult_budget001 = adult[adult['budget'] == 0.01]\n",
    "adult_budget001.drop([\"Model\",\"dataset\", \"budget\",\"K\"], axis=1, inplace=True)\n",
    "print(adult_budget001.groupby(['protected_feature']).mean())\n",
    "print(adult_budget001.groupby(['protected_feature']).std())"
   ]
  },
  {
   "cell_type": "markdown",
   "metadata": {},
   "source": [
    "# Recidivism"
   ]
  },
  {
   "cell_type": "code",
   "execution_count": 20,
   "metadata": {},
   "outputs": [
    {
     "name": "stdout",
     "output_type": "stream",
     "text": [
      "                     Error  Unfairness\n",
      "protected_feature                     \n",
      "sex                0.42174    0.092576\n",
      "                      Error  Unfairness\n",
      "protected_feature                      \n",
      "sex                0.180497    0.060144\n"
     ]
    },
    {
     "name": "stderr",
     "output_type": "stream",
     "text": [
      "C:\\TEMP\\ipykernel_18596\\1736791785.py:5: SettingWithCopyWarning: \n",
      "A value is trying to be set on a copy of a slice from a DataFrame\n",
      "\n",
      "See the caveats in the documentation: https://pandas.pydata.org/pandas-docs/stable/user_guide/indexing.html#returning-a-view-versus-a-copy\n",
      "  recidivism_budget1.drop([\"Model\",\"dataset\", \"budget\",\"K\"], axis=1, inplace=True)\n"
     ]
    }
   ],
   "source": [
    "#analysis recidivism dataset\n",
    "recidivism = data[data['dataset'] == 'recidivism']\n",
    "#for budget == 1\n",
    "recidivism_budget1 = recidivism[recidivism['budget'] == 1]\n",
    "recidivism_budget1.drop([\"Model\",\"dataset\", \"budget\",\"K\"], axis=1, inplace=True)\n",
    "print(recidivism_budget1.groupby(['protected_feature']).mean())\n",
    "print(recidivism_budget1.groupby(['protected_feature']).std())\n"
   ]
  },
  {
   "cell_type": "code",
   "execution_count": 21,
   "metadata": {},
   "outputs": [
    {
     "name": "stdout",
     "output_type": "stream",
     "text": [
      "                     Error  Unfairness\n",
      "protected_feature                     \n",
      "sex                0.51268    0.060367\n",
      "                      Error  Unfairness\n",
      "protected_feature                      \n",
      "sex                0.124283    0.063335\n"
     ]
    },
    {
     "name": "stderr",
     "output_type": "stream",
     "text": [
      "C:\\TEMP\\ipykernel_18596\\1408838934.py:3: SettingWithCopyWarning: \n",
      "A value is trying to be set on a copy of a slice from a DataFrame\n",
      "\n",
      "See the caveats in the documentation: https://pandas.pydata.org/pandas-docs/stable/user_guide/indexing.html#returning-a-view-versus-a-copy\n",
      "  recidivism_budget01.drop([\"Model\",\"dataset\", \"budget\",\"K\"], axis=1, inplace=True)\n"
     ]
    }
   ],
   "source": [
    "# for budget == 0.1\n",
    "recidivism_budget01 = recidivism[recidivism['budget'] == 0.1]\n",
    "recidivism_budget01.drop([\"Model\",\"dataset\", \"budget\",\"K\"], axis=1, inplace=True)\n",
    "print(recidivism_budget01.groupby(['protected_feature']).mean())\n",
    "print(recidivism_budget01.groupby(['protected_feature']).std())"
   ]
  },
  {
   "cell_type": "code",
   "execution_count": 22,
   "metadata": {},
   "outputs": [
    {
     "name": "stdout",
     "output_type": "stream",
     "text": [
      "                     Error  Unfairness\n",
      "protected_feature                     \n",
      "sex                0.40316     0.37714\n",
      "                      Error  Unfairness\n",
      "protected_feature                      \n",
      "sex                0.128753    0.214573\n"
     ]
    },
    {
     "name": "stderr",
     "output_type": "stream",
     "text": [
      "C:\\TEMP\\ipykernel_18596\\3946788968.py:3: SettingWithCopyWarning: \n",
      "A value is trying to be set on a copy of a slice from a DataFrame\n",
      "\n",
      "See the caveats in the documentation: https://pandas.pydata.org/pandas-docs/stable/user_guide/indexing.html#returning-a-view-versus-a-copy\n",
      "  recidivism_budget001.drop([\"Model\",\"dataset\", \"budget\",\"K\"], axis=1, inplace=True)\n"
     ]
    }
   ],
   "source": [
    "# for budget == 0.01\n",
    "recidivism_budget001 = recidivism[recidivism['budget'] == 0.01]\n",
    "recidivism_budget001.drop([\"Model\",\"dataset\", \"budget\",\"K\"], axis=1, inplace=True)\n",
    "print(recidivism_budget001.groupby(['protected_feature']).mean())\n",
    "print(recidivism_budget001.groupby(['protected_feature']).std())\n"
   ]
  }
 ],
 "metadata": {
  "kernelspec": {
   "display_name": "Python 3",
   "language": "python",
   "name": "python3"
  },
  "language_info": {
   "codemirror_mode": {
    "name": "ipython",
    "version": 3
   },
   "file_extension": ".py",
   "mimetype": "text/x-python",
   "name": "python",
   "nbconvert_exporter": "python",
   "pygments_lexer": "ipython3",
   "version": "3.9.13"
  }
 },
 "nbformat": 4,
 "nbformat_minor": 2
}
