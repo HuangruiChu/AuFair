{
 "cells": [
  {
   "cell_type": "code",
   "execution_count": 2,
   "metadata": {},
   "outputs": [],
   "source": [
    "import pandas as pd"
   ]
  },
  {
   "cell_type": "code",
   "execution_count": 3,
   "metadata": {},
   "outputs": [
    {
     "data": {
      "text/html": [
       "<div>\n",
       "<style scoped>\n",
       "    .dataframe tbody tr th:only-of-type {\n",
       "        vertical-align: middle;\n",
       "    }\n",
       "\n",
       "    .dataframe tbody tr th {\n",
       "        vertical-align: top;\n",
       "    }\n",
       "\n",
       "    .dataframe thead th {\n",
       "        text-align: right;\n",
       "    }\n",
       "</style>\n",
       "<table border=\"1\" class=\"dataframe\">\n",
       "  <thead>\n",
       "    <tr style=\"text-align: right;\">\n",
       "      <th></th>\n",
       "      <th>Model</th>\n",
       "      <th>dataset</th>\n",
       "      <th>protected_feature</th>\n",
       "      <th>budget</th>\n",
       "      <th>K</th>\n",
       "      <th>Error</th>\n",
       "      <th>Unfairness</th>\n",
       "    </tr>\n",
       "  </thead>\n",
       "  <tbody>\n",
       "    <tr>\n",
       "      <th>0</th>\n",
       "      <td>ROC</td>\n",
       "      <td>Adult</td>\n",
       "      <td>race</td>\n",
       "      <td>1.0</td>\n",
       "      <td>1</td>\n",
       "      <td>0.256886</td>\n",
       "      <td>0.049286</td>\n",
       "    </tr>\n",
       "    <tr>\n",
       "      <th>1</th>\n",
       "      <td>ROC</td>\n",
       "      <td>Adult</td>\n",
       "      <td>race</td>\n",
       "      <td>1.0</td>\n",
       "      <td>2</td>\n",
       "      <td>0.226968</td>\n",
       "      <td>0.044753</td>\n",
       "    </tr>\n",
       "    <tr>\n",
       "      <th>2</th>\n",
       "      <td>ROC</td>\n",
       "      <td>Adult</td>\n",
       "      <td>race</td>\n",
       "      <td>1.0</td>\n",
       "      <td>3</td>\n",
       "      <td>0.216967</td>\n",
       "      <td>0.039224</td>\n",
       "    </tr>\n",
       "    <tr>\n",
       "      <th>3</th>\n",
       "      <td>ROC</td>\n",
       "      <td>Adult</td>\n",
       "      <td>race</td>\n",
       "      <td>1.0</td>\n",
       "      <td>4</td>\n",
       "      <td>0.223176</td>\n",
       "      <td>0.048689</td>\n",
       "    </tr>\n",
       "    <tr>\n",
       "      <th>4</th>\n",
       "      <td>ROC</td>\n",
       "      <td>Adult</td>\n",
       "      <td>race</td>\n",
       "      <td>1.0</td>\n",
       "      <td>5</td>\n",
       "      <td>0.215509</td>\n",
       "      <td>0.049205</td>\n",
       "    </tr>\n",
       "    <tr>\n",
       "      <th>...</th>\n",
       "      <td>...</td>\n",
       "      <td>...</td>\n",
       "      <td>...</td>\n",
       "      <td>...</td>\n",
       "      <td>...</td>\n",
       "      <td>...</td>\n",
       "      <td>...</td>\n",
       "    </tr>\n",
       "    <tr>\n",
       "      <th>145</th>\n",
       "      <td>H1</td>\n",
       "      <td>recidivism</td>\n",
       "      <td>sex</td>\n",
       "      <td>1.0</td>\n",
       "      <td>1</td>\n",
       "      <td>0.279399</td>\n",
       "      <td>0.007031</td>\n",
       "    </tr>\n",
       "    <tr>\n",
       "      <th>146</th>\n",
       "      <td>H1</td>\n",
       "      <td>recidivism</td>\n",
       "      <td>sex</td>\n",
       "      <td>1.0</td>\n",
       "      <td>2</td>\n",
       "      <td>0.257192</td>\n",
       "      <td>0.047482</td>\n",
       "    </tr>\n",
       "    <tr>\n",
       "      <th>147</th>\n",
       "      <td>H1</td>\n",
       "      <td>recidivism</td>\n",
       "      <td>sex</td>\n",
       "      <td>1.0</td>\n",
       "      <td>3</td>\n",
       "      <td>0.318162</td>\n",
       "      <td>0.000447</td>\n",
       "    </tr>\n",
       "    <tr>\n",
       "      <th>148</th>\n",
       "      <td>H1</td>\n",
       "      <td>recidivism</td>\n",
       "      <td>sex</td>\n",
       "      <td>1.0</td>\n",
       "      <td>4</td>\n",
       "      <td>0.270502</td>\n",
       "      <td>0.012824</td>\n",
       "    </tr>\n",
       "    <tr>\n",
       "      <th>149</th>\n",
       "      <td>H1</td>\n",
       "      <td>recidivism</td>\n",
       "      <td>sex</td>\n",
       "      <td>1.0</td>\n",
       "      <td>5</td>\n",
       "      <td>0.247852</td>\n",
       "      <td>0.023801</td>\n",
       "    </tr>\n",
       "  </tbody>\n",
       "</table>\n",
       "<p>150 rows × 7 columns</p>\n",
       "</div>"
      ],
      "text/plain": [
       "    Model     dataset protected_feature  budget  K     Error  Unfairness\n",
       "0     ROC       Adult              race     1.0  1  0.256886    0.049286\n",
       "1     ROC       Adult              race     1.0  2  0.226968    0.044753\n",
       "2     ROC       Adult              race     1.0  3  0.216967    0.039224\n",
       "3     ROC       Adult              race     1.0  4  0.223176    0.048689\n",
       "4     ROC       Adult              race     1.0  5  0.215509    0.049205\n",
       "..    ...         ...               ...     ... ..       ...         ...\n",
       "145    H1  recidivism               sex     1.0  1  0.279399    0.007031\n",
       "146    H1  recidivism               sex     1.0  2  0.257192    0.047482\n",
       "147    H1  recidivism               sex     1.0  3  0.318162    0.000447\n",
       "148    H1  recidivism               sex     1.0  4  0.270502    0.012824\n",
       "149    H1  recidivism               sex     1.0  5  0.247852    0.023801\n",
       "\n",
       "[150 rows x 7 columns]"
      ]
     },
     "execution_count": 3,
     "metadata": {},
     "output_type": "execute_result"
    }
   ],
   "source": [
    "# Read the data from file using read_excel\n",
    "data = pd.read_excel('Experiment Result.xlsx')\n",
    "data.drop([\"notes\"], axis=1, inplace=True)\n",
    "data.fillna(0, inplace=True)\n",
    "data"
   ]
  },
  {
   "cell_type": "markdown",
   "metadata": {},
   "source": [
    "# Adult "
   ]
  },
  {
   "cell_type": "code",
   "execution_count": 3,
   "metadata": {},
   "outputs": [
    {
     "name": "stdout",
     "output_type": "stream",
     "text": [
      "Adult dataset with budget = 1\n",
      "Mean\n",
      "                      Error  Unfairness\n",
      "protected_feature                      \n",
      "race               0.227901    0.046231\n",
      "sex                0.229400    0.030231\n",
      "Standard Deviation\n",
      "                      Error  Unfairness\n",
      "protected_feature                      \n",
      "race               0.016855    0.004345\n",
      "sex                0.006735    0.024304\n"
     ]
    },
    {
     "name": "stderr",
     "output_type": "stream",
     "text": [
      "C:\\TEMP\\ipykernel_3836\\4161063730.py:5: SettingWithCopyWarning: \n",
      "A value is trying to be set on a copy of a slice from a DataFrame\n",
      "\n",
      "See the caveats in the documentation: https://pandas.pydata.org/pandas-docs/stable/user_guide/indexing.html#returning-a-view-versus-a-copy\n",
      "  adult_budget1.drop([\"Model\",\"dataset\", \"budget\",\"K\"], axis=1, inplace=True)\n"
     ]
    }
   ],
   "source": [
    "#analysis adult dataset\n",
    "adult = data[data['dataset'] == 'Adult']\n",
    "#for budget == 1\n",
    "adult_budget1 = adult[adult['budget'] == 1]\n",
    "adult_budget1.drop([\"Model\",\"dataset\", \"budget\",\"K\"], axis=1, inplace=True)\n",
    "\n",
    "means = adult_budget1.groupby(['protected_feature']).mean()\n",
    "stds = adult_budget1.groupby(['protected_feature']).std()\n",
    "\n",
    "print(\"Adult dataset with budget = 1\")\n",
    "print(\"Mean\")\n",
    "print(means)\n",
    "print(\"Standard Deviation\")\n",
    "print(stds)"
   ]
  },
  {
   "cell_type": "code",
   "execution_count": 4,
   "metadata": {},
   "outputs": [
    {
     "name": "stdout",
     "output_type": "stream",
     "text": [
      "                      Error  Unfairness\n",
      "protected_feature                      \n",
      "race               0.258102    0.033839\n",
      "sex                0.222334    0.071744\n",
      "                      Error  Unfairness\n",
      "protected_feature                      \n",
      "race               0.004252    0.019216\n",
      "sex                0.008694    0.055143\n"
     ]
    },
    {
     "name": "stderr",
     "output_type": "stream",
     "text": [
      "C:\\TEMP\\ipykernel_3836\\2934726019.py:3: SettingWithCopyWarning: \n",
      "A value is trying to be set on a copy of a slice from a DataFrame\n",
      "\n",
      "See the caveats in the documentation: https://pandas.pydata.org/pandas-docs/stable/user_guide/indexing.html#returning-a-view-versus-a-copy\n",
      "  adult_budget01.drop([\"Model\",\"dataset\", \"budget\",\"K\"], axis=1, inplace=True)\n"
     ]
    }
   ],
   "source": [
    "# for budget == 0.1\n",
    "adult_budget01 = adult[adult['budget'] == 0.1]\n",
    "adult_budget01.drop([\"Model\",\"dataset\", \"budget\",\"K\"], axis=1, inplace=True)\n",
    "print(adult_budget01.groupby(['protected_feature']).mean())\n",
    "print(adult_budget01.groupby(['protected_feature']).std())"
   ]
  },
  {
   "cell_type": "code",
   "execution_count": 5,
   "metadata": {},
   "outputs": [
    {
     "name": "stdout",
     "output_type": "stream",
     "text": [
      "                      Error  Unfairness\n",
      "protected_feature                      \n",
      "race               0.262528    0.098734\n",
      "sex                0.206101    0.056151\n",
      "                      Error  Unfairness\n",
      "protected_feature                      \n",
      "race               0.088684    0.077088\n",
      "sex                0.034993    0.051071\n"
     ]
    },
    {
     "name": "stderr",
     "output_type": "stream",
     "text": [
      "C:\\TEMP\\ipykernel_3836\\875874653.py:3: SettingWithCopyWarning: \n",
      "A value is trying to be set on a copy of a slice from a DataFrame\n",
      "\n",
      "See the caveats in the documentation: https://pandas.pydata.org/pandas-docs/stable/user_guide/indexing.html#returning-a-view-versus-a-copy\n",
      "  adult_budget001.drop([\"Model\",\"dataset\", \"budget\",\"K\"], axis=1, inplace=True)\n"
     ]
    }
   ],
   "source": [
    "# for budget == 0.01\n",
    "adult_budget001 = adult[adult['budget'] == 0.01]\n",
    "adult_budget001.drop([\"Model\",\"dataset\", \"budget\",\"K\"], axis=1, inplace=True)\n",
    "print(adult_budget001.groupby(['protected_feature']).mean())\n",
    "print(adult_budget001.groupby(['protected_feature']).std())"
   ]
  },
  {
   "cell_type": "markdown",
   "metadata": {},
   "source": [
    "# Recidivism"
   ]
  },
  {
   "cell_type": "code",
   "execution_count": 4,
   "metadata": {},
   "outputs": [
    {
     "name": "stdout",
     "output_type": "stream",
     "text": [
      "                            Error  Unfairness\n",
      "Model protected_feature                      \n",
      "EOP   sex                0.293001    0.016894\n",
      "H0    sex                0.269985    0.031755\n",
      "H1    sex                0.274622    0.018317\n",
      "ROC   sex                0.275738    0.037479\n",
      "                            Error  Unfairness\n",
      "Model protected_feature                      \n",
      "EOP   sex                0.027125    0.012665\n",
      "H0    sex                0.035859    0.026837\n",
      "H1    sex                0.027184    0.018422\n",
      "ROC   sex                0.044985    0.041786\n"
     ]
    },
    {
     "name": "stderr",
     "output_type": "stream",
     "text": [
      "C:\\TEMP\\ipykernel_15472\\1301771799.py:5: SettingWithCopyWarning: \n",
      "A value is trying to be set on a copy of a slice from a DataFrame\n",
      "\n",
      "See the caveats in the documentation: https://pandas.pydata.org/pandas-docs/stable/user_guide/indexing.html#returning-a-view-versus-a-copy\n",
      "  recidivism_budget1.drop([\"dataset\", \"budget\",\"K\"], axis=1, inplace=True)\n"
     ]
    }
   ],
   "source": [
    "#analysis recidivism dataset\n",
    "recidivism = data[data['dataset'] == 'recidivism']\n",
    "#for budget == 1\n",
    "recidivism_budget1 = recidivism[recidivism['budget'] == 1]\n",
    "recidivism_budget1.drop([\"dataset\", \"budget\",\"K\"], axis=1, inplace=True)\n",
    "print(recidivism_budget1.groupby([\"Model\",'protected_feature']).mean())\n",
    "print(recidivism_budget1.groupby([\"Model\",'protected_feature']).std())\n"
   ]
  },
  {
   "cell_type": "code",
   "execution_count": 5,
   "metadata": {},
   "outputs": [
    {
     "name": "stdout",
     "output_type": "stream",
     "text": [
      "                            Error  Unfairness\n",
      "Model protected_feature                      \n",
      "EOP   sex                0.316193    0.031751\n",
      "ROC   sex                0.296601    0.044127\n",
      "                            Error  Unfairness\n",
      "Model protected_feature                      \n",
      "EOP   sex                0.033744    0.028268\n",
      "ROC   sex                0.062419    0.040501\n"
     ]
    },
    {
     "name": "stderr",
     "output_type": "stream",
     "text": [
      "C:\\TEMP\\ipykernel_24604\\833082762.py:3: SettingWithCopyWarning: \n",
      "A value is trying to be set on a copy of a slice from a DataFrame\n",
      "\n",
      "See the caveats in the documentation: https://pandas.pydata.org/pandas-docs/stable/user_guide/indexing.html#returning-a-view-versus-a-copy\n",
      "  recidivism_budget01.drop([\"dataset\", \"budget\",\"K\"], axis=1, inplace=True)\n"
     ]
    }
   ],
   "source": [
    "# for budget == 0.1\n",
    "recidivism_budget01 = recidivism[recidivism['budget'] == 0.1]\n",
    "recidivism_budget01.drop([\"dataset\", \"budget\",\"K\"], axis=1, inplace=True)\n",
    "print(recidivism_budget01.groupby([\"Model\",'protected_feature']).mean())\n",
    "print(recidivism_budget01.groupby([\"Model\",'protected_feature']).std())"
   ]
  },
  {
   "cell_type": "code",
   "execution_count": 6,
   "metadata": {},
   "outputs": [
    {
     "name": "stdout",
     "output_type": "stream",
     "text": [
      "                            Error  Unfairness\n",
      "Model protected_feature                      \n",
      "EOP   sex                0.329499    0.148834\n",
      "ROC   sex                0.285439    0.126534\n",
      "                            Error  Unfairness\n",
      "Model protected_feature                      \n",
      "EOP   sex                0.027686    0.053687\n",
      "ROC   sex                0.045227    0.140446\n"
     ]
    },
    {
     "name": "stderr",
     "output_type": "stream",
     "text": [
      "C:\\TEMP\\ipykernel_24604\\3480561564.py:3: SettingWithCopyWarning: \n",
      "A value is trying to be set on a copy of a slice from a DataFrame\n",
      "\n",
      "See the caveats in the documentation: https://pandas.pydata.org/pandas-docs/stable/user_guide/indexing.html#returning-a-view-versus-a-copy\n",
      "  recidivism_budget001.drop([\"dataset\", \"budget\",\"K\"], axis=1, inplace=True)\n"
     ]
    }
   ],
   "source": [
    "# for budget == 0.01\n",
    "recidivism_budget001 = recidivism[recidivism['budget'] == 0.01]\n",
    "recidivism_budget001.drop([\"dataset\", \"budget\",\"K\"], axis=1, inplace=True)\n",
    "print(recidivism_budget001.groupby([\"Model\",'protected_feature']).mean())\n",
    "print(recidivism_budget001.groupby([\"Model\",'protected_feature']).std())\n"
   ]
  },
  {
   "cell_type": "markdown",
   "metadata": {},
   "source": [
    "# Zindi"
   ]
  },
  {
   "cell_type": "code",
   "execution_count": 9,
   "metadata": {},
   "outputs": [
    {
     "name": "stdout",
     "output_type": "stream",
     "text": [
      "                            Error  Unfairness\n",
      "Model protected_feature                      \n",
      "EOP   sex                0.128295    0.030400\n",
      "H0    sex                0.123236    0.033117\n",
      "H1    sex                0.100614    0.037546\n",
      "ROC   sex                0.211528    0.065985\n",
      "                            Error  Unfairness\n",
      "Model protected_feature                      \n",
      "EOP   sex                0.005358    0.023525\n",
      "H0    sex                0.006019    0.019214\n",
      "H1    sex                0.046701    0.044721\n",
      "ROC   sex                0.040868    0.019970\n"
     ]
    },
    {
     "name": "stderr",
     "output_type": "stream",
     "text": [
      "C:\\TEMP\\ipykernel_3836\\4274796855.py:5: SettingWithCopyWarning: \n",
      "A value is trying to be set on a copy of a slice from a DataFrame\n",
      "\n",
      "See the caveats in the documentation: https://pandas.pydata.org/pandas-docs/stable/user_guide/indexing.html#returning-a-view-versus-a-copy\n",
      "  zindi_budget1.drop([\"dataset\", \"budget\",\"K\"], axis=1, inplace=True)\n"
     ]
    }
   ],
   "source": [
    "# analyze zindi dataset\n",
    "zindi = data[data['dataset'] == 'zindi']\n",
    "#for budget == 1\n",
    "zindi_budget1 = zindi[zindi['budget'] == 1]\n",
    "zindi_budget1.drop([\"dataset\", \"budget\",\"K\"], axis=1, inplace=True)\n",
    "print(zindi_budget1.groupby([\"Model\",'protected_feature']).mean())\n",
    "print(zindi_budget1.groupby([\"Model\",'protected_feature']).std())\n"
   ]
  },
  {
   "cell_type": "code",
   "execution_count": 10,
   "metadata": {},
   "outputs": [
    {
     "name": "stdout",
     "output_type": "stream",
     "text": [
      "                            Error  Unfairness\n",
      "Model protected_feature                      \n",
      "EOP   sex                0.128040    0.036019\n",
      "ROC   sex                0.216631    0.057349\n",
      "                            Error  Unfairness\n",
      "Model protected_feature                      \n",
      "EOP   sex                0.005480    0.017262\n",
      "ROC   sex                0.044699    0.005653\n"
     ]
    },
    {
     "name": "stderr",
     "output_type": "stream",
     "text": [
      "C:\\TEMP\\ipykernel_3836\\2599767191.py:3: SettingWithCopyWarning: \n",
      "A value is trying to be set on a copy of a slice from a DataFrame\n",
      "\n",
      "See the caveats in the documentation: https://pandas.pydata.org/pandas-docs/stable/user_guide/indexing.html#returning-a-view-versus-a-copy\n",
      "  zindi_budget01.drop([\"dataset\", \"budget\",\"K\"], axis=1, inplace=True)\n"
     ]
    }
   ],
   "source": [
    "# for budget == 0.1\n",
    "zindi_budget01 = zindi[zindi['budget'] == 0.1]\n",
    "zindi_budget01.drop([\"dataset\", \"budget\",\"K\"], axis=1, inplace=True)\n",
    "print(zindi_budget01.groupby([\"Model\",'protected_feature']).mean())\n",
    "print(zindi_budget01.groupby([\"Model\",'protected_feature']).std())"
   ]
  },
  {
   "cell_type": "code",
   "execution_count": 11,
   "metadata": {},
   "outputs": [
    {
     "name": "stderr",
     "output_type": "stream",
     "text": [
      "C:\\TEMP\\ipykernel_3836\\3504909996.py:3: SettingWithCopyWarning: \n",
      "A value is trying to be set on a copy of a slice from a DataFrame\n",
      "\n",
      "See the caveats in the documentation: https://pandas.pydata.org/pandas-docs/stable/user_guide/indexing.html#returning-a-view-versus-a-copy\n",
      "  zindi_budget001.drop([\"dataset\", \"budget\",\"K\"], axis=1, inplace=True)\n"
     ]
    },
    {
     "name": "stdout",
     "output_type": "stream",
     "text": [
      "                            Error  Unfairness\n",
      "Model protected_feature                      \n",
      "EOP   sex                0.263002    0.110575\n",
      "ROC   sex                0.437542    0.090990\n",
      "                            Error  Unfairness\n",
      "Model protected_feature                      \n",
      "EOP   sex                0.299157    0.069557\n",
      "ROC   sex                0.169209    0.066933\n"
     ]
    }
   ],
   "source": [
    "# for budget == 0.01\n",
    "zindi_budget001 = zindi[zindi['budget'] == 0.01]\n",
    "zindi_budget001.drop([\"dataset\", \"budget\",\"K\"], axis=1, inplace=True)\n",
    "print(zindi_budget001.groupby([\"Model\",'protected_feature']).mean())\n",
    "print(zindi_budget001.groupby([\"Model\",'protected_feature']).std())"
   ]
  },
  {
   "cell_type": "markdown",
   "metadata": {},
   "source": [
    "# Bank"
   ]
  },
  {
   "cell_type": "code",
   "execution_count": 5,
   "metadata": {},
   "outputs": [
    {
     "name": "stdout",
     "output_type": "stream",
     "text": [
      "                            Error  Unfairness\n",
      "Model protected_feature                      \n",
      "EOP   age                0.129690    0.039331\n",
      "H0    age                0.112733    0.158982\n",
      "H1    age                0.109453    0.155620\n",
      "ROC   age                0.253938    0.049279\n",
      "                            Error  Unfairness\n",
      "Model protected_feature                      \n",
      "EOP   age                0.003706    0.023242\n",
      "H0    age                0.005646    0.098084\n",
      "H1    age                0.004120    0.086216\n",
      "ROC   age                0.048461    0.030291\n"
     ]
    },
    {
     "name": "stderr",
     "output_type": "stream",
     "text": [
      "C:\\TEMP\\ipykernel_15472\\2797293079.py:5: SettingWithCopyWarning: \n",
      "A value is trying to be set on a copy of a slice from a DataFrame\n",
      "\n",
      "See the caveats in the documentation: https://pandas.pydata.org/pandas-docs/stable/user_guide/indexing.html#returning-a-view-versus-a-copy\n",
      "  bank_budget1.drop([\"dataset\", \"budget\",\"K\"], axis=1, inplace=True)\n"
     ]
    }
   ],
   "source": [
    "# analyze bank dataset\n",
    "bank = data[data['dataset'] == 'Bank']\n",
    "#for budget == 1\n",
    "bank_budget1 = bank[bank['budget'] == 1]\n",
    "bank_budget1.drop([\"dataset\", \"budget\",\"K\"], axis=1, inplace=True)\n",
    "print(bank_budget1.groupby([\"Model\",'protected_feature']).mean())\n",
    "print(bank_budget1.groupby([\"Model\",'protected_feature']).std())"
   ]
  },
  {
   "cell_type": "code",
   "execution_count": 14,
   "metadata": {},
   "outputs": [
    {
     "name": "stdout",
     "output_type": "stream",
     "text": [
      "                            Error  Unfairness\n",
      "Model protected_feature                      \n",
      "EOP   age                0.154454    0.083060\n",
      "ROC   age                0.258103    0.071056\n",
      "                            Error  Unfairness\n",
      "Model protected_feature                      \n",
      "EOP   age                0.032304    0.063057\n",
      "ROC   age                0.052394    0.038440\n"
     ]
    },
    {
     "name": "stderr",
     "output_type": "stream",
     "text": [
      "C:\\TEMP\\ipykernel_3836\\2238215586.py:3: SettingWithCopyWarning: \n",
      "A value is trying to be set on a copy of a slice from a DataFrame\n",
      "\n",
      "See the caveats in the documentation: https://pandas.pydata.org/pandas-docs/stable/user_guide/indexing.html#returning-a-view-versus-a-copy\n",
      "  bank_budget01.drop([\"dataset\", \"budget\",\"K\"], axis=1, inplace=True)\n"
     ]
    }
   ],
   "source": [
    "# for budget == 0.1\n",
    "bank_budget01 = bank[bank['budget'] == 0.1]\n",
    "bank_budget01.drop([\"dataset\", \"budget\",\"K\"], axis=1, inplace=True)\n",
    "print(bank_budget01.groupby([\"Model\",'protected_feature']).mean())\n",
    "print(bank_budget01.groupby([\"Model\",'protected_feature']).std())\n"
   ]
  },
  {
   "cell_type": "code",
   "execution_count": 15,
   "metadata": {},
   "outputs": [
    {
     "name": "stdout",
     "output_type": "stream",
     "text": [
      "                            Error  Unfairness\n",
      "Model protected_feature                      \n",
      "EOP   age                0.242875    0.209611\n",
      "ROC   age                0.327276    0.043731\n",
      "                            Error  Unfairness\n",
      "Model protected_feature                      \n",
      "EOP   age                0.149442    0.149882\n",
      "ROC   age                0.103226    0.041206\n"
     ]
    },
    {
     "name": "stderr",
     "output_type": "stream",
     "text": [
      "C:\\TEMP\\ipykernel_3836\\2297236105.py:3: SettingWithCopyWarning: \n",
      "A value is trying to be set on a copy of a slice from a DataFrame\n",
      "\n",
      "See the caveats in the documentation: https://pandas.pydata.org/pandas-docs/stable/user_guide/indexing.html#returning-a-view-versus-a-copy\n",
      "  bank_budget001.drop([\"dataset\", \"budget\",\"K\"], axis=1, inplace=True)\n"
     ]
    }
   ],
   "source": [
    "# for budget == 0.01\n",
    "bank_budget001 = bank[bank['budget'] == 0.01]\n",
    "bank_budget001.drop([\"dataset\", \"budget\",\"K\"], axis=1, inplace=True)\n",
    "print(bank_budget001.groupby([\"Model\",'protected_feature']).mean())\n",
    "print(bank_budget001.groupby([\"Model\",'protected_feature']).std())\n"
   ]
  }
 ],
 "metadata": {
  "kernelspec": {
   "display_name": "Python 3",
   "language": "python",
   "name": "python3"
  },
  "language_info": {
   "codemirror_mode": {
    "name": "ipython",
    "version": 3
   },
   "file_extension": ".py",
   "mimetype": "text/x-python",
   "name": "python",
   "nbconvert_exporter": "python",
   "pygments_lexer": "ipython3",
   "version": "3.9.13"
  }
 },
 "nbformat": 4,
 "nbformat_minor": 2
}
