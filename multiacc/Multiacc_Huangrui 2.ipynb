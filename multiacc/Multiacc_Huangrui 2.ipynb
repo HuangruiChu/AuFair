{
 "cells": [
  {
   "cell_type": "code",
   "execution_count": 1,
   "metadata": {},
   "outputs": [],
   "source": [
    "import os\n",
    "from sklearn.linear_model import LinearRegression, Ridge, LogisticRegression\n",
    "from sklearn import tree\n",
    "import numpy as np\n",
    "import pandas as pd\n",
    "import random\n",
    "from sklearn.tree import DecisionTreeRegressor\n",
    "import matplotlib.pyplot as plt"
   ]
  },
  {
   "cell_type": "code",
   "execution_count": 2,
   "metadata": {},
   "outputs": [],
   "source": [
    "max_T = 100\n",
    "thresh = 1e-4 # Hyper-\n",
    "#set random seed to make results reproducible\n",
    "seed = 1234\n",
    "np.random.seed(seed)\n",
    "random.seed(seed)"
   ]
  },
  {
   "cell_type": "markdown",
   "metadata": {},
   "source": [
    "# Read Dataset"
   ]
  },
  {
   "cell_type": "code",
   "execution_count": 3,
   "metadata": {},
   "outputs": [],
   "source": [
    "path = \"../predict-responsibly/data/\"\n",
    "dataset = \"adult\"\n",
    "protected_feature = \"sex\"\n",
    "K = 1\n",
    "db = np.load(os.path.join(path,dataset,\"{}{}_{}.npz\".format(dataset,K,protected_feature)))"
   ]
  },
  {
   "cell_type": "markdown",
   "metadata": {},
   "source": [
    "## partition X according to f0"
   ]
  },
  {
   "cell_type": "code",
   "execution_count": 4,
   "metadata": {},
   "outputs": [],
   "source": [
    "x_val = db[\"x_train\"]\n",
    "y_val = db[\"y_train\"]\n",
    "x_test = db[\"x_test\"]\n",
    "y_test = db[\"y_test\"]"
   ]
  },
  {
   "cell_type": "code",
   "execution_count": 5,
   "metadata": {},
   "outputs": [],
   "source": [
    "def res(p, y):\n",
    "    # 有noise 吧？？？？？我用这个就拟合不了了\n",
    "    return y * ((p>=0.1)/(p + 1e-20) + (p<0.1) * (20 - 100  * p)) +\\\n",
    "(1-y) * ((p < 0.9)/(1 - p + 1e-20) + (p>=0.9) * (100 * p - 80))"
   ]
  },
  {
   "cell_type": "code",
   "execution_count": 6,
   "metadata": {},
   "outputs": [],
   "source": [
    "# logits = net.output[:,1] - net.output[:,0]\n",
    "# in our case, we get the logits directly\n",
    "logits = np.log(db[\"ydm_train\"]/(1-db[\"ydm_train\"]))\n",
    "test_logits = np.log(db[\"ydm_test\"]/(1-db[\"ydm_test\"]))\n",
    "def sigmoid(x):\n",
    "    return 1 / (1 + np.exp(-x))\n"
   ]
  },
  {
   "cell_type": "code",
   "execution_count": 7,
   "metadata": {
    "scrolled": true
   },
   "outputs": [
    {
     "name": "stdout",
     "output_type": "stream",
     "text": [
      "Update!\n",
      "0 0 0.02119517399350948\n",
      "Update!\n",
      "1 0 0.01920317346856873\n",
      "2 0 0.017328237780943265\n",
      "3 0 0.015564684004734453\n",
      "4 0 0.013906960746663066\n",
      "5 0 0.012349660893719845\n",
      "Update!\n",
      "6 0 0.01088753314180493\n",
      "7 0 0.009515492158982357\n",
      "8 0 0.008228627249211912\n",
      "9 0 0.00702220941432311\n",
      "Update!\n",
      "10 0 0.005891696755486658\n",
      "11 0 0.004832738203440065\n",
      "12 0 0.0038411756136305427\n",
      "13 0 0.002913044304240833\n",
      "14 0 0.002044572149297626\n",
      "15 0 0.0012321773645701459\n",
      "16 0 0.0004724651406475578\n",
      "17 0 -0.0002377767139443948\n",
      "17 1 0.011787775346952759\n",
      "18 0 -0.0002377767139443948\n",
      "18 1 0.011418558747414724\n",
      "19 0 -0.0002377767139443948\n",
      "19 1 0.011064465988360944\n",
      "20 0 -0.0002377767139443948\n",
      "20 1 0.010724773532562997\n",
      "21 0 -0.0002377767139443948\n",
      "21 1 0.01039879533237944\n",
      "22 0 -0.0002377767139443948\n",
      "22 1 0.010085880882352143\n",
      "23 0 -0.0002377767139443948\n",
      "23 1 0.009785413358865482\n",
      "24 0 -0.0002377767139443948\n",
      "24 1 0.009496807845596965\n",
      "25 0 -0.0002377767139443948\n",
      "25 1 0.009219509643032772\n",
      "26 0 -0.0002377767139443948\n",
      "26 1 0.008952992659960185\n",
      "27 0 -0.0002377767139443948\n",
      "27 1 0.00869675788456842\n",
      "28 0 -0.0002377767139443948\n",
      "28 1 0.008450331932578131\n",
      "29 0 -0.0002377767139443948\n",
      "29 1 0.008213265669668016\n",
      "30 0 -0.0002377767139443948\n",
      "30 1 0.007985132905364841\n",
      "31 0 -0.0002377767139443948\n",
      "31 1 0.007765529155503287\n",
      "32 0 -0.0002377767139443948\n",
      "32 1 0.007554070470337231\n",
      "33 0 -0.0002377767139443948\n",
      "33 1 0.007350392325387899\n",
      "34 0 -0.0002377767139443948\n",
      "34 1 0.007154148572142097\n",
      "35 0 -0.0002377767139443948\n",
      "35 1 0.006965010445760345\n",
      "36 0 -0.0002377767139443948\n",
      "36 1 0.006782665627016804\n",
      "37 0 -0.0002377767139443948\n",
      "37 1 0.0066068173557663375\n",
      "38 0 -0.0002377767139443948\n",
      "38 1 0.006437183593317117\n",
      "39 0 -0.0002377767139443948\n",
      "39 1 0.006273496231176312\n",
      "40 0 -0.0002377767139443948\n",
      "40 1 0.006115500343730548\n",
      "41 0 -0.0002377767139443948\n",
      "41 1 0.005962953482519686\n",
      "42 0 -0.0002377767139443948\n",
      "42 1 0.005815625009860908\n",
      "43 0 -0.0002377767139443948\n",
      "43 1 0.005673295469679213\n",
      "44 0 -0.0002377767139443948\n",
      "44 1 0.005535755993498536\n",
      "45 0 -0.0002377767139443948\n",
      "45 1 0.005402807739644952\n",
      "46 0 -0.0002377767139443948\n",
      "46 1 0.005274261363808771\n",
      "47 0 -0.0002377767139443948\n",
      "47 1 0.005149936519204933\n",
      "48 0 -0.0002377767139443948\n",
      "48 1 0.005029661384661692\n",
      "49 0 -0.0002377767139443948\n",
      "49 1 0.0049132722190544445\n",
      "50 0 -0.0002377767139443948\n",
      "50 1 0.004800612940585956\n",
      "51 0 -0.0002377767139443948\n",
      "51 1 0.004691534729494779\n",
      "52 0 -0.0002377767139443948\n",
      "52 1 0.004585895652851256\n",
      "53 0 -0.0002377767139443948\n",
      "53 1 0.004483560310174497\n",
      "54 0 -0.0002377767139443948\n",
      "54 1 0.00438439949867433\n",
      "55 0 -0.0002377767139443948\n",
      "55 1 0.004288289896989706\n",
      "56 0 -0.0002377767139443948\n",
      "56 1 0.004195113766358786\n",
      "57 0 -0.0002377767139443948\n",
      "57 1 0.00410475866821705\n",
      "58 0 -0.0002377767139443948\n",
      "58 1 0.00401711719727728\n",
      "59 0 -0.0002377767139443948\n",
      "59 1 0.003932086729199842\n",
      "60 0 -0.0002377767139443948\n",
      "60 1 0.0038495691820136717\n",
      "61 0 -0.0002377767139443948\n",
      "61 1 0.0037694707904970025\n",
      "62 0 -0.0002377767139443948\n",
      "62 1 0.0036917018927733183\n",
      "63 0 -0.0002377767139443948\n",
      "63 1 0.003616176728421479\n",
      "64 0 -0.0002377767139443948\n",
      "64 1 0.003542813247440295\n",
      "65 0 -0.0002377767139443948\n",
      "65 1 0.0034715329294465525\n",
      "66 0 -0.0002377767139443948\n",
      "66 1 0.0034022606125221374\n",
      "67 0 -0.0002377767139443948\n",
      "67 1 0.0033349243311604124\n",
      "68 0 -0.0002377767139443948\n",
      "68 1 0.003269455162794414\n",
      "69 0 -0.0002377767139443948\n",
      "69 1 0.003205787082420044\n",
      "70 0 -0.0002377767139443948\n",
      "70 1 0.0031438568248562324\n",
      "71 0 -0.0002377767139443948\n",
      "71 1 0.003083603754211002\n",
      "72 0 -0.0002377767139443948\n",
      "72 1 0.003024969740147968\n",
      "73 0 -0.0002377767139443948\n",
      "73 1 0.0029678990405715908\n",
      "74 0 -0.0002377767139443948\n",
      "74 1 0.0029123381903721334\n",
      "75 0 -0.0002377767139443948\n",
      "75 1 0.002858235895892335\n",
      "76 0 -0.0002377767139443948\n",
      "76 1 0.0028055429347977347\n",
      "77 0 -0.0002377767139443948\n",
      "77 1 0.002754212061051267\n",
      "78 0 -0.0002377767139443948\n",
      "78 1 0.0027041979147103207\n",
      "79 0 -0.0002377767139443948\n",
      "79 1 0.002655456936280837\n",
      "80 0 -0.0002377767139443948\n",
      "80 1 0.0026079472853787746\n",
      "81 0 -0.0002377767139443948\n",
      "81 1 0.0025616287634634724\n",
      "82 0 -0.0002377767139443948\n",
      "82 1 0.002516462740421522\n",
      "83 0 -0.0002377767139443948\n",
      "83 1 0.0024724120847922746\n",
      "84 0 -0.0002377767139443948\n",
      "84 1 0.002429441097438416\n",
      "85 0 -0.0002377767139443948\n",
      "85 1 0.002387515448476259\n",
      "86 0 -0.0002377767139443948\n",
      "86 1 0.0023466021172911617\n",
      "87 0 -0.0002377767139443948\n",
      "87 1 0.0023066693354734363\n",
      "88 0 -0.0002377767139443948\n",
      "88 1 0.0022676865325195607\n",
      "89 0 -0.0002377767139443948\n",
      "89 1 0.002229624284152322\n",
      "90 0 -0.0002377767139443948\n",
      "90 1 0.0021924542631219504\n",
      "91 0 -0.0002377767139443948\n",
      "91 1 0.0021561491923579607\n",
      "92 0 -0.0002377767139443948\n",
      "92 1 0.0021206828003488697\n",
      "93 0 -0.0002377767139443948\n",
      "93 1 0.0020860297786339495\n",
      "94 0 -0.0002377767139443948\n",
      "94 1 0.002052165741297438\n",
      "95 0 -0.0002377767139443948\n",
      "95 1 0.0020190671863620554\n",
      "96 0 -0.0002377767139443948\n",
      "96 1 0.0019867114589841362\n",
      "97 0 -0.0002377767139443948\n",
      "97 1 0.0019550767163583125\n",
      "98 0 -0.0002377767139443948\n",
      "98 1 0.0019241418942447072\n",
      "99 0 -0.0002377767139443948\n",
      "99 1 0.0018938866750362801\n"
     ]
    }
   ],
   "source": [
    "best_epoch, best_acc = -1,0\n",
    "# get the validation index\n",
    "\n",
    "valid_index = np.arange(len(x_val))\n",
    "#use budget % of the validation set for training\n",
    "valid_index =random.sample(list(valid_index), int(len(valid_index) * 0.1))\n",
    "\n",
    "\n",
    "# get the idxs1 and idxs2\n",
    "idxs1 = random.sample(list(valid_index), int(len(valid_index) * 0.7))\n",
    "idxs2 = list(set(valid_index) - set(idxs1))\n",
    "\n",
    "# save the coefficients\n",
    "h_models = []\n",
    "losses = []\n",
    "for t in range(max_T):\n",
    "    # probs_heldout = sess_run(tf.nn.sigmoid(logits), x_val[idxs2], latent_val[idxs2], sess)\n",
    "    # logits updates every iteration, thus the probs_heldout is different\n",
    "    probs_heldout = sigmoid(logits)[idxs2]\n",
    "    #heldout_loss = np.mean(-y_val[idxs2] * np.log(probs_heldout + 1e-20) - (1-y_val[idxs2]) * np.log(1-probs_heldout + 1e-20))\n",
    "    heldout_acc =  np.mean((probs_heldout>0.5)==y_val[idxs2])\n",
    "    # probs = sess_run(tf.nn.sigmoid(logits), x_val, latent_val ,sess)\n",
    "    # 应为logits是更新的，所以probs也是更新的\n",
    "    probs = sigmoid(logits)\n",
    "    val_loss = np.mean(-y_val * np.log(probs + 1e-20) - (1 - y_val) * np.log(1 - probs + 1e-20))\n",
    "    val_acc = np.mean((probs > 0.5) == y_val)\n",
    "    losses.append(val_loss)\n",
    "    if heldout_acc > best_acc:\n",
    "        print(\"Update!\")\n",
    "        best_epoch = t\n",
    "        best_acc = heldout_acc\n",
    "        best_logits_valid = logits\n",
    "        predicted_test_logits = test_logits\n",
    "    # delta = res(probs,y_val)\n",
    "    residual = probs - y_val\n",
    "    for i in range(3):\n",
    "        # define the control\n",
    "        control_idx1 = db[\"ydm_train\"][idxs1]>0.5\n",
    "        control_idx2 = db[\"ydm_train\"][idxs2]>0.5\n",
    "        if i==0: \n",
    "            # X_1, f1(x) > 1/2\n",
    "            temp_s = control_idx1\n",
    "            temp_s_heldout = control_idx2\n",
    "        elif i ==1:\n",
    "            # X_0, f0(x) ≤ 1/2\n",
    "            temp_s = 1- control_idx1\n",
    "            temp_s_heldout = 1- control_idx2\n",
    "        else:\n",
    "            # X\n",
    "            temp_s = np.ones_like(control_idx1)\n",
    "            temp_s_heldout = np.ones_like(control_idx2)\n",
    "        # get the fresh sample for training\n",
    "        samples1 = np.where(temp_s == 1)[0]\n",
    "        samples2 = np.where(temp_s_heldout == 1)[0]\n",
    "        # train the regression model \n",
    "        clf = Ridge(alpha=1) # 如果我不变呢\n",
    "        # clf = DecisionTreeRegressor(max_depth = 5)\n",
    "        # 如果要把protected feature 去掉 可以考率生成一个新的x_train、valid\n",
    "        # 我没有去拟合他的 res 那个function，我直接拟合已知的residual （f(x) - y）\n",
    "        clf.fit(x_val[idxs1][samples1],residual[idxs1][samples1])\n",
    "        clf_prediction = clf.predict(x_val[idxs2][samples2])\n",
    "        corr = np.mean(clf_prediction * residual[idxs2][samples2])\n",
    "        print(t, i, corr)\n",
    "        if corr > thresh:\n",
    "            h_models.append(clf)\n",
    "            # h = (tf.matmul(latent_ph, tf.constant(np.expand_dims(clf.coef_,-1),\n",
    "            #                                         dtype=tf.float32))[:,0] + clf.intercept_)\n",
    "            #here, we update h\n",
    "            h = clf.predict(x_val)\n",
    "            h_test = clf.predict(x_test)\n",
    "            # print(h.shape)\n",
    "            # print(h)\n",
    "            # when update the logits we only update the logits of current set\n",
    "            # logits -= .1 * h * s\n",
    "            control = db[\"ydm_train\"]>0.5\n",
    "            #here ydm_test is the f_0(x_test) \n",
    "            control_test = db[\"ydm_test\"]>0.5\n",
    "            if i == 0:\n",
    "                # update logits of X_1\n",
    "                s = control\n",
    "                s_test = control_test\n",
    "            elif i == 1:\n",
    "                # update logits of X_0\n",
    "                s = 1 - control\n",
    "                s_test = 1 - control_test\n",
    "            else:\n",
    "                # update all logits (This might never used)\n",
    "                s = np.ones_like(control)\n",
    "                s_test = np.ones_like(control_test)\n",
    "            logits -= .1 * h * s\n",
    "            # update the test logits accordingly\n",
    "            test_logits -= .1 * h_test * s_test\n",
    "            break\n",
    "    # 如果 i == 2 说明没有在X_0,X_1找到合适的h，那么就不更新了\n",
    "    if i==2:\n",
    "        break"
   ]
  },
  {
   "cell_type": "code",
   "execution_count": 8,
   "metadata": {},
   "outputs": [
    {
     "data": {
      "text/plain": [
       "[<matplotlib.lines.Line2D at 0x14d69646880>]"
      ]
     },
     "execution_count": 8,
     "metadata": {},
     "output_type": "execute_result"
    },
    {
     "data": {
      "image/png": "[encoded data removed]",
      "text/plain": [
       "<Figure size 640x480 with 1 Axes>"
      ]
     },
     "metadata": {},
     "output_type": "display_data"
    }
   ],
   "source": [
    "plt.plot(losses)"
   ]
  },
  {
   "cell_type": "code",
   "execution_count": 9,
   "metadata": {},
   "outputs": [
    {
     "name": "stdout",
     "output_type": "stream",
     "text": [
      "Best epoch: 10\n",
      "Best acc for heldout data during training: 0.8583333333333333\n",
      "Valid set whole acc: 0.8331180465852744\n",
      "Previous acc: 0.8347847826992791\n",
      "Test set acc: 0.8256957173804366\n",
      "Previous acc: 0.8258623562739543\n"
     ]
    }
   ],
   "source": [
    "#检验结果\n",
    "probs_val = sigmoid(best_logits_valid)\n",
    "print(\"Best epoch: {}\".format(best_epoch))\n",
    "print(\"Best acc for heldout data during training: {}\".format(best_acc))\n",
    "print(\"Valid set whole acc: {}\".format(np.mean((probs_val>0.5)==y_val)))\n",
    "print(\"Previous acc: {}\".format(np.mean((db[\"ydm_train\"]>0.5)==y_val)))\n",
    "print(\"Test set acc: {}\".format(np.mean((sigmoid(predicted_test_logits)>0.5)==db[\"y_test\"])))\n",
    "print(\"Previous acc: {}\".format(np.mean((db[\"ydm_test\"]>0.5)==db[\"y_test\"])))"
   ]
  },
  {
   "cell_type": "markdown",
   "metadata": {},
   "source": [
    "# Now, do the fairness comparison"
   ]
  },
  {
   "cell_type": "code",
   "execution_count": 10,
   "metadata": {},
   "outputs": [
    {
     "name": "stdout",
     "output_type": "stream",
     "text": [
      "0.49058149057747275\n",
      "0.3628691982969253\n",
      "Error rate is 0.1743042826195634\n",
      "Equal opportunity difference is 0.12771229228054742\n"
     ]
    }
   ],
   "source": [
    "#Huangrui add\n",
    "EPS = 1e-8\n",
    "Y_hat = sigmoid(predicted_test_logits)>0.5\n",
    "A = db[\"attr_test\"]\n",
    "Y = db[\"y_test\"]\n",
    "TP = np.multiply(Y, Y_hat)\n",
    "mask0 = np.multiply(Y,1-A)\n",
    "mask1 = np.multiply(Y,A)\n",
    "TP0 = np.multiply(TP, mask0)\n",
    "TP1 = np.multiply(TP, mask1)\n",
    "tpr0 = np.sum(TP0) / (np.sum(mask0) + EPS)\n",
    "tpr1 = np.sum(TP1) / (np.sum(mask1) + EPS)\n",
    "print(tpr0)\n",
    "print(tpr1)\n",
    "#get the error rate of the test set\n",
    "error_rate = np.mean(Y_hat != Y)\n",
    "print(\"Error rate is {}\".format(error_rate))\n",
    "print(\"Equal opportunity difference is {}\".format(abs(tpr0-tpr1)))"
   ]
  },
  {
   "cell_type": "code",
   "execution_count": 12,
   "metadata": {},
   "outputs": [
    {
     "name": "stdout",
     "output_type": "stream",
     "text": [
      "0.4905814905814906\n",
      "0.3628691983122363\n",
      "Error rate is 0.1743042826195634\n",
      "Equal opportunity difference is 0.1277122922692543\n"
     ]
    }
   ],
   "source": [
    "#Huangrui add\n",
    "# EPS = 0\n",
    "Y_hat = sigmoid(test_logits)>0.5\n",
    "A = db[\"attr_test\"]\n",
    "Y = db[\"y_test\"]\n",
    "TP = np.multiply(Y, Y_hat)\n",
    "mask0 = np.multiply(Y,1-A)\n",
    "mask1 = np.multiply(Y,A)\n",
    "TP0 = np.multiply(TP, mask0)\n",
    "TP1 = np.multiply(TP, mask1)\n",
    "tpr0 = np.sum(TP0) / (np.sum(mask0) + EPS)\n",
    "tpr1 = np.sum(TP1) / (np.sum(mask1) + EPS)\n",
    "print(tpr0)\n",
    "print(tpr1)\n",
    "#get the error rate of the test set\n",
    "error_rate = np.mean(Y_hat != Y)\n",
    "print(\"Error rate is {}\".format(error_rate))\n",
    "print(\"Equal opportunity difference is {}\".format(abs(tpr0-tpr1)))"
   ]
  },
  {
   "cell_type": "code",
   "execution_count": 15,
   "metadata": {},
   "outputs": [
    {
     "name": "stdout",
     "output_type": "stream",
     "text": [
      "0.5004095004095004\n",
      "0.3080168776371308\n",
      "Error rate is 0.17413764372604565\n",
      "Equal opportunity difference is 0.19239262277236957\n"
     ]
    }
   ],
   "source": [
    "Y_hat_pre = db[\"ydm_test\"]>0.5\n",
    "A = db[\"attr_test\"]\n",
    "Y = db[\"y_test\"]\n",
    "TP = np.multiply(Y, Y_hat_pre)\n",
    "mask0 = np.multiply(Y,1-A)\n",
    "mask1 = np.multiply(Y,A)\n",
    "TP0 = np.multiply(TP, mask0)\n",
    "TP1 = np.multiply(TP, mask1)\n",
    "tpr0 = np.sum(TP0) / (np.sum(mask0) + EPS)\n",
    "tpr1 = np.sum(TP1) / (np.sum(mask1) + EPS)\n",
    "print(tpr0)\n",
    "print(tpr1)\n",
    "#get the error rate of the test set\n",
    "error_rate = np.mean(Y_hat_pre != Y)\n",
    "print(\"Error rate is {}\".format(error_rate))\n",
    "print(\"Equal opportunity difference is {}\".format(abs(tpr0-tpr1)))\n"
   ]
  }
 ],
 "metadata": {
  "kernelspec": {
   "display_name": "Python 3",
   "language": "python",
   "name": "python3"
  },
  "language_info": {
   "codemirror_mode": {
    "name": "ipython",
    "version": 3
   },
   "file_extension": ".py",
   "mimetype": "text/x-python",
   "name": "python",
   "nbconvert_exporter": "python",
   "pygments_lexer": "ipython3",
   "version": "3.9.13"
  }
 },
 "nbformat": 4,
 "nbformat_minor": 2
}
