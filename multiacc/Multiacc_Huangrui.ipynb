{
 "cells": [
  {
   "cell_type": "code",
   "execution_count": 1,
   "metadata": {},
   "outputs": [],
   "source": [
    "import os\n",
    "from sklearn.linear_model import LinearRegression, Ridge, LogisticRegression\n",
    "from sklearn import tree\n",
    "import numpy as np\n",
    "import pandas as pd\n",
    "import pickle\n",
    "from random import sample \n",
    "from sklearn.tree import DecisionTreeRegressor"
   ]
  },
  {
   "cell_type": "markdown",
   "metadata": {},
   "source": [
    "# Read Dataset"
   ]
  },
  {
   "cell_type": "code",
   "execution_count": 2,
   "metadata": {},
   "outputs": [],
   "source": [
    "path = \"../predict-responsibly/data/\"\n",
    "dataset = \"adult\"\n",
    "protected_feature = \"sex\"\n",
    "K = 1\n",
    "db = np.load(os.path.join(path,dataset,\"{}{}_{}.npz\".format(dataset,K,protected_feature)))"
   ]
  },
  {
   "cell_type": "markdown",
   "metadata": {},
   "source": [
    "## partition X according to f0"
   ]
  },
  {
   "cell_type": "code",
   "execution_count": 3,
   "metadata": {},
   "outputs": [],
   "source": [
    "x_val = db[\"x_train\"]\n",
    "y_val = db[\"y_train\"]\n",
    "x_test = db[\"x_test\"]\n",
    "y_test = db[\"y_test\"]"
   ]
  },
  {
   "cell_type": "code",
   "execution_count": 4,
   "metadata": {},
   "outputs": [],
   "source": [
    "def res(p, y):\n",
    "    return y * ((p>=0.1)/(p + 1e-20) + (p<0.1) * (20 - 100  * p)) +\\\n",
    "(1-y) * ((p < 0.9)/(1 - p + 1e-20) + (p>=0.9) * (100 * p - 80))"
   ]
  },
  {
   "cell_type": "code",
   "execution_count": 26,
   "metadata": {},
   "outputs": [],
   "source": [
    "max_T = 100\n",
    "thresh = 1e-4 # Hyper-parameter"
   ]
  },
  {
   "cell_type": "code",
   "execution_count": null,
   "metadata": {
    "scrolled": true
   },
   "outputs": [],
   "source": [
    "best_epoch, best_acc = -1,0\n",
    "# get the validation index\n",
    "\n",
    "valid_index = np.arange(len(x_val))\n",
    "#use budget % of the validation set for training\n",
    "valid_index = sample(list(valid_index), int(len(valid_index) * 0.1))\n",
    "\n",
    "\n",
    "# get the idxs1 and idxs2\n",
    "idxs1 = sample(list(valid_index), int(len(valid_index) * 0.7))\n",
    "idxs2 = list(set(valid_index) - set(idxs1))\n",
    "\n",
    "# save the coefficients\n",
    "coeffs = []\n",
    "for t in range(max_T):\n",
    "    # probs_heldout = sess_run(tf.nn.sigmoid(logits), x_val[idxs2], latent_val[idxs2], sess)\n",
    "    probs_heldout = db[\"ydm_train\"][idxs2]\n",
    "    heldout_loss = np.mean(-y_val[idxs2] * np.log(probs_heldout + 1e-20) - (1-y_val[idxs2]) * np.log(1-probs_heldout + 1e-20))\n",
    "    heldout_acc =  np.mean((probs_heldout>0.5)==y_val[idxs2])\n",
    "    # probs = sess_run(tf.nn.sigmoid(logits), x_val, latent_val ,sess)\n",
    "    probs = db[\"ydm_train\"]\n",
    "    val_loss = np.mean(-y_val * np.log(probs + 1e-20) - (1 - y_val) * np.log(1 - probs + 1e-20))\n",
    "    val_acc = np.mean((probs > 0.5) == y_val)\n",
    "    if heldout_acc > best_acc:\n",
    "        best_epoch = t\n",
    "        best_acc = heldout_acc\n",
    "        best_logits = logits\n",
    "    delta = res(probs,y_val)\n",
    "    residual = probs - y_val\n",
    "    # define the control\n",
    "    control = db[\"ydm_train\"]>0.5\n",
    "    for i in range(3):\n",
    "        if i==0: \n",
    "            # X_1\n",
    "            temp_s = control[idxs1]\n",
    "            temp_s_heldout = control[idxs2]\n",
    "        elif i ==1：\n",
    "            # X_0\n",
    "            temp_s = 1- control[idxs1]\n",
    "            temp_s_heldout = 1- control[idxs2]\n",
    "        else:\n",
    "            # X\n",
    "            temp_s = np.ones_like(control[idxs1])\n",
    "            temp_s_heldout = np.ones_like(control[idxs2])\n",
    "        # get the fresh sample for training\n",
    "        samples1 = np.where(temp_s == 1)[0]\n",
    "        samples2 = np.where(temp_s_heldout == 1)[0]\n",
    "        # train the regression model \n",
    "        clf = DecisionTreeRegressor\n",
    "        # 如果要把protected feature 去掉 可以考率生成一个新的x_train、valid\n",
    "        clf.fit(x_val[idxs1][samples1],delta[idxs1][samples1])\n",
    "        clf_prediction = clf.predict(x_val[idxs2][samples2])\n",
    "        corr = np.mean(clf_prediction * residual[idxs2][samples2])\n",
    "        print(t, i, corr)\n",
    "        if corr > 1e-4:\n",
    "            coeffs.append(clf.coef_)\n",
    "            h = (tf.matmul(latent_ph, tf.constant(np.expand_dims(clf.coef_,-1),\n",
    "                                                    dtype=tf.float32))[:,0] + clf.intercept_)\n",
    "            logits -= .1 * h * s\n",
    "            break"
   ]
  }
 ],
 "metadata": {
  "kernelspec": {
   "display_name": "Python 3",
   "language": "python",
   "name": "python3"
  },
  "language_info": {
   "codemirror_mode": {
    "name": "ipython",
    "version": 3
   },
   "file_extension": ".py",
   "mimetype": "text/x-python",
   "name": "python",
   "nbconvert_exporter": "python",
   "pygments_lexer": "ipython3",
   "version": "3.9.13"
  }
 },
 "nbformat": 4,
 "nbformat_minor": 2
}
