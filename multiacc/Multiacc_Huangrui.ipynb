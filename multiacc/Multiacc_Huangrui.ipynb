{
 "cells": [
  {
   "cell_type": "code",
   "execution_count": 3,
   "metadata": {},
   "outputs": [],
   "source": [
    "import os\n",
    "from sklearn.linear_model import LinearRegression, Ridge, LogisticRegression\n",
    "from sklearn import tree\n",
    "import numpy as np\n",
    "import pandas as pd\n",
    "import pickle\n",
    "from random import sample "
   ]
  },
  {
   "cell_type": "markdown",
   "metadata": {},
   "source": [
    "# Read Dataset"
   ]
  },
  {
   "cell_type": "code",
   "execution_count": 4,
   "metadata": {},
   "outputs": [],
   "source": [
    "path = \"../predict-responsibly/data/\"\n",
    "dataset = \"adult\"\n",
    "protected_feature = \"sex\"\n",
    "K = 1\n",
    "db = np.load(os.path.join(path,dataset,\"{}{}_{}.npz\".format(dataset,K,protected_feature)))"
   ]
  },
  {
   "cell_type": "markdown",
   "metadata": {},
   "source": [
    "## partition X according to f0"
   ]
  },
  {
   "cell_type": "code",
   "execution_count": 23,
   "metadata": {},
   "outputs": [],
   "source": [
    "x_train = db[\"x_train\"]\n",
    "X_0 = x_train[(db[\"ydm_train\"]<=0.5).reshape(-1),:]\n",
    "X_1 = x_train[(db[\"ydm_train\"]>0.5).reshape(-1),:]\n",
    "S = np.concatenate((x_train,X_0,X_1),axis=0)"
   ]
  },
  {
   "cell_type": "code",
   "execution_count": 33,
   "metadata": {},
   "outputs": [],
   "source": [
    "y_val = db[\"y_train\"]"
   ]
  },
  {
   "cell_type": "markdown",
   "metadata": {},
   "source": [
    "没有看到partion的意义"
   ]
  },
  {
   "cell_type": "markdown",
   "metadata": {},
   "source": []
  },
  {
   "cell_type": "code",
   "execution_count": 32,
   "metadata": {},
   "outputs": [
    {
     "data": {
      "text/plain": [
       "Text(0, 0.5, 'Residual')"
      ]
     },
     "execution_count": 32,
     "metadata": {},
     "output_type": "execute_result"
    },
    {
     "data": {
      "image/png": "[encoded data removed]",
      "text/plain": [
       "<Figure size 640x480 with 1 Axes>"
      ]
     },
     "metadata": {},
     "output_type": "display_data"
    }
   ],
   "source": [
    "import matplotlib.pyplot as plt\n",
    "def res(p, y):\n",
    "    return y * ((p>=0.1)/(p + 1e-20) + (p<0.1) * (20 - 100  * p)) +\\\n",
    "(1-y) * ((p < 0.9)/(1 - p + 1e-20) + (p>=0.9) * (100 * p - 80))\n",
    "plt.plot(np.arange(0, 1.0, 0.001), res(np.arange(0., 1, 0.001), 0))\n",
    "plt.plot(np.arange(0, 1.0, 0.001), res(np.arange(0., 1, 0.001), 1))\n",
    "plt.legend(['0', '1'])\n",
    "plt.xlabel('P')\n",
    "plt.ylabel('Residual')"
   ]
  },
  {
   "cell_type": "markdown",
   "metadata": {},
   "source": [
    "## Black-box audting "
   ]
  },
  {
   "cell_type": "code",
   "execution_count": 24,
   "metadata": {},
   "outputs": [],
   "source": [
    "control = db[\"ydm_train\"]\n",
    "noharm = [control, 1 - control, control + 1 - control]"
   ]
  },
  {
   "cell_type": "code",
   "execution_count": 25,
   "metadata": {},
   "outputs": [
    {
     "data": {
      "text/plain": [
       "array([0.12194333])"
      ]
     },
     "execution_count": 25,
     "metadata": {},
     "output_type": "execute_result"
    }
   ],
   "source": [
    "min(noharm[1])"
   ]
  },
  {
   "cell_type": "code",
   "execution_count": 26,
   "metadata": {},
   "outputs": [],
   "source": [
    "max_T = 100\n",
    "thresh = 1e-4 # Hyper-parameter"
   ]
  },
  {
   "cell_type": "code",
   "execution_count": null,
   "metadata": {},
   "outputs": [],
   "source": [
    "def sess_run(result, x):\n",
    "    # result: [0-1]的概率\n",
    "    # x: feature\n",
    "    # return: [0,1]\n",
    "    clf = tree.DecisionTreeRegressor()\n",
    "    clf = clf.fit(x_train, db[\"ydm_train\"]-db[\"y_train\"])\n",
    "    outcome = clf.predict(x_train)\n",
    "    return outcome"
   ]
  },
  {
   "cell_type": "code",
   "execution_count": 28,
   "metadata": {},
   "outputs": [
    {
     "data": {
      "text/plain": [
       "array([[0., 0., 0., ..., 0., 0., 0.],\n",
       "       [0., 0., 0., ..., 0., 0., 0.],\n",
       "       [0., 0., 0., ..., 1., 1., 1.],\n",
       "       ...,\n",
       "       [0., 0., 0., ..., 1., 1., 0.],\n",
       "       [0., 0., 0., ..., 1., 1., 1.],\n",
       "       [0., 0., 0., ..., 1., 1., 1.]])"
      ]
     },
     "execution_count": 28,
     "metadata": {},
     "output_type": "execute_result"
    }
   ],
   "source": [
    "x_train"
   ]
  },
  {
   "cell_type": "code",
   "execution_count": 30,
   "metadata": {},
   "outputs": [
    {
     "data": {
      "text/plain": [
       "array([ 0.09551449,  0.07750333, -0.19846542, ...,  0.11835113,\n",
       "        0.16619715, -0.560013  ])"
      ]
     },
     "execution_count": 30,
     "metadata": {},
     "output_type": "execute_result"
    }
   ],
   "source": [
    "clf = tree.DecisionTreeRegressor()\n",
    "clf = clf.fit(x_train, db[\"ydm_train\"]-db[\"y_train\"])\n",
    "clf.predict(x_train)"
   ]
  },
  {
   "cell_type": "code",
   "execution_count": null,
   "metadata": {},
   "outputs": [],
   "source": []
  },
  {
   "cell_type": "code",
   "execution_count": null,
   "metadata": {},
   "outputs": [],
   "source": [
    "for s in noharm:\n",
    "    temp_harm.append(sess_run(s, x_val, latent_val, sess))"
   ]
  },
  {
   "cell_type": "code",
   "execution_count": 31,
   "metadata": {},
   "outputs": [
    {
     "ename": "AttributeError",
     "evalue": "module 'numpy' has no attribute 'sample'",
     "output_type": "error",
     "traceback": [
      "\u001b[1;31m---------------------------------------------------------------------------\u001b[0m",
      "\u001b[1;31mAttributeError\u001b[0m                            Traceback (most recent call last)",
      "Cell \u001b[1;32mIn [31], line 1\u001b[0m\n\u001b[1;32m----> 1\u001b[0m \u001b[43mnp\u001b[49m\u001b[38;5;241;43m.\u001b[39;49m\u001b[43msample\u001b[49m(x_train, \u001b[38;5;241m1000\u001b[39m)\n",
      "File \u001b[1;32mC:\\edb\\languagepack\\v2\\Python-3.9\\lib\\site-packages\\numpy\\__init__.py:328\u001b[0m, in \u001b[0;36m__getattr__\u001b[1;34m(attr)\u001b[0m\n\u001b[0;32m    325\u001b[0m     \u001b[38;5;124m\"\u001b[39m\u001b[38;5;124mRemoved in NumPy 1.25.0\u001b[39m\u001b[38;5;124m\"\u001b[39m\n\u001b[0;32m    326\u001b[0m     \u001b[38;5;28;01mraise\u001b[39;00m \u001b[38;5;167;01mRuntimeError\u001b[39;00m(\u001b[38;5;124m\"\u001b[39m\u001b[38;5;124mTester was removed in NumPy 1.25.\u001b[39m\u001b[38;5;124m\"\u001b[39m)\n\u001b[1;32m--> 328\u001b[0m \u001b[38;5;28;01mraise\u001b[39;00m \u001b[38;5;167;01mAttributeError\u001b[39;00m(\u001b[38;5;124m\"\u001b[39m\u001b[38;5;124mmodule \u001b[39m\u001b[38;5;132;01m{!r}\u001b[39;00m\u001b[38;5;124m has no attribute \u001b[39m\u001b[38;5;124m\"\u001b[39m\n\u001b[0;32m    329\u001b[0m                      \u001b[38;5;124m\"\u001b[39m\u001b[38;5;132;01m{!r}\u001b[39;00m\u001b[38;5;124m\"\u001b[39m\u001b[38;5;241m.\u001b[39mformat(\u001b[38;5;18m__name__\u001b[39m, attr))\n",
      "\u001b[1;31mAttributeError\u001b[0m: module 'numpy' has no attribute 'sample'"
     ]
    }
   ],
   "source": [
    "np.sample(x_train, 1000)"
   ]
  },
  {
   "cell_type": "code",
   "execution_count": null,
   "metadata": {},
   "outputs": [],
   "source": [
    "best_epoch, best_acc = -1, 0\n",
    "#for this experiment, we use the trainig set as the validation set\n",
    "budget = 1\n",
    "idx_val = np.arange(len(x_train))\n",
    "# get budget % of the validation set\n",
    "idxs_val = np.random.choice(idx_val, int(len(idx_val) * budget), replace=False)\n",
    "\n",
    "\n",
    "#get the index1 and index2 using np.sample\n",
    "idxs1 = np.sample(idxs_val, int(len(idxs_val) * 0.7), replace=False)\n",
    "idxs2 = [for i in idxs_val if i not in idxs1]\n",
    "# save the coeffs of the linear regression \n",
    "coeffs = []\n",
    "for t in range(max_T):\n",
    "    # the control is the original ydm_train, which should be used to make sure we do no harm\n",
    "    control = db[\"ydm_train\"]\n",
    "    #no harm restirction, 1. f0, 2. 1-f0, 3. f0+1-f0 (I am not sure about why we have 3. here)\n",
    "    noharm = [control, 1 - control, control + 1 - control]\n",
    "    probs_heldout = sess_run(tf.nn.sigmoid(logits), x_val[idxs2], latent_val[idxs2], sess)\n",
    "    heldout_loss = np.mean(-y_val[idxs2] * np.log(probs_heldout + 1e-20) - (1-y_val[idxs2]) * np.log(1-probs_heldout + 1e-20))\n",
    "    heldout_acc =  np.mean((probs_heldout>0.5)==y_val[idxs2])\n",
    "    probs = sess_run(tf.nn.sigmoid(logits), x_val, latent_val ,sess)\n",
    "    val_loss = np.mean(-y_val * np.log(probs + 1e-20) - (1 - y_val) * np.log(1 - probs + 1e-20))\n",
    "    val_acc = np.mean((probs > 0.5) == y_val)\n",
    "    if heldout_acc > best_acc:\n",
    "        best_epoch = t\n",
    "        best_acc = heldout_acc\n",
    "        best_logits = logits\n",
    "    # res 在开头定义了\n",
    "    # 应该把latent_val 换成 X \n",
    "    # clf 换成 decision tree regression\n",
    "    # 对应文章中的话 就是 用 decision tree regression 来拟合 residual\n",
    "    # 然后用拟合的结果来更新 logits\n",
    "\n",
    "    delta = res(probs,y_val)\n",
    "    # residual 是f(x) - y,是我们的auditing的model h的 outcome 想要correlate的对象\n",
    "    residual = probs - y_val\n",
    "    for i, s in enumerate(noharm):\n",
    "        # 根据 sample = np.where 推测 sess_run 返回的是一个 0,1 的向量\n",
    "        temp_s = sess_run(noharm[i], x_val[idxs1])\n",
    "        temp_s_heldout = sess_run(noharm[i], x_val[idxs2])\n",
    "        # get fresh samples, 应该是这步吧\n",
    "        samples1 = np.where(temp_s == 1)[0]\n",
    "        samples2 = np.where(temp_s_heldout == 1)[0]\n",
    "        clf = Ridge(alpha=1)\n",
    "        clf.fit(x_val[idxs1][samples1],delta[idxs1][samples1])\n",
    "        clf_prediction = clf.predict(latent_val[idxs2][samples2])\n",
    "        corr = np.mean(clf_prediction * residual[idxs2][samples2])\n",
    "        print(t, i, corr)\n",
    "        #如果发现 h(x) 和 residual 有很强的相关性，那么就把这个h(x)加入到coeffs里面\n",
    "        if corr > 1e-4:\n",
    "            coeffs.append(clf.coef_)\n",
    "            # 然后更新logits\n",
    "            h = (tf.matmul(latent_ph, tf.constant(np.expand_dims(clf.coef_,-1),\n",
    "                                                  dtype=tf.float32))[:,0] + clf.intercept_)\n",
    "            logits -= .1 * h * s\n",
    "            break\n",
    "    if i==2:\n",
    "        break"
   ]
  },
  {
   "cell_type": "code",
   "execution_count": null,
   "metadata": {},
   "outputs": [],
   "source": [
    "def res(p, y):\n",
    "    return y * ((p>=0.1)/(p + 1e-20) + (p<0.1) * (20 - 100  * p)) +\\\n",
    "(1-y) * ((p < 0.9)/(1 - p + 1e-20) + (p>=0.9) * (100 * p - 80))\n",
    "plt.plot(np.arange(0, 1.0, 0.001), res(np.arange(0., 1, 0.001), 0))\n",
    "plt.plot(np.arange(0, 1.0, 0.001), res(np.arange(0., 1, 0.001), 1))\n",
    "plt.legend(['0', '1'])\n",
    "plt.xlabel('P')\n",
    "plt.ylabel('Residual')"
   ]
  },
  {
   "cell_type": "code",
   "execution_count": null,
   "metadata": {
    "scrolled": true
   },
   "outputs": [],
   "source": [
    "best_epoch, best_acc = -1,0\n",
    "(idxs1, idxs2, _), _ = split_data(np.arange(len(idxs_val)), ratio=[0.7,0.3,0.])\n",
    "coeffs = []\n",
    "for t in range(max_T):\n",
    "    control = tf.cast(tf.greater(net.output[:,1], net.output[:,0]), tf.float32)\n",
    "    noharm = [control, 1 - control, control + 1 - control]\n",
    "    probs_heldout = sess_run(tf.nn.sigmoid(logits), x_val[idxs2], latent_val[idxs2], sess)\n",
    "    heldout_loss = np.mean(-y_val[idxs2] * np.log(probs_heldout + 1e-20) - (1-y_val[idxs2]) * np.log(1-probs_heldout + 1e-20))\n",
    "    heldout_acc =  np.mean((probs_heldout>0.5)==y_val[idxs2])\n",
    "    probs = sess_run(tf.nn.sigmoid(logits), x_val, latent_val ,sess)\n",
    "    val_loss = np.mean(-y_val * np.log(probs + 1e-20) - (1 - y_val) * np.log(1 - probs + 1e-20))\n",
    "    val_acc = np.mean((probs > 0.5) == y_val)\n",
    "    if heldout_acc > best_acc:\n",
    "        best_epoch = t\n",
    "        best_acc = heldout_acc\n",
    "        best_logits = logits\n",
    "    delta = res(probs,y_val)\n",
    "    residual = probs - y_val\n",
    "    for i, s in enumerate(noharm):\n",
    "        temp_s = sess_run(noharm[i], x_val[idxs1], latent_val[idxs1], sess)\n",
    "        temp_s_heldout = sess_run(noharm[i], x_val[idxs2], latent_val[idxs2], sess)\n",
    "        samples1 = np.where(temp_s == 1)[0]\n",
    "        samples2 = np.where(temp_s_heldout == 1)[0]\n",
    "        clf = Ridge(alpha=1)\n",
    "        clf.fit(latent_val[idxs1][samples1],delta[idxs1][samples1])\n",
    "        clf_prediction = clf.predict(latent_val[idxs2][samples2])\n",
    "        corr = np.mean(clf_prediction * residual[idxs2][samples2])\n",
    "        print(t, i, corr)\n",
    "        if corr > 1e-4:\n",
    "            coeffs.append(clf.coef_)\n",
    "            h = (tf.matmul(latent_ph, tf.constant(np.expand_dims(clf.coef_,-1),\n",
    "                                                  dtype=tf.float32))[:,0] + clf.intercept_)\n",
    "            logits -= .1 * h * s\n",
    "            break\n",
    "    if i==2:\n",
    "        break"
   ]
  },
  {
   "cell_type": "markdown",
   "metadata": {},
   "source": [
    "## Result"
   ]
  },
  {
   "cell_type": "code",
   "execution_count": null,
   "metadata": {},
   "outputs": [],
   "source": [
    "probs = sess_run(net.output[:,1] - net.output[:,0], x_test, latent_test, sess)\n",
    "groups = ['all', 'F', 'M', 'B', 'N', 'BF', 'BM', 'NF', 'NM']\n",
    "errs = []\n",
    "idxs = np.where((skin[idxs_test]>-1) * (sex[idxs_test]>-10))[0]\n",
    "errs.append(100 * np.mean((probs[idxs]>0.5)!=y_test[idxs]))\n",
    "idxs = np.where((skin[idxs_test]>-1) * (sex[idxs_test]==0))[0]\n",
    "errs.append(100 * np.mean((probs[idxs]>0.5)!=y_test[idxs]))\n",
    "idxs = np.where((skin[idxs_test]>-1) * (sex[idxs_test]==1))[0]\n",
    "errs.append(100 * np.mean((probs[idxs]>0.5)!=y_test[idxs]))\n",
    "idxs = np.where((skin[idxs_test]==1) * (sex[idxs_test]>-10))[0]\n",
    "errs.append(100 * np.mean((probs[idxs]>0.5)!=y_test[idxs]))\n",
    "idxs = np.where((skin[idxs_test]==0) * (sex[idxs_test]>-10))[0]\n",
    "errs.append(100 * np.mean((probs[idxs]>0.5)!=y_test[idxs]))\n",
    "idxs = np.where((skin[idxs_test]==1) * (sex[idxs_test]==0))[0]\n",
    "errs.append(100 * np.mean((probs[idxs]>0.5)!=y_test[idxs]))\n",
    "idxs = np.where((skin[idxs_test]==1) * (sex[idxs_test]==1))[0]\n",
    "errs.append(100 * np.mean((probs[idxs]>0.5)!=y_test[idxs]))\n",
    "idxs = np.where((skin[idxs_test]==0) * (sex[idxs_test]==0))[0]\n",
    "errs.append(100 * np.mean((probs[idxs]>0.5)!=y_test[idxs]))\n",
    "idxs = np.where((skin[idxs_test]==0) * (sex[idxs_test]==1))[0]\n",
    "errs.append(100 * np.mean((probs[idxs]>0.5)!=y_test[idxs]))\n",
    "output = ''\n",
    "for group, err in zip(groups, errs):\n",
    "    output += group + ': ' + str(round(err, 1)) + ' & '\n",
    "print('Original: ', output)"
   ]
  },
  {
   "cell_type": "code",
   "execution_count": null,
   "metadata": {},
   "outputs": [],
   "source": [
    "probs = sess_run(tf.nn.sigmoid(best_logits), x_test, latent_test, sess)\n",
    "groups = ['all', 'F', 'M', 'B', 'N', 'BF', 'BM', 'NF', 'NM']\n",
    "errs = []\n",
    "idxs = np.where((skin[idxs_test]>-1) * (sex[idxs_test]>-10))[0]\n",
    "errs.append(100 * np.mean((probs[idxs]>0.5)!=y_test[idxs]))\n",
    "idxs = np.where((skin[idxs_test]>-1) * (sex[idxs_test]==0))[0]\n",
    "errs.append(100 * np.mean((probs[idxs]>0.5)!=y_test[idxs]))\n",
    "idxs = np.where((skin[idxs_test]>-1) * (sex[idxs_test]==1))[0]\n",
    "errs.append(100 * np.mean((probs[idxs]>0.5)!=y_test[idxs]))\n",
    "idxs = np.where((skin[idxs_test]==1) * (sex[idxs_test]>-10))[0]\n",
    "errs.append(100 * np.mean((probs[idxs]>0.5)!=y_test[idxs]))\n",
    "idxs = np.where((skin[idxs_test]==0) * (sex[idxs_test]>-10))[0]\n",
    "errs.append(100 * np.mean((probs[idxs]>0.5)!=y_test[idxs]))\n",
    "idxs = np.where((skin[idxs_test]==1) * (sex[idxs_test]==0))[0]\n",
    "errs.append(100 * np.mean((probs[idxs]>0.5)!=y_test[idxs]))\n",
    "idxs = np.where((skin[idxs_test]==1) * (sex[idxs_test]==1))[0]\n",
    "errs.append(100 * np.mean((probs[idxs]>0.5)!=y_test[idxs]))\n",
    "idxs = np.where((skin[idxs_test]==0) * (sex[idxs_test]==0))[0]\n",
    "errs.append(100 * np.mean((probs[idxs]>0.5)!=y_test[idxs]))\n",
    "idxs = np.where((skin[idxs_test]==0) * (sex[idxs_test]==1))[0]\n",
    "errs.append(100 * np.mean((probs[idxs]>0.5)!=y_test[idxs]))\n",
    "output = ''\n",
    "for group, err in zip(groups, errs):\n",
    "    output += group + ': ' + str(round(err, 1)) + ' & '\n",
    "print('MultiAccuracy Boost: ', output)"
   ]
  }
 ],
 "metadata": {
  "kernelspec": {
   "display_name": "Python 3",
   "language": "python",
   "name": "python3"
  },
  "language_info": {
   "codemirror_mode": {
    "name": "ipython",
    "version": 3
   },
   "file_extension": ".py",
   "mimetype": "text/x-python",
   "name": "python",
   "nbconvert_exporter": "python",
   "pygments_lexer": "ipython3",
   "version": "3.9.13"
  }
 },
 "nbformat": 4,
 "nbformat_minor": 2
}
