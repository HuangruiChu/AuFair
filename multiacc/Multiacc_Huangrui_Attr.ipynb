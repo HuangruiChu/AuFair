{
 "cells": [
  {
   "cell_type": "code",
   "execution_count": 46,
   "metadata": {},
   "outputs": [],
   "source": [
    "import os\n",
    "from sklearn.linear_model import LinearRegression, Ridge, LogisticRegression\n",
    "from sklearn import tree\n",
    "import numpy as np\n",
    "import pandas as pd\n",
    "import random\n",
    "from sklearn.tree import DecisionTreeRegressor\n",
    "import matplotlib.pyplot as plt"
   ]
  },
  {
   "cell_type": "code",
   "execution_count": 37,
   "metadata": {},
   "outputs": [],
   "source": [
    "max_T = 100\n",
    "thresh = 1e-4 # Hyper-\n",
    "#set random seed to make results reproducible\n",
    "seed = 1234\n",
    "np.random.seed(seed)\n",
    "random.seed(seed)"
   ]
  },
  {
   "cell_type": "markdown",
   "metadata": {},
   "source": [
    "# Read Dataset"
   ]
  },
  {
   "cell_type": "code",
   "execution_count": 38,
   "metadata": {},
   "outputs": [],
   "source": [
    "path = \"../predict-responsibly/data/\"\n",
    "dataset = \"adult\"\n",
    "protected_feature = \"sex\"\n",
    "K = 1\n",
    "db = np.load(os.path.join(path,dataset,\"{}{}_{}.npz\".format(dataset,K,protected_feature)))"
   ]
  },
  {
   "cell_type": "markdown",
   "metadata": {},
   "source": [
    "## partition X according to f0"
   ]
  },
  {
   "cell_type": "code",
   "execution_count": 39,
   "metadata": {},
   "outputs": [],
   "source": [
    "x_val = db[\"x_train\"]\n",
    "y_val = db[\"y_train\"]\n",
    "x_test = db[\"x_test\"]\n",
    "y_test = db[\"y_test\"]"
   ]
  },
  {
   "cell_type": "code",
   "execution_count": 47,
   "metadata": {},
   "outputs": [
    {
     "data": {
      "text/plain": [
       "Text(0, 0.5, 'Residual')"
      ]
     },
     "execution_count": 47,
     "metadata": {},
     "output_type": "execute_result"
    },
    {
     "data": {
      "image/png": "[encoded data removed]",
      "text/plain": [
       "<Figure size 640x480 with 1 Axes>"
      ]
     },
     "metadata": {},
     "output_type": "display_data"
    }
   ],
   "source": [
    "def res(p, y):\n",
    "    # 有noise 吧？？？？？我用这个就拟合不了了\n",
    "    return y * ((p>=0.1)/(p + 1e-20) + (p<0.1) * (20 - 100  * p)) +\\\n",
    "(1-y) * ((p < 0.9)/(1 - p + 1e-20) + (p>=0.9) * (100 * p - 80))\n",
    "import matplotlib.pyplot as plt\n",
    "plt.plot(np.arange(0, 1.0, 0.001), res(np.arange(0., 1, 0.001), 0))\n",
    "plt.plot(np.arange(0, 1.0, 0.001), res(np.arange(0., 1, 0.001), 1))\n",
    "plt.legend(['0', '1'])\n",
    "plt.xlabel('P')\n",
    "plt.ylabel('Residual')"
   ]
  },
  {
   "cell_type": "code",
   "execution_count": 48,
   "metadata": {},
   "outputs": [
    {
     "data": {
      "text/plain": [
       "1.0"
      ]
     },
     "execution_count": 48,
     "metadata": {},
     "output_type": "execute_result"
    }
   ],
   "source": [
    "res(1,1)"
   ]
  },
  {
   "cell_type": "code",
   "execution_count": 49,
   "metadata": {},
   "outputs": [
    {
     "data": {
      "text/plain": [
       "1.0"
      ]
     },
     "execution_count": 49,
     "metadata": {},
     "output_type": "execute_result"
    }
   ],
   "source": [
    "res(0,0)"
   ]
  },
  {
   "cell_type": "code",
   "execution_count": 41,
   "metadata": {},
   "outputs": [],
   "source": [
    "# logits = net.output[:,1] - net.output[:,0]\n",
    "# in our case, we get the logits directly\n",
    "logits = np.log(db[\"ydm_train\"]/(1-db[\"ydm_train\"]))\n",
    "test_logits = np.log(db[\"ydm_test\"]/(1-db[\"ydm_test\"]))\n",
    "def sigmoid(x):\n",
    "    return 1 / (1 + np.exp(-x))\n"
   ]
  },
  {
   "cell_type": "code",
   "execution_count": 42,
   "metadata": {
    "scrolled": true
   },
   "outputs": [
    {
     "name": "stdout",
     "output_type": "stream",
     "text": [
      "Update!\n",
      "Val_acc is 0.8347847826992791, heldout_acc is 0.8541666666666666\n",
      "0 0 0.012432768896859325\n",
      "Update logits!\n",
      "Update!\n",
      "Val_acc is 0.8346597774907287, heldout_acc is 0.8555555555555555\n",
      "1 0 0.01203049352312652\n",
      "Update logits!\n",
      "2 0 0.011645122532288485\n",
      "Update logits!\n",
      "3 0 0.011275824230753215\n",
      "Update logits!\n",
      "4 0 0.010921811262291626\n",
      "Update logits!\n",
      "5 0 0.01058233825773584\n",
      "Update logits!\n",
      "6 0 0.010256699588358282\n",
      "Update logits!\n",
      "7 0 0.009944227222260533\n",
      "Update logits!\n",
      "8 0 0.009644288682356296\n",
      "Update logits!\n",
      "9 0 0.009356285103933097\n",
      "Update logits!\n",
      "10 0 0.009079649389301964\n",
      "Update logits!\n",
      "11 0 0.00881384445667694\n",
      "Update logits!\n",
      "12 0 0.008558361580150635\n",
      "Update logits!\n",
      "13 0 0.008312718817434688\n",
      "Update logits!\n",
      "14 0 0.008076459521902595\n",
      "Update logits!\n",
      "15 0 0.007849150935395937\n",
      "Update logits!\n",
      "16 0 0.007630382858224683\n",
      "Update logits!\n",
      "17 0 0.007419766392799263\n",
      "Update logits!\n",
      "18 0 0.0072169327573696875\n",
      "Update logits!\n",
      "19 0 0.007021532166409312\n",
      "Update logits!\n",
      "20 0 0.0068332327742621855\n",
      "Update logits!\n",
      "21 0 0.006651719678769329\n",
      "Update logits!\n",
      "22 0 0.0064766939816969\n",
      "Update logits!\n",
      "23 0 0.006307871902904816\n",
      "Update logits!\n",
      "24 0 0.006144983945315396\n",
      "Update logits!\n",
      "25 0 0.0059877741078660585\n",
      "Update logits!\n",
      "26 0 0.005835999143755618\n",
      "Update logits!\n",
      "27 0 0.005689427861419881\n",
      "Update logits!\n",
      "28 0 0.005547840465796501\n",
      "Update logits!\n",
      "29 0 0.005411027937561816\n",
      "Update logits!\n",
      "30 0 0.005278791448141937\n",
      "Update logits!\n",
      "31 0 0.005150941808416567\n",
      "Update logits!\n",
      "32 0 0.005027298949146517\n",
      "Update logits!\n",
      "33 0 0.0049076914312640284\n",
      "Update logits!\n",
      "34 0 0.004791955984269032\n",
      "Update logits!\n",
      "35 0 0.004679937071073695\n",
      "Update logits!\n",
      "36 0 0.0045714864777327315\n",
      "Update logits!\n",
      "37 0 0.004466462926587183\n",
      "Update logits!\n",
      "38 0 0.00436473171143524\n",
      "Update logits!\n",
      "39 0 0.0042661643534252485\n",
      "Update logits!\n",
      "40 0 0.004170638276443116\n",
      "Update logits!\n",
      "41 0 0.004078036500839483\n",
      "Update logits!\n",
      "42 0 0.003988247354410808\n",
      "Update logits!\n",
      "43 0 0.0039011641996137486\n",
      "Update logits!\n",
      "44 0 0.0038166851760536753\n",
      "Update logits!\n",
      "45 0 0.0037347129573456987\n",
      "Update logits!\n",
      "46 0 0.003655154521501472\n",
      "Update logits!\n",
      "47 0 0.0035779209340458225\n",
      "Update logits!\n",
      "48 0 0.003502927143115785\n",
      "Update logits!\n",
      "49 0 0.003430091785839701\n",
      "Update logits!\n",
      "50 0 0.0033593370053367076\n",
      "Update logits!\n",
      "51 0 0.00329058827771682\n",
      "Update logits!\n",
      "52 0 0.003223774248499408\n",
      "Update logits!\n",
      "53 0 0.0031588265779031134\n",
      "Update logits!\n",
      "54 0 0.0030956797944931575\n",
      "Update logits!\n",
      "55 0 0.0030342711567033494\n",
      "Update logits!\n",
      "56 0 0.0029745405217788106\n",
      "Update logits!\n",
      "57 0 0.002916430221713191\n",
      "Update logits!\n",
      "58 0 0.0028598849457793316\n",
      "Update logits!\n",
      "59 0 0.002804851629276885\n",
      "Update logits!\n",
      "60 0 0.0027512793481424824\n",
      "Update logits!\n",
      "61 0 0.002699119219089588\n",
      "Update logits!\n",
      "62 0 0.0026483243049647844\n",
      "Update logits!\n",
      "63 0 0.0025988495250260893\n",
      "Update logits!\n",
      "64 0 0.002550651569866203\n",
      "Update logits!\n",
      "65 0 0.0025036888207201615\n",
      "Update logits!\n",
      "66 0 0.002457921272912144\n",
      "Update logits!\n",
      "67 0 0.0024133104632107927\n",
      "Update logits!\n",
      "68 0 0.0023698194008757965\n",
      "Update logits!\n",
      "69 0 0.0023274125021914274\n",
      "Update logits!\n",
      "70 0 0.002286055528294541\n",
      "Update logits!\n",
      "71 0 0.0022457155261159005\n",
      "Update logits!\n",
      "72 0 0.0022063607722641147\n",
      "Update logits!\n",
      "73 0 0.0021679607196915564\n",
      "Update logits!\n",
      "74 0 0.0021304859469908244\n",
      "Update logits!\n",
      "75 0 0.0020939081101790584\n",
      "Update logits!\n",
      "76 0 0.0020581998968357902\n",
      "Update logits!\n",
      "77 0 0.002023334982467545\n",
      "Update logits!\n",
      "78 0 0.0019892879889798405\n",
      "Update logits!\n",
      "79 0 0.001956034445143962\n",
      "Update logits!\n",
      "80 0 0.0019235507489523797\n",
      "Update logits!\n",
      "81 0 0.0018918141317626716\n",
      "Update logits!\n",
      "82 0 0.0018608026241355355\n",
      "Update logits!\n",
      "83 0 0.0018304950232778182\n",
      "Update logits!\n",
      "84 0 0.0018008708620064753\n",
      "Update logits!\n",
      "85 0 0.0017719103791541423\n",
      "Update logits!\n",
      "86 0 0.0017435944913414888\n",
      "Update logits!\n",
      "87 0 0.001715904766045644\n",
      "Update logits!\n",
      "88 0 0.0016888233958979896\n",
      "Update logits!\n",
      "89 0 0.0016623331741482806\n",
      "Update logits!\n",
      "90 0 0.0016364174712355988\n",
      "Update logits!\n",
      "91 0 0.0016110602124099365\n",
      "Update logits!\n",
      "92 0 0.0015862458563512501\n",
      "Update logits!\n",
      "93 0 0.0015619593747358425\n",
      "Update logits!\n",
      "94 0 0.0015381862327025853\n",
      "Update logits!\n",
      "95 0 0.001514912370174191\n",
      "Update logits!\n",
      "96 0 0.0014921241839910648\n",
      "Update logits!\n",
      "97 0 0.001469808510817719\n",
      "Update logits!\n",
      "98 0 0.00144795261078375\n",
      "Update logits!\n",
      "99 0 0.0014265441518235863\n",
      "Update logits!\n"
     ]
    }
   ],
   "source": [
    "best_epoch, best_acc = -1,0\n",
    "# get the validation index\n",
    "best_eod = 1\n",
    "valid_index = np.arange(len(x_val))\n",
    "#use budget % of the validation set for training\n",
    "valid_index =random.sample(list(valid_index), int(len(valid_index) * 0.1))\n",
    "\n",
    "\n",
    "# get the idxs1 and idxs2\n",
    "idxs1 = random.sample(list(valid_index), int(len(valid_index) * 0.7))\n",
    "idxs2 = list(set(valid_index) - set(idxs1))\n",
    "\n",
    "# save the coefficients\n",
    "h_models = []\n",
    "losses = []\n",
    "for t in range(max_T):\n",
    "    # probs_heldout = sess_run(tf.nn.sigmoid(logits), x_val[idxs2], latent_val[idxs2], sess)\n",
    "    # logits updates every iteration, thus the probs_heldout is different\n",
    "    probs_heldout = sigmoid(logits)[idxs2]\n",
    "    #heldout_loss = np.mean(-y_val[idxs2] * np.log(probs_heldout + 1e-20) - (1-y_val[idxs2]) * np.log(1-probs_heldout + 1e-20))\n",
    "    heldout_acc =  np.mean((probs_heldout>0.5)==y_val[idxs2])\n",
    "    # probs = sess_run(tf.nn.sigmoid(logits), x_val, latent_val ,sess)\n",
    "    # 应为logits是更新的，所以probs也是更新的\n",
    "    probs = sigmoid(logits)\n",
    "    val_loss = np.mean(-y_val * np.log(probs + 1e-20) - (1 - y_val) * np.log(1 - probs + 1e-20))\n",
    "    val_acc = np.mean((probs > 0.5) == y_val)\n",
    "    EPS = 1e-8\n",
    "    Y_hat = probs>0.5\n",
    "    A = db[\"attr_train\"]\n",
    "    Y = db[\"y_train\"]\n",
    "    TP = np.multiply(Y, Y_hat)[idxs2]\n",
    "    mask0 = np.multiply(Y,1-A)[idxs2]\n",
    "    mask1 = np.multiply(Y,A)[idxs2]\n",
    "    TP0 = np.multiply(TP, mask0)\n",
    "    TP1 = np.multiply(TP, mask1)\n",
    "    tpr0 = np.sum(TP0) / (np.sum(mask0) + EPS)\n",
    "    tpr1 = np.sum(TP1) / (np.sum(mask1) + EPS)\n",
    "    losses.append(val_loss)\n",
    "    heldout_eod = np.abs(tpr0 - tpr1)\n",
    "    if heldout_acc > best_acc:\n",
    "        print(\"Update!\")\n",
    "        print(\"Val_acc is {}, heldout_acc is {}\".format(val_acc, heldout_acc))\n",
    "        best_epoch = t\n",
    "        if heldout_acc > best_acc:\n",
    "            best_acc = heldout_acc\n",
    "        else:\n",
    "            print(\"Warning: acc not improving\")\n",
    "        best_eod = heldout_eod\n",
    "        best_logits_valid = logits\n",
    "        predicted_test_logits = test_logits\n",
    "    # delta = res(probs,y_val)\n",
    "    residual = probs - y_val\n",
    "    for i in range(3):\n",
    "        # define the control as the protected feature\n",
    "        control_idx1 = db[\"attr_train\"][idxs1]\n",
    "        control_idx2 = db[\"attr_train\"][idxs2]\n",
    "        if i==0: \n",
    "            # X_1, priviledged group\n",
    "            temp_s = control_idx1\n",
    "            temp_s_heldout = control_idx2\n",
    "        elif i ==1:\n",
    "            # X_0, unpriviledged group\n",
    "            temp_s = 1- control_idx1\n",
    "            temp_s_heldout = 1- control_idx2\n",
    "        else:\n",
    "            # X\n",
    "            temp_s = np.ones_like(control_idx1)\n",
    "            temp_s_heldout = np.ones_like(control_idx2)\n",
    "        # get the fresh sample for training\n",
    "        samples1 = np.where(temp_s == 1)[0]\n",
    "        samples2 = np.where(temp_s_heldout == 1)[0]\n",
    "        # train the regression model \n",
    "        clf = Ridge(alpha=1) # 如果我不变呢\n",
    "        # clf = DecisionTreeRegressor(max_depth = 5)\n",
    "        # 如果要把protected feature 去掉 可以考率生成一个新的x_train、valid\n",
    "        # 我没有去拟合他的 res 那个function，我直接拟合已知的residual （f(x) - y）\n",
    "        clf.fit(x_val[idxs1][samples1],residual[idxs1][samples1])\n",
    "        clf_prediction = clf.predict(x_val[idxs2][samples2])\n",
    "        corr = np.mean(clf_prediction * residual[idxs2][samples2])\n",
    "        print(t, i, corr)\n",
    "        if corr > thresh:\n",
    "            print(\"Update logits!\")\n",
    "            h_models.append(clf)\n",
    "            # h = (tf.matmul(latent_ph, tf.constant(np.expand_dims(clf.coef_,-1),\n",
    "            #                                         dtype=tf.float32))[:,0] + clf.intercept_)\n",
    "            #here, we update h\n",
    "            h = clf.predict(x_val)\n",
    "            h_test = clf.predict(x_test)\n",
    "            # print(h.shape)\n",
    "            # print(h)\n",
    "            # when update the logits we only update the logits of current set\n",
    "            # logits -= .1 * h * s\n",
    "            control = db[\"attr_train\"]\n",
    "            #here ydm_test is the f_0(x_test) \n",
    "            control_test = db[\"attr_test\"]\n",
    "            if i == 0:\n",
    "                # update logits of X_1\n",
    "                s = control\n",
    "                s_test = control_test\n",
    "            elif i == 1:\n",
    "                # update logits of X_0\n",
    "                s = 1 - control\n",
    "                s_test = 1 - control_test\n",
    "            else:\n",
    "                # update all logits (This might never used)\n",
    "                s = np.ones_like(control)\n",
    "                s_test = np.ones_like(control_test)\n",
    "            logits -= .1 * h * s\n",
    "            # update the test logits accordingly\n",
    "            test_logits -= .1 * h_test * s_test\n",
    "            break\n",
    "    # 如果 i == 2 说明没有在X_0,X_1找到合适的h，那么就不更新了\n",
    "    if i==2:\n",
    "        break"
   ]
  },
  {
   "cell_type": "code",
   "execution_count": 43,
   "metadata": {},
   "outputs": [
    {
     "data": {
      "text/plain": [
       "[<matplotlib.lines.Line2D at 0x1c52e02f490>]"
      ]
     },
     "execution_count": 43,
     "metadata": {},
     "output_type": "execute_result"
    },
    {
     "data": {
      "image/png": "[encoded data removed]",
      "text/plain": [
       "<Figure size 640x480 with 1 Axes>"
      ]
     },
     "metadata": {},
     "output_type": "display_data"
    }
   ],
   "source": [
    "plt.plot(losses)"
   ]
  },
  {
   "cell_type": "code",
   "execution_count": 44,
   "metadata": {},
   "outputs": [
    {
     "name": "stdout",
     "output_type": "stream",
     "text": [
      "Best epoch: 1\n",
      "Best acc for heldout data during training: 0.8555555555555555\n",
      "Best EOD for heldout data during training: 0.06716417922881857\n",
      "Valid set whole acc: 0.8322013417225718\n",
      "Previous acc: 0.8347847826992791\n",
      "Test set acc: 0.8233627728711881\n",
      "Previous acc: 0.8258623562739543\n"
     ]
    }
   ],
   "source": [
    "#检验结果\n",
    "probs_val = sigmoid(best_logits_valid)\n",
    "print(\"Best epoch: {}\".format(best_epoch))\n",
    "print(\"Best acc for heldout data during training: {}\".format(best_acc))\n",
    "print(\"Best EOD for heldout data during training: {}\".format(best_eod))\n",
    "print(\"Valid set whole acc: {}\".format(np.mean((probs_val>0.5)==y_val)))\n",
    "print(\"Previous acc: {}\".format(np.mean((db[\"ydm_train\"]>0.5)==y_val)))\n",
    "print(\"Test set acc: {}\".format(np.mean((sigmoid(predicted_test_logits)>0.5)==db[\"y_test\"])))\n",
    "print(\"Previous acc: {}\".format(np.mean((db[\"ydm_test\"]>0.5)==db[\"y_test\"])))"
   ]
  },
  {
   "cell_type": "markdown",
   "metadata": {},
   "source": [
    "# Now, do the fairness comparison"
   ]
  },
  {
   "cell_type": "code",
   "execution_count": 45,
   "metadata": {},
   "outputs": [
    {
     "name": "stdout",
     "output_type": "stream",
     "text": [
      "0.5004095004054021\n",
      "0.2953586497765671\n",
      "Error rate is 0.17663722712881186\n",
      "Equal opportunity difference is 0.205050850628835\n",
      "Previous equal opportunity difference is 0.19239262278126779\n"
     ]
    }
   ],
   "source": [
    "#Huangrui add\n",
    "EPS = 1e-8\n",
    "Y_hat = sigmoid(predicted_test_logits)>0.5\n",
    "Y_hat_pre = db[\"ydm_test\"]>0.5\n",
    "A = db[\"attr_test\"]\n",
    "Y = db[\"y_test\"]\n",
    "TP = np.multiply(Y, Y_hat)\n",
    "TP_pre = np.multiply(Y, Y_hat_pre)\n",
    "mask0 = np.multiply(Y,1-A)\n",
    "mask1 = np.multiply(Y,A)\n",
    "TP0 = np.multiply(TP, mask0)\n",
    "TP1 = np.multiply(TP, mask1)\n",
    "\n",
    "TP0_pre = np.multiply(TP_pre, mask0)\n",
    "TP1_pre = np.multiply(TP_pre, mask1)\n",
    "tpr0 = np.sum(TP0) / (np.sum(mask0) + EPS)\n",
    "tpr1 = np.sum(TP1) / (np.sum(mask1) + EPS)\n",
    "\n",
    "tpr0_pre = np.sum(TP0_pre) / (np.sum(mask0) + EPS)\n",
    "tpr1_pre = np.sum(TP1_pre) / (np.sum(mask1) + EPS)\n",
    "print(tpr0)\n",
    "print(tpr1)\n",
    "#get the error rate of the test set\n",
    "error_rate = np.mean(Y_hat != Y)\n",
    "print(\"Error rate is {}\".format(error_rate))\n",
    "print(\"Equal opportunity difference is {}\".format(abs(tpr0-tpr1)))\n",
    "print(\"Previous equal opportunity difference is {}\".format(abs(tpr0_pre-tpr1_pre)))"
   ]
  }
 ],
 "metadata": {
  "kernelspec": {
   "display_name": "Python 3",
   "language": "python",
   "name": "python3"
  },
  "language_info": {
   "codemirror_mode": {
    "name": "ipython",
    "version": 3
   },
   "file_extension": ".py",
   "mimetype": "text/x-python",
   "name": "python",
   "nbconvert_exporter": "python",
   "pygments_lexer": "ipython3",
   "version": "3.9.13"
  }
 },
 "nbformat": 4,
 "nbformat_minor": 2
}
