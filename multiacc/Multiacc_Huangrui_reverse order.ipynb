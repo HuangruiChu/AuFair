{
 "cells": [
  {
   "cell_type": "code",
   "execution_count": 21,
   "metadata": {},
   "outputs": [],
   "source": [
    "import os\n",
    "from sklearn.linear_model import LinearRegression, Ridge, LogisticRegression\n",
    "from sklearn import tree\n",
    "import numpy as np\n",
    "import pandas as pd\n",
    "import random\n",
    "from sklearn.tree import DecisionTreeRegressor\n",
    "import matplotlib.pyplot as plt"
   ]
  },
  {
   "cell_type": "code",
   "execution_count": 22,
   "metadata": {},
   "outputs": [],
   "source": [
    "max_T = 100\n",
    "thresh = 1e-4 # Hyper-\n",
    "#set random seed to make results reproducible\n",
    "seed = 1234\n",
    "np.random.seed(seed)\n",
    "random.seed(seed)"
   ]
  },
  {
   "cell_type": "markdown",
   "metadata": {},
   "source": [
    "# Read Dataset"
   ]
  },
  {
   "cell_type": "code",
   "execution_count": 23,
   "metadata": {},
   "outputs": [],
   "source": [
    "path = \"../predict-responsibly/data/\"\n",
    "dataset = \"adult\"\n",
    "protected_feature = \"sex\"\n",
    "K = 1\n",
    "db = np.load(os.path.join(path,dataset,\"{}{}_{}.npz\".format(dataset,K,protected_feature)))"
   ]
  },
  {
   "cell_type": "markdown",
   "metadata": {},
   "source": [
    "## partition X according to f0"
   ]
  },
  {
   "cell_type": "code",
   "execution_count": 24,
   "metadata": {},
   "outputs": [],
   "source": [
    "x_val = db[\"x_train\"]\n",
    "y_val = db[\"y_train\"]\n",
    "x_test = db[\"x_test\"]\n",
    "y_test = db[\"y_test\"]"
   ]
  },
  {
   "cell_type": "code",
   "execution_count": 25,
   "metadata": {},
   "outputs": [],
   "source": [
    "def res(p, y):\n",
    "    # 有noise 吧？？？？？我用这个就拟合不了了\n",
    "    return y * ((p>=0.1)/(p + 1e-20) + (p<0.1) * (20 - 100  * p)) +\\\n",
    "(1-y) * ((p < 0.9)/(1 - p + 1e-20) + (p>=0.9) * (100 * p - 80))"
   ]
  },
  {
   "cell_type": "code",
   "execution_count": 39,
   "metadata": {},
   "outputs": [],
   "source": [
    "# logits = net.output[:,1] - net.output[:,0]\n",
    "# in our case, we get the logits directly\n",
    "logits = np.log(db[\"ydm_train\"]/(1-db[\"ydm_train\"]))\n",
    "test_logits = np.log(db[\"ydm_test\"]/(1-db[\"ydm_test\"]))\n",
    "def sigmoid(x):\n",
    "    return 1 / (1 + np.exp(-x))\n"
   ]
  },
  {
   "cell_type": "code",
   "execution_count": 40,
   "metadata": {},
   "outputs": [
    {
     "name": "stdout",
     "output_type": "stream",
     "text": [
      "0.5004095004054021\n",
      "0.3080168776241343\n",
      "Error rate is 0.17413764372604565\n",
      "Equal opportunity difference is 0.19239262278126779\n"
     ]
    }
   ],
   "source": [
    "#Huangrui add\n",
    "EPS = 1e-8\n",
    "Y_hat = sigmoid(test_logits)>0.5\n",
    "A = db[\"attr_test\"]\n",
    "Y = db[\"y_test\"]\n",
    "TP = np.multiply(Y, Y_hat)\n",
    "mask0 = np.multiply(Y,1-A)\n",
    "mask1 = np.multiply(Y,A)\n",
    "TP0 = np.multiply(TP, mask0)\n",
    "TP1 = np.multiply(TP, mask1)\n",
    "tpr0 = np.sum(TP0) / (np.sum(mask0) + EPS)\n",
    "tpr1 = np.sum(TP1) / (np.sum(mask1) + EPS)\n",
    "print(tpr0)\n",
    "print(tpr1)\n",
    "#get the error rate of the test set\n",
    "error_rate = np.mean(Y_hat != Y)\n",
    "print(\"Error rate is {}\".format(error_rate))\n",
    "print(\"Equal opportunity difference is {}\".format(abs(tpr0-tpr1)))"
   ]
  },
  {
   "cell_type": "code",
   "execution_count": 34,
   "metadata": {
    "scrolled": true
   },
   "outputs": [
    {
     "name": "stdout",
     "output_type": "stream",
     "text": [
      "Update!\n",
      "0 0 0.14198430101116077\n",
      "?\n",
      "1 0 0.11328410549803926\n",
      "?\n",
      "2 0 0.08607994050443839\n",
      "?\n",
      "3 0 0.06000432130907008\n",
      "?\n",
      "4 0 0.03474228326803237\n",
      "?\n",
      "5 0 0.010030484631006167\n",
      "?\n",
      "6 0 -0.014351192370249378\n",
      "6 1 0.5263505940259817\n",
      "?\n",
      "7 0 -0.014351192370249378\n",
      "7 1 0.5210152975433243\n",
      "?\n",
      "8 0 -0.014351192370249378\n",
      "8 1 0.5149760350486171\n",
      "?\n",
      "9 0 -0.014351192370249378\n",
      "9 1 0.5081353330926955\n",
      "?\n",
      "10 0 -0.014351192370249378\n",
      "10 1 0.5003831318298267\n",
      "?\n",
      "11 0 -0.014351192370249378\n",
      "11 1 0.4915958064645317\n",
      "?\n",
      "12 0 -0.014351192370249378\n",
      "12 1 0.4816360700482308\n",
      "?\n",
      "13 0 -0.014351192370249378\n",
      "13 1 0.4703499569259298\n",
      "?\n",
      "14 0 -0.014351192370249378\n",
      "14 1 0.45757128737749636\n",
      "?\n",
      "15 0 -0.014351192370249378\n",
      "15 1 0.4431146411901337\n",
      "?\n",
      "16 0 -0.014351192370249378\n",
      "16 1 0.4267784259108783\n",
      "?\n",
      "17 0 -0.014351192370249378\n",
      "17 1 0.4083520623831218\n",
      "?\n",
      "18 0 -0.014351192370249378\n",
      "18 1 0.3876269815764683\n",
      "?\n",
      "19 0 -0.014351192370249378\n",
      "19 1 0.3643871951968272\n",
      "?\n",
      "20 0 -0.014351192370249378\n",
      "20 1 0.33840418153765794\n",
      "?\n",
      "21 0 -0.014351192370249378\n",
      "21 1 0.30942117345065207\n",
      "?\n",
      "22 0 -0.014351192370249378\n",
      "22 1 0.2771860843610926\n",
      "?\n",
      "23 0 -0.014351192370249378\n",
      "23 1 0.24145947243455068\n",
      "?\n",
      "24 0 -0.014351192370249378\n",
      "24 1 0.20185592766318375\n",
      "?\n",
      "25 0 -0.014351192370249378\n",
      "25 1 0.1579158689933138\n",
      "?\n",
      "26 0 -0.014351192370249378\n",
      "26 1 0.10899945301574944\n",
      "?\n",
      "27 0 -0.014351192370249378\n",
      "27 1 0.054053788841434545\n",
      "?\n",
      "28 0 -0.014351192370249378\n",
      "28 1 -0.008728016743862609\n",
      "28 2 -0.009947485122679714\n"
     ]
    }
   ],
   "source": [
    "best_epoch, best_acc = -1,0\n",
    "# get the validation index\n",
    "\n",
    "valid_index = np.arange(len(x_val))\n",
    "#use budget % of the validation set for training\n",
    "valid_index =random.sample(list(valid_index), int(len(valid_index) * 0.1))\n",
    "\n",
    "\n",
    "# get the idxs1 and idxs2\n",
    "idxs1 = random.sample(list(valid_index), int(len(valid_index) * 0.7))\n",
    "idxs2 = list(set(valid_index) - set(idxs1))\n",
    "\n",
    "# save the coefficients\n",
    "h_models = []\n",
    "losses = []\n",
    "for t in range(max_T):\n",
    "    # probs_heldout = sess_run(tf.nn.sigmoid(logits), x_val[idxs2], latent_val[idxs2], sess)\n",
    "    # logits updates every iteration, thus the probs_heldout is different\n",
    "    probs_heldout = sigmoid(logits)[idxs2]\n",
    "    #heldout_loss = np.mean(-y_val[idxs2] * np.log(probs_heldout + 1e-20) - (1-y_val[idxs2]) * np.log(1-probs_heldout + 1e-20))\n",
    "    heldout_acc =  np.mean((probs_heldout>0.5)==y_val[idxs2])\n",
    "    # probs = sess_run(tf.nn.sigmoid(logits), x_val, latent_val ,sess)\n",
    "    # 应为logits是更新的，所以probs也是更新的\n",
    "    probs = sigmoid(logits)\n",
    "    val_loss = np.mean(-y_val * np.log(probs + 1e-20) - (1 - y_val) * np.log(1 - probs + 1e-20))\n",
    "    val_acc = np.mean((probs > 0.5) == y_val)\n",
    "    losses.append(val_loss)\n",
    "    if heldout_acc > best_acc:\n",
    "        print(\"Update!\")\n",
    "        best_epoch = t\n",
    "        best_acc = heldout_acc\n",
    "        best_logits_valid = logits\n",
    "        predicted_test_logits = test_logits\n",
    "    delta = res(probs,y_val)\n",
    "    residual = probs - y_val\n",
    "    for i in range(3):\n",
    "        # define the control\n",
    "        control_idx1 = db[\"ydm_train\"][idxs1]<0.5\n",
    "        control_idx2 = db[\"ydm_train\"][idxs2]<0.5\n",
    "        if i==0: \n",
    "            # X_1, f1(x) > 1/2\n",
    "            temp_s = control_idx1\n",
    "            temp_s_heldout = control_idx2\n",
    "        elif i ==1:\n",
    "            # X_0, f0(x) ≤ 1/2\n",
    "            temp_s = 1- control_idx1\n",
    "            temp_s_heldout = 1- control_idx2\n",
    "        else:\n",
    "            # X\n",
    "            temp_s = np.ones_like(control_idx1)\n",
    "            temp_s_heldout = np.ones_like(control_idx2)\n",
    "        # get the fresh sample for training\n",
    "        samples1 = np.where(temp_s == 1)[0]\n",
    "        samples2 = np.where(temp_s_heldout == 1)[0]\n",
    "        # train the regression model \n",
    "        clf = Ridge(alpha=1) # 如果我不变呢\n",
    "        # clf = DecisionTreeRegressor(max_depth = 5)\n",
    "        # 如果要把protected feature 去掉 可以考率生成一个新的x_train、valid\n",
    "        # 我没有去拟合他的 res 那个function，我直接拟合已知的residual （f(x) - y）\n",
    "        clf.fit(x_val[idxs1][samples1],delta[idxs1][samples1])\n",
    "        clf_prediction = clf.predict(x_val[idxs2][samples2])\n",
    "        corr = np.mean(clf_prediction * residual[idxs2][samples2])\n",
    "        print(t, i, corr)\n",
    "        # a = np.matmul(x_val,np.expand_dims(clf.coef_,-1))[:,0]+clf.intercept_\n",
    "        # b = clf.predict(x_val)\n",
    "        if corr > thresh:\n",
    "            h_models.append(clf)\n",
    "            # h = (tf.matmul(latent_ph, tf.constant(np.expand_dims(clf.coef_,-1),\n",
    "            #                                         dtype=tf.float32))[:,0] + clf.intercept_)\n",
    "            #here, we update h\n",
    "            h = np.matmul(x_val,np.expand_dims(clf.coef_,-1))[:,0]+clf.intercept_\n",
    "            h_test = np.matmul(x_test,np.expand_dims(clf.coef_,-1))[:,0]+clf.intercept_\n",
    "            # print(h.shape)\n",
    "            # print(h)\n",
    "            # when update the logits we only update the logits of current set\n",
    "            # logits -= .1 * h * s\n",
    "            control = db[\"ydm_train\"]<0.5\n",
    "            #here ydm_test is the f_0(x_test) \n",
    "            control_test = db[\"ydm_test\"]<0.5\n",
    "            if i == 0:\n",
    "                # update logits of X_1\n",
    "                s = control\n",
    "                s_test = control_test\n",
    "            elif i == 1:\n",
    "                # update logits of X_0\n",
    "                s = 1 - control\n",
    "                s_test = 1 - control_test\n",
    "            else:\n",
    "                # update all logits (This might never used)\n",
    "                s = np.ones_like(control)\n",
    "                s_test = np.ones_like(control_test)\n",
    "            logits -= .1 * h * s\n",
    "            print(\"?\")\n",
    "            # update the test logits accordingly\n",
    "            test_logits -= .1 * h_test * s_test\n",
    "            break\n",
    "    # 如果 i == 2 说明没有在X_0,X_1找到合适的h，那么就不更新了\n",
    "    if i==2:\n",
    "        break"
   ]
  },
  {
   "cell_type": "code",
   "execution_count": 35,
   "metadata": {},
   "outputs": [
    {
     "data": {
      "text/plain": [
       "[<matplotlib.lines.Line2D at 0x221cef67640>]"
      ]
     },
     "execution_count": 35,
     "metadata": {},
     "output_type": "execute_result"
    },
    {
     "data": {
      "image/png": "[encoded data removed]",
      "text/plain": [
       "<Figure size 640x480 with 1 Axes>"
      ]
     },
     "metadata": {},
     "output_type": "display_data"
    }
   ],
   "source": [
    "plt.plot(losses)"
   ]
  },
  {
   "cell_type": "code",
   "execution_count": 36,
   "metadata": {},
   "outputs": [
    {
     "name": "stdout",
     "output_type": "stream",
     "text": [
      "Best epoch: 0\n",
      "Best acc for heldout data during training: 0.8402777777777778\n",
      "Valid set whole acc: 0.8347847826992791\n",
      "Previous acc: 0.8347847826992791\n",
      "Test set acc: 0.7577070488251958\n",
      "Previous acc: 0.8258623562739543\n"
     ]
    }
   ],
   "source": [
    "#检验结果\n",
    "probs_val = sigmoid(best_logits_valid)\n",
    "print(\"Best epoch: {}\".format(best_epoch))\n",
    "print(\"Best acc for heldout data during training: {}\".format(best_acc))\n",
    "print(\"Valid set whole acc: {}\".format(np.mean((probs_val>0.5)==y_val)))\n",
    "print(\"Previous acc: {}\".format(np.mean((db[\"ydm_train\"]>0.5)==y_val)))\n",
    "print(\"Test set acc: {}\".format(np.mean((sigmoid(predicted_test_logits)>0.5)==db[\"y_test\"])))\n",
    "print(\"Previous acc: {}\".format(np.mean((db[\"ydm_test\"]>0.5)==db[\"y_test\"])))"
   ]
  },
  {
   "cell_type": "markdown",
   "metadata": {},
   "source": [
    "# Now, do the fairness comparison"
   ]
  },
  {
   "cell_type": "code",
   "execution_count": 37,
   "metadata": {},
   "outputs": [
    {
     "name": "stdout",
     "output_type": "stream",
     "text": [
      "0.0032760032759764457\n",
      "0.0\n",
      "Error rate is 0.2422929511748042\n",
      "Equal opportunity difference is 0.0032760032759764457\n"
     ]
    }
   ],
   "source": [
    "#Huangrui add\n",
    "EPS = 1e-8\n",
    "Y_hat = sigmoid(predicted_test_logits)>0.5\n",
    "A = db[\"attr_test\"]\n",
    "Y = db[\"y_test\"]\n",
    "TP = np.multiply(Y, Y_hat)\n",
    "mask0 = np.multiply(Y,1-A)\n",
    "mask1 = np.multiply(Y,A)\n",
    "TP0 = np.multiply(TP, mask0)\n",
    "TP1 = np.multiply(TP, mask1)\n",
    "tpr0 = np.sum(TP0) / (np.sum(mask0) + EPS)\n",
    "tpr1 = np.sum(TP1) / (np.sum(mask1) + EPS)\n",
    "print(tpr0)\n",
    "print(tpr1)\n",
    "#get the error rate of the test set\n",
    "error_rate = np.mean(Y_hat != Y)\n",
    "print(\"Error rate is {}\".format(error_rate))\n",
    "print(\"Equal opportunity difference is {}\".format(abs(tpr0-tpr1)))"
   ]
  }
 ],
 "metadata": {
  "kernelspec": {
   "display_name": "Python 3",
   "language": "python",
   "name": "python3"
  },
  "language_info": {
   "codemirror_mode": {
    "name": "ipython",
    "version": 3
   },
   "file_extension": ".py",
   "mimetype": "text/x-python",
   "name": "python",
   "nbconvert_exporter": "python",
   "pygments_lexer": "ipython3",
   "version": "3.9.13"
  }
 },
 "nbformat": 4,
 "nbformat_minor": 2
}
