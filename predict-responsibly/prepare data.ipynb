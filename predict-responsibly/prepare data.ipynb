{
 "cells": [
  {
   "cell_type": "markdown",
   "metadata": {},
   "source": [
    "# About this notebook\n",
    "\n",
    "This notebook extract the initial biased model (human/decision-maker), and get the predition ($Y_{DM}$) for all data.\n",
    "\n",
    "For the four dataset, we first get the training set (by concatenate the train/valid set) and test set.\n",
    "\n",
    "Then, we split the training set into two parts (train/valid) with 80% train set and 20% test set as the authors mentioned in Appendix C page 17 of \"Predict Responsibly: Improving Fairness and Accuracy by\n",
    "Learning to Defer\"\n",
    "\n",
    "We extract the \"attr\" which is the protected column but does not drop them from the X.\n",
    "\n",
    "Even though we have the flag [\"use_attr\": false] in model_name.json file, since our X includes the protected feature, we in fact use the \"attr\". The reason for us to set the flag as false and keep the data is that we want the X to be the same for all the models.\n",
    "\n",
    "We then save new data as npz file as the required data format of predict-responsibly.\n",
    "\n"
   ]
  },
  {
   "cell_type": "code",
   "execution_count": 1,
   "metadata": {},
   "outputs": [],
   "source": [
    "import pandas as pd\n",
    "import numpy as np\n",
    "import pickle\n",
    "from random import sample,random"
   ]
  },
  {
   "cell_type": "markdown",
   "metadata": {},
   "source": [
    "# Adult Sex"
   ]
  },
  {
   "cell_type": "code",
   "execution_count": 3,
   "metadata": {},
   "outputs": [
    {
     "name": "stderr",
     "output_type": "stream",
     "text": [
      "C:\\edb\\languagepack\\v2\\Python-3.9\\lib\\site-packages\\sklearn\\base.py:348: InconsistentVersionWarning: Trying to unpickle estimator Lasso from version 0.22.1 when using version 1.3.2. This might lead to breaking code or invalid results. Use at your own risk. For more info please refer to:\n",
      "https://scikit-learn.org/stable/model_persistence.html#security-maintainability-limitations\n",
      "  warnings.warn(\n",
      "C:\\edb\\languagepack\\v2\\Python-3.9\\lib\\site-packages\\sklearn\\base.py:458: UserWarning: X has feature names, but Lasso was fitted without feature names\n",
      "  warnings.warn(\n",
      "C:\\edb\\languagepack\\v2\\Python-3.9\\lib\\site-packages\\sklearn\\base.py:458: UserWarning: X has feature names, but Lasso was fitted without feature names\n",
      "  warnings.warn(\n",
      "C:\\edb\\languagepack\\v2\\Python-3.9\\lib\\site-packages\\sklearn\\base.py:458: UserWarning: X has feature names, but Lasso was fitted without feature names\n",
      "  warnings.warn(\n",
      "C:\\edb\\languagepack\\v2\\Python-3.9\\lib\\site-packages\\sklearn\\base.py:348: InconsistentVersionWarning: Trying to unpickle estimator Lasso from version 0.22.1 when using version 1.3.2. This might lead to breaking code or invalid results. Use at your own risk. For more info please refer to:\n",
      "https://scikit-learn.org/stable/model_persistence.html#security-maintainability-limitations\n",
      "  warnings.warn(\n",
      "C:\\edb\\languagepack\\v2\\Python-3.9\\lib\\site-packages\\sklearn\\base.py:458: UserWarning: X has feature names, but Lasso was fitted without feature names\n",
      "  warnings.warn(\n",
      "C:\\edb\\languagepack\\v2\\Python-3.9\\lib\\site-packages\\sklearn\\base.py:458: UserWarning: X has feature names, but Lasso was fitted without feature names\n",
      "  warnings.warn(\n",
      "C:\\edb\\languagepack\\v2\\Python-3.9\\lib\\site-packages\\sklearn\\base.py:458: UserWarning: X has feature names, but Lasso was fitted without feature names\n",
      "  warnings.warn(\n",
      "C:\\edb\\languagepack\\v2\\Python-3.9\\lib\\site-packages\\sklearn\\base.py:348: InconsistentVersionWarning: Trying to unpickle estimator Lasso from version 0.22.1 when using version 1.3.2. This might lead to breaking code or invalid results. Use at your own risk. For more info please refer to:\n",
      "https://scikit-learn.org/stable/model_persistence.html#security-maintainability-limitations\n",
      "  warnings.warn(\n",
      "C:\\edb\\languagepack\\v2\\Python-3.9\\lib\\site-packages\\sklearn\\base.py:458: UserWarning: X has feature names, but Lasso was fitted without feature names\n",
      "  warnings.warn(\n",
      "C:\\edb\\languagepack\\v2\\Python-3.9\\lib\\site-packages\\sklearn\\base.py:458: UserWarning: X has feature names, but Lasso was fitted without feature names\n",
      "  warnings.warn(\n",
      "C:\\edb\\languagepack\\v2\\Python-3.9\\lib\\site-packages\\sklearn\\base.py:458: UserWarning: X has feature names, but Lasso was fitted without feature names\n",
      "  warnings.warn(\n",
      "C:\\edb\\languagepack\\v2\\Python-3.9\\lib\\site-packages\\sklearn\\base.py:348: InconsistentVersionWarning: Trying to unpickle estimator Lasso from version 0.22.1 when using version 1.3.2. This might lead to breaking code or invalid results. Use at your own risk. For more info please refer to:\n",
      "https://scikit-learn.org/stable/model_persistence.html#security-maintainability-limitations\n",
      "  warnings.warn(\n",
      "C:\\edb\\languagepack\\v2\\Python-3.9\\lib\\site-packages\\sklearn\\base.py:458: UserWarning: X has feature names, but Lasso was fitted without feature names\n",
      "  warnings.warn(\n",
      "C:\\edb\\languagepack\\v2\\Python-3.9\\lib\\site-packages\\sklearn\\base.py:458: UserWarning: X has feature names, but Lasso was fitted without feature names\n",
      "  warnings.warn(\n",
      "C:\\edb\\languagepack\\v2\\Python-3.9\\lib\\site-packages\\sklearn\\base.py:458: UserWarning: X has feature names, but Lasso was fitted without feature names\n",
      "  warnings.warn(\n",
      "C:\\edb\\languagepack\\v2\\Python-3.9\\lib\\site-packages\\sklearn\\base.py:348: InconsistentVersionWarning: Trying to unpickle estimator Lasso from version 0.22.1 when using version 1.3.2. This might lead to breaking code or invalid results. Use at your own risk. For more info please refer to:\n",
      "https://scikit-learn.org/stable/model_persistence.html#security-maintainability-limitations\n",
      "  warnings.warn(\n",
      "C:\\edb\\languagepack\\v2\\Python-3.9\\lib\\site-packages\\sklearn\\base.py:458: UserWarning: X has feature names, but Lasso was fitted without feature names\n",
      "  warnings.warn(\n",
      "C:\\edb\\languagepack\\v2\\Python-3.9\\lib\\site-packages\\sklearn\\base.py:458: UserWarning: X has feature names, but Lasso was fitted without feature names\n",
      "  warnings.warn(\n",
      "C:\\edb\\languagepack\\v2\\Python-3.9\\lib\\site-packages\\sklearn\\base.py:458: UserWarning: X has feature names, but Lasso was fitted without feature names\n",
      "  warnings.warn(\n"
     ]
    }
   ],
   "source": [
    "for K in range(1,6):\n",
    "    db = pickle.load(open('experiment/adult{}_sex.pkl'.format(K),'rb')) \n",
    "    Ytrain = db['Ytrain'] \n",
    "    Yval = db['Yval']\n",
    "    Ytest = db['Ytest'] \n",
    "    clf = db['clf'] \n",
    "    Ybtrain = db['Ybtrain'] # this is the predicted label of the biased decision-maker on training data\n",
    "    Ybtest = db['Ybtest']\n",
    "    Ybval = db['Ybval']\n",
    "    Xtrain = db['Xtrain'] \n",
    "    Xtest = db['Xtest'] \n",
    "    Xval = db['Xval']\n",
    "    sigmoid = lambda x: 1 / (1 + np.exp(2-4*x))\n",
    "    ydm_train = sigmoid(clf.predict(Xtrain))\n",
    "    ydm_test = sigmoid(clf.predict(Xtest))\n",
    "    ydm_val = sigmoid(clf.predict(Xval))\n",
    "    new_data = {}\n",
    "    train_inds = np.random.choice(range(len(Ytrain)),size=int(len(Ytrain)*0.8),replace=False)\n",
    "    valid_inds = np.array([i for i in range(len(Ytrain)) if i not in train_inds])\n",
    "    #We cannot give IDK the same train,valid inds because IDK performs super poorly on the validation set\n",
    "    new_data['y_train'] = np.concatenate([Ytrain,Yval]).reshape(-1,1)\n",
    "    new_data['y_test'] = Ytest.reshape(-1,1)\n",
    "    new_data['ydm_train'] = np.concatenate([ydm_train,ydm_val]).reshape(-1,1)\n",
    "    new_data['ydm_test'] = ydm_test.reshape(-1,1)\n",
    "    new_data[\"train_inds\"] = train_inds\n",
    "    new_data[\"valid_inds\"] = valid_inds\n",
    "    attr_train = np.concatenate([Xtrain[\"sex_Female\"],Xval[\"sex_Female\"]]).reshape(-1,1)\n",
    "    attr_test = np.array(Xtest[\"sex_Female\"]).reshape(-1,1)\n",
    "    xtrain = Xtrain.to_numpy()\n",
    "    xval = Xval.to_numpy()\n",
    "    xtest = Xtest.to_numpy()\n",
    "    new_data[\"x_train\"] = np.concatenate([xtrain,xtest])\n",
    "    new_data[\"x_test\"] = xtest\n",
    "    new_data[\"attr_train\"] = np.concatenate([attr_train,attr_test])\n",
    "    new_data[\"attr_test\"] = attr_test\n",
    "    #save new data as npz file\n",
    "    np.savez(\"data/adult/adult{}_sex.npz\".format(K),**new_data)"
   ]
  },
  {
   "cell_type": "markdown",
   "metadata": {},
   "source": [
    "# COMPASS SEX"
   ]
  },
  {
   "cell_type": "markdown",
   "metadata": {},
   "source": [
    "recidivism4_sex_prob_query"
   ]
  },
  {
   "cell_type": "code",
   "execution_count": 3,
   "metadata": {},
   "outputs": [
    {
     "name": "stderr",
     "output_type": "stream",
     "text": [
      "C:\\edb\\languagepack\\v2\\Python-3.9\\lib\\site-packages\\sklearn\\base.py:348: InconsistentVersionWarning: Trying to unpickle estimator Lasso from version 0.22.1 when using version 1.3.2. This might lead to breaking code or invalid results. Use at your own risk. For more info please refer to:\n",
      "https://scikit-learn.org/stable/model_persistence.html#security-maintainability-limitations\n",
      "  warnings.warn(\n",
      "C:\\edb\\languagepack\\v2\\Python-3.9\\lib\\site-packages\\sklearn\\base.py:458: UserWarning: X has feature names, but Lasso was fitted without feature names\n",
      "  warnings.warn(\n",
      "C:\\edb\\languagepack\\v2\\Python-3.9\\lib\\site-packages\\sklearn\\base.py:458: UserWarning: X has feature names, but Lasso was fitted without feature names\n",
      "  warnings.warn(\n",
      "C:\\edb\\languagepack\\v2\\Python-3.9\\lib\\site-packages\\sklearn\\base.py:458: UserWarning: X has feature names, but Lasso was fitted without feature names\n",
      "  warnings.warn(\n",
      "C:\\edb\\languagepack\\v2\\Python-3.9\\lib\\site-packages\\sklearn\\base.py:348: InconsistentVersionWarning: Trying to unpickle estimator Lasso from version 0.22.1 when using version 1.3.2. This might lead to breaking code or invalid results. Use at your own risk. For more info please refer to:\n",
      "https://scikit-learn.org/stable/model_persistence.html#security-maintainability-limitations\n",
      "  warnings.warn(\n",
      "C:\\edb\\languagepack\\v2\\Python-3.9\\lib\\site-packages\\sklearn\\base.py:458: UserWarning: X has feature names, but Lasso was fitted without feature names\n",
      "  warnings.warn(\n",
      "C:\\edb\\languagepack\\v2\\Python-3.9\\lib\\site-packages\\sklearn\\base.py:458: UserWarning: X has feature names, but Lasso was fitted without feature names\n",
      "  warnings.warn(\n",
      "C:\\edb\\languagepack\\v2\\Python-3.9\\lib\\site-packages\\sklearn\\base.py:458: UserWarning: X has feature names, but Lasso was fitted without feature names\n",
      "  warnings.warn(\n",
      "C:\\edb\\languagepack\\v2\\Python-3.9\\lib\\site-packages\\sklearn\\base.py:348: InconsistentVersionWarning: Trying to unpickle estimator Lasso from version 0.22.1 when using version 1.3.2. This might lead to breaking code or invalid results. Use at your own risk. For more info please refer to:\n",
      "https://scikit-learn.org/stable/model_persistence.html#security-maintainability-limitations\n",
      "  warnings.warn(\n",
      "C:\\edb\\languagepack\\v2\\Python-3.9\\lib\\site-packages\\sklearn\\base.py:458: UserWarning: X has feature names, but Lasso was fitted without feature names\n",
      "  warnings.warn(\n",
      "C:\\edb\\languagepack\\v2\\Python-3.9\\lib\\site-packages\\sklearn\\base.py:458: UserWarning: X has feature names, but Lasso was fitted without feature names\n",
      "  warnings.warn(\n",
      "C:\\edb\\languagepack\\v2\\Python-3.9\\lib\\site-packages\\sklearn\\base.py:458: UserWarning: X has feature names, but Lasso was fitted without feature names\n",
      "  warnings.warn(\n",
      "C:\\edb\\languagepack\\v2\\Python-3.9\\lib\\site-packages\\sklearn\\base.py:348: InconsistentVersionWarning: Trying to unpickle estimator Lasso from version 0.22.1 when using version 1.3.2. This might lead to breaking code or invalid results. Use at your own risk. For more info please refer to:\n",
      "https://scikit-learn.org/stable/model_persistence.html#security-maintainability-limitations\n",
      "  warnings.warn(\n",
      "C:\\edb\\languagepack\\v2\\Python-3.9\\lib\\site-packages\\sklearn\\base.py:458: UserWarning: X has feature names, but Lasso was fitted without feature names\n",
      "  warnings.warn(\n",
      "C:\\edb\\languagepack\\v2\\Python-3.9\\lib\\site-packages\\sklearn\\base.py:458: UserWarning: X has feature names, but Lasso was fitted without feature names\n",
      "  warnings.warn(\n",
      "C:\\edb\\languagepack\\v2\\Python-3.9\\lib\\site-packages\\sklearn\\base.py:458: UserWarning: X has feature names, but Lasso was fitted without feature names\n",
      "  warnings.warn(\n",
      "C:\\edb\\languagepack\\v2\\Python-3.9\\lib\\site-packages\\sklearn\\base.py:348: InconsistentVersionWarning: Trying to unpickle estimator Lasso from version 0.22.1 when using version 1.3.2. This might lead to breaking code or invalid results. Use at your own risk. For more info please refer to:\n",
      "https://scikit-learn.org/stable/model_persistence.html#security-maintainability-limitations\n",
      "  warnings.warn(\n",
      "C:\\edb\\languagepack\\v2\\Python-3.9\\lib\\site-packages\\sklearn\\base.py:458: UserWarning: X has feature names, but Lasso was fitted without feature names\n",
      "  warnings.warn(\n",
      "C:\\edb\\languagepack\\v2\\Python-3.9\\lib\\site-packages\\sklearn\\base.py:458: UserWarning: X has feature names, but Lasso was fitted without feature names\n",
      "  warnings.warn(\n",
      "C:\\edb\\languagepack\\v2\\Python-3.9\\lib\\site-packages\\sklearn\\base.py:458: UserWarning: X has feature names, but Lasso was fitted without feature names\n",
      "  warnings.warn(\n"
     ]
    }
   ],
   "source": [
    "for K in range(1,6):\n",
    "    db = pickle.load(open('experiments/recidivism{}_sex.pkl'.format(K),'rb')) \n",
    "    #flip labels\n",
    "    Ytrain = 1 - db['Ytrain'] \n",
    "    Yval = 1 - db['Yval']\n",
    "    Ytest = 1 - db['Ytest'] \n",
    "    clf = db['clf'] \n",
    "    Ybtrain = db['Ybtrain'] # this is the predicted label of the biased decision-maker on training data\n",
    "    Ybtest = db['Ybtest']\n",
    "    Ybval = db['Ybval']\n",
    "    Xtrain = db['Xtrain'] \n",
    "    Xtest = db['Xtest'] \n",
    "    Xval = db['Xval']\n",
    "    sigmoid = lambda x: 1 / (1 + np.exp(2-4*x))\n",
    "    #flip predictions\n",
    "    ydm_train = 1 - sigmoid(clf.predict(Xtrain))\n",
    "    ydm_test = 1 - sigmoid(clf.predict(Xtest))\n",
    "    ydm_val = 1 - sigmoid(clf.predict(Xval))\n",
    "    new_data = {}\n",
    "    train_inds = np.random.choice(range(len(Ytrain)),size=int(len(Ytrain)*0.8),replace=False)\n",
    "    valid_inds = np.array([i for i in range(len(Ytrain)) if i not in train_inds])\n",
    "    #We cannot give IDK the same train,valid inds because IDK performs super poorly on the validation set\n",
    "    new_data['y_train'] = np.concatenate([Ytrain,Yval]).reshape(-1,1)\n",
    "    new_data['y_test'] = Ytest.reshape(-1,1)\n",
    "    new_data['ydm_train'] = np.concatenate([ydm_train,ydm_val]).reshape(-1,1)\n",
    "    new_data['ydm_test'] = ydm_test.reshape(-1,1)\n",
    "    new_data[\"train_inds\"] = train_inds\n",
    "    new_data[\"valid_inds\"] = valid_inds\n",
    "    attr_train = np.concatenate([Xtrain[\"Probationerssex_Female\"],Xval[\"Probationerssex_Female\"]]).reshape(-1,1)\n",
    "    attr_test = np.array(Xtest[\"Probationerssex_Female\"]).reshape(-1,1)\n",
    "    xtrain = Xtrain.to_numpy()\n",
    "    xval = Xval.to_numpy()\n",
    "    xtest = Xtest.to_numpy()\n",
    "    new_data[\"x_train\"] = np.concatenate([xtrain,xtest])\n",
    "    new_data[\"x_test\"] = xtest\n",
    "    new_data[\"attr_train\"] = np.concatenate([attr_train,attr_test])\n",
    "    new_data[\"attr_test\"] = attr_test\n",
    "    #save new data as npz file\n",
    "    np.savez(\"data/compas/recidivism{}_sex.npz\".format(K),**new_data)"
   ]
  },
  {
   "cell_type": "markdown",
   "metadata": {},
   "source": [
    "# Zindi Sex"
   ]
  },
  {
   "cell_type": "code",
   "execution_count": 4,
   "metadata": {},
   "outputs": [
    {
     "name": "stderr",
     "output_type": "stream",
     "text": [
      "C:\\edb\\languagepack\\v2\\Python-3.9\\lib\\site-packages\\sklearn\\base.py:458: UserWarning: X has feature names, but Lasso was fitted without feature names\n",
      "  warnings.warn(\n",
      "C:\\edb\\languagepack\\v2\\Python-3.9\\lib\\site-packages\\sklearn\\base.py:458: UserWarning: X has feature names, but Lasso was fitted without feature names\n",
      "  warnings.warn(\n",
      "C:\\edb\\languagepack\\v2\\Python-3.9\\lib\\site-packages\\sklearn\\base.py:458: UserWarning: X has feature names, but Lasso was fitted without feature names\n",
      "  warnings.warn(\n",
      "C:\\edb\\languagepack\\v2\\Python-3.9\\lib\\site-packages\\sklearn\\base.py:458: UserWarning: X has feature names, but Lasso was fitted without feature names\n",
      "  warnings.warn(\n",
      "C:\\edb\\languagepack\\v2\\Python-3.9\\lib\\site-packages\\sklearn\\base.py:458: UserWarning: X has feature names, but Lasso was fitted without feature names\n",
      "  warnings.warn(\n",
      "C:\\edb\\languagepack\\v2\\Python-3.9\\lib\\site-packages\\sklearn\\base.py:458: UserWarning: X has feature names, but Lasso was fitted without feature names\n",
      "  warnings.warn(\n",
      "C:\\edb\\languagepack\\v2\\Python-3.9\\lib\\site-packages\\sklearn\\base.py:458: UserWarning: X has feature names, but Lasso was fitted without feature names\n",
      "  warnings.warn(\n",
      "C:\\edb\\languagepack\\v2\\Python-3.9\\lib\\site-packages\\sklearn\\base.py:458: UserWarning: X has feature names, but Lasso was fitted without feature names\n",
      "  warnings.warn(\n",
      "C:\\edb\\languagepack\\v2\\Python-3.9\\lib\\site-packages\\sklearn\\base.py:458: UserWarning: X has feature names, but Lasso was fitted without feature names\n",
      "  warnings.warn(\n",
      "C:\\edb\\languagepack\\v2\\Python-3.9\\lib\\site-packages\\sklearn\\base.py:458: UserWarning: X has feature names, but Lasso was fitted without feature names\n",
      "  warnings.warn(\n",
      "C:\\edb\\languagepack\\v2\\Python-3.9\\lib\\site-packages\\sklearn\\base.py:458: UserWarning: X has feature names, but Lasso was fitted without feature names\n",
      "  warnings.warn(\n",
      "C:\\edb\\languagepack\\v2\\Python-3.9\\lib\\site-packages\\sklearn\\base.py:458: UserWarning: X has feature names, but Lasso was fitted without feature names\n",
      "  warnings.warn(\n",
      "C:\\edb\\languagepack\\v2\\Python-3.9\\lib\\site-packages\\sklearn\\base.py:458: UserWarning: X has feature names, but Lasso was fitted without feature names\n",
      "  warnings.warn(\n",
      "C:\\edb\\languagepack\\v2\\Python-3.9\\lib\\site-packages\\sklearn\\base.py:458: UserWarning: X has feature names, but Lasso was fitted without feature names\n",
      "  warnings.warn(\n",
      "C:\\edb\\languagepack\\v2\\Python-3.9\\lib\\site-packages\\sklearn\\base.py:458: UserWarning: X has feature names, but Lasso was fitted without feature names\n",
      "  warnings.warn(\n"
     ]
    }
   ],
   "source": [
    "for K in range(1,6):\n",
    "    db = pickle.load(open('experiments/zindi{}_sex.pkl'.format(K),'rb')) \n",
    "    Ytrain = db['Ytrain'] \n",
    "    Yval = db['Yval']\n",
    "    Ytest = db['Ytest'] \n",
    "    clf = db['clf'] \n",
    "    Ybtrain = db['Ybtrain'] # this is the predicted label of the biased decision-maker on training data\n",
    "    Ybtest = db['Ybtest']\n",
    "    Ybval = db['Ybval']\n",
    "    Xtrain = db['Xtrain'] \n",
    "    Xtest = db['Xtest'] \n",
    "    Xval = db['Xval']\n",
    "    sigmoid = lambda x: 1 / (1 + np.exp(2-4*x))\n",
    "    ydm_train = sigmoid(clf.predict(Xtrain))\n",
    "    ydm_test = sigmoid(clf.predict(Xtest))\n",
    "    ydm_val = sigmoid(clf.predict(Xval))\n",
    "    new_data = {}\n",
    "    train_inds = np.random.choice(range(len(Ytrain)),size=int(len(Ytrain)*0.8),replace=False)\n",
    "    valid_inds = np.array([i for i in range(len(Ytrain)) if i not in train_inds])\n",
    "    #We cannot give IDK the same train,valid inds because IDK performs super poorly on the validation set\n",
    "    new_data['y_train'] = np.concatenate([Ytrain,Yval]).reshape(-1,1)\n",
    "    new_data['y_test'] = Ytest.reshape(-1,1)\n",
    "    new_data['ydm_train'] = np.concatenate([ydm_train,ydm_val]).reshape(-1,1)\n",
    "    new_data['ydm_test'] = ydm_test.reshape(-1,1)\n",
    "    new_data[\"train_inds\"] = train_inds\n",
    "    new_data[\"valid_inds\"] = valid_inds\n",
    "    attr_train = np.concatenate([Xtrain[\"sex\"],Xval[\"sex\"]]).reshape(-1,1)\n",
    "    attr_test = np.array(Xtest[\"sex\"]).reshape(-1,1)\n",
    "    xtrain = Xtrain.to_numpy()\n",
    "    xval = Xval.to_numpy()\n",
    "    xtest = Xtest.to_numpy()\n",
    "    new_data[\"x_train\"] = np.concatenate([xtrain,xtest])\n",
    "    new_data[\"x_test\"] = xtest\n",
    "    new_data[\"attr_train\"] = np.concatenate([attr_train,attr_test])\n",
    "    new_data[\"attr_test\"] = attr_test\n",
    "    #save new data as npz file\n",
    "    np.savez(\"data/zindi/zindi{}_sex.npz\".format(K),**new_data)"
   ]
  },
  {
   "cell_type": "code",
   "execution_count": 5,
   "metadata": {},
   "outputs": [
    {
     "data": {
      "text/plain": [
       "(15055, 47)"
      ]
     },
     "execution_count": 5,
     "metadata": {},
     "output_type": "execute_result"
    }
   ],
   "source": [
    "Xtrain.shape"
   ]
  },
  {
   "cell_type": "markdown",
   "metadata": {},
   "source": [
    "# Bank Age"
   ]
  },
  {
   "cell_type": "code",
   "execution_count": 5,
   "metadata": {},
   "outputs": [
    {
     "name": "stderr",
     "output_type": "stream",
     "text": [
      "C:\\edb\\languagepack\\v2\\Python-3.9\\lib\\site-packages\\sklearn\\base.py:458: UserWarning: X has feature names, but Lasso was fitted without feature names\n",
      "  warnings.warn(\n",
      "C:\\edb\\languagepack\\v2\\Python-3.9\\lib\\site-packages\\sklearn\\base.py:458: UserWarning: X has feature names, but Lasso was fitted without feature names\n",
      "  warnings.warn(\n",
      "C:\\edb\\languagepack\\v2\\Python-3.9\\lib\\site-packages\\sklearn\\base.py:458: UserWarning: X has feature names, but Lasso was fitted without feature names\n",
      "  warnings.warn(\n",
      "C:\\edb\\languagepack\\v2\\Python-3.9\\lib\\site-packages\\sklearn\\base.py:458: UserWarning: X has feature names, but Lasso was fitted without feature names\n",
      "  warnings.warn(\n",
      "C:\\edb\\languagepack\\v2\\Python-3.9\\lib\\site-packages\\sklearn\\base.py:458: UserWarning: X has feature names, but Lasso was fitted without feature names\n",
      "  warnings.warn(\n",
      "C:\\edb\\languagepack\\v2\\Python-3.9\\lib\\site-packages\\sklearn\\base.py:458: UserWarning: X has feature names, but Lasso was fitted without feature names\n",
      "  warnings.warn(\n",
      "C:\\edb\\languagepack\\v2\\Python-3.9\\lib\\site-packages\\sklearn\\base.py:458: UserWarning: X has feature names, but Lasso was fitted without feature names\n",
      "  warnings.warn(\n",
      "C:\\edb\\languagepack\\v2\\Python-3.9\\lib\\site-packages\\sklearn\\base.py:458: UserWarning: X has feature names, but Lasso was fitted without feature names\n",
      "  warnings.warn(\n",
      "C:\\edb\\languagepack\\v2\\Python-3.9\\lib\\site-packages\\sklearn\\base.py:458: UserWarning: X has feature names, but Lasso was fitted without feature names\n",
      "  warnings.warn(\n",
      "C:\\edb\\languagepack\\v2\\Python-3.9\\lib\\site-packages\\sklearn\\base.py:458: UserWarning: X has feature names, but Lasso was fitted without feature names\n",
      "  warnings.warn(\n",
      "C:\\edb\\languagepack\\v2\\Python-3.9\\lib\\site-packages\\sklearn\\base.py:458: UserWarning: X has feature names, but Lasso was fitted without feature names\n",
      "  warnings.warn(\n",
      "C:\\edb\\languagepack\\v2\\Python-3.9\\lib\\site-packages\\sklearn\\base.py:458: UserWarning: X has feature names, but Lasso was fitted without feature names\n",
      "  warnings.warn(\n",
      "C:\\edb\\languagepack\\v2\\Python-3.9\\lib\\site-packages\\sklearn\\base.py:458: UserWarning: X has feature names, but Lasso was fitted without feature names\n",
      "  warnings.warn(\n",
      "C:\\edb\\languagepack\\v2\\Python-3.9\\lib\\site-packages\\sklearn\\base.py:458: UserWarning: X has feature names, but Lasso was fitted without feature names\n",
      "  warnings.warn(\n",
      "C:\\edb\\languagepack\\v2\\Python-3.9\\lib\\site-packages\\sklearn\\base.py:458: UserWarning: X has feature names, but Lasso was fitted without feature names\n",
      "  warnings.warn(\n"
     ]
    }
   ],
   "source": [
    "for K in range(1,6):\n",
    "    db = pickle.load(open('experiments/bank{}_age.pkl'.format(K),'rb')) \n",
    "    Ytrain = db['Ytrain'] \n",
    "    Yval = db['Yval']\n",
    "    Ytest = db['Ytest'] \n",
    "    clf = db['clf'] \n",
    "    Ybtrain = db['Ybtrain'] # this is the predicted label of the biased decision-maker on training data\n",
    "    Ybtest = db['Ybtest']\n",
    "    Ybval = db['Ybval']\n",
    "    Xtrain = db['Xtrain'] \n",
    "    Xtest = db['Xtest'] \n",
    "    Xval = db['Xval']\n",
    "    sigmoid = lambda x: 1 / (1 + np.exp(2-4*x))\n",
    "    ydm_train = sigmoid(clf.predict(Xtrain))\n",
    "    ydm_test = sigmoid(clf.predict(Xtest))\n",
    "    ydm_val = sigmoid(clf.predict(Xval))\n",
    "    new_data = {}\n",
    "    train_inds = np.random.choice(range(len(Ytrain)),size=int(len(Ytrain)*0.8),replace=False)\n",
    "    valid_inds = np.array([i for i in range(len(Ytrain)) if i not in train_inds])\n",
    "    #We cannot give IDK the same train,valid inds because IDK performs super poorly on the validation set\n",
    "    new_data['y_train'] = np.concatenate([Ytrain,Yval]).reshape(-1,1)\n",
    "    new_data['y_test'] = Ytest.reshape(-1,1)\n",
    "    new_data['ydm_train'] = np.concatenate([ydm_train,ydm_val]).reshape(-1,1)\n",
    "    new_data['ydm_test'] = ydm_test.reshape(-1,1)\n",
    "    new_data[\"train_inds\"] = train_inds\n",
    "    new_data[\"valid_inds\"] = valid_inds\n",
    "    attr_train = np.concatenate([Xtrain[\"age\"],Xval[\"age\"]]).reshape(-1,1)\n",
    "    attr_test = np.array(Xtest[\"age\"]).reshape(-1,1)\n",
    "    xtrain = Xtrain.to_numpy()\n",
    "    xval = Xval.to_numpy()\n",
    "    xtest = Xtest.to_numpy()\n",
    "    new_data[\"x_train\"] = np.concatenate([xtrain,xtest])\n",
    "    new_data[\"x_test\"] = xtest\n",
    "    new_data[\"attr_train\"] = np.concatenate([attr_train,attr_test])\n",
    "    new_data[\"attr_test\"] = attr_test\n",
    "    #save new data as npz file\n",
    "    np.savez(\"data/bank/bank{}_age.npz\".format(K),**new_data)"
   ]
  },
  {
   "cell_type": "code",
   "execution_count": 4,
   "metadata": {},
   "outputs": [
    {
     "data": {
      "text/plain": [
       "(19512, 84)"
      ]
     },
     "execution_count": 4,
     "metadata": {},
     "output_type": "execute_result"
    }
   ],
   "source": [
    "Xtrain.shape"
   ]
  }
 ],
 "metadata": {
  "kernelspec": {
   "display_name": "Python 3",
   "language": "python",
   "name": "python3"
  },
  "language_info": {
   "codemirror_mode": {
    "name": "ipython",
    "version": 3
   },
   "file_extension": ".py",
   "mimetype": "text/x-python",
   "name": "python",
   "nbconvert_exporter": "python",
   "pygments_lexer": "ipython3",
   "version": "3.9.13"
  }
 },
 "nbformat": 4,
 "nbformat_minor": 2
}
