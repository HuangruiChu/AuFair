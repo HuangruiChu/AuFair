{
 "cells": [
  {
   "cell_type": "code",
   "execution_count": 1,
   "metadata": {},
   "outputs": [],
   "source": [
    "import numpy as np\n",
    "import pandas as pd\n",
    "import json"
   ]
  },
  {
   "cell_type": "markdown",
   "metadata": {},
   "source": [
    "# Adult"
   ]
  },
  {
   "cell_type": "markdown",
   "metadata": {},
   "source": [
    "## Sex"
   ]
  },
  {
   "cell_type": "code",
   "execution_count": 6,
   "metadata": {},
   "outputs": [],
   "source": [
    "adult_sex_info = {}\n",
    "adult_sex_info[\"dataset_name\"] = \"Adult\"\n",
    "adult_sex_info[\"proctected_feature\"] = \"sex\"\n",
    "adult_sex = pd.read_csv(\"adult_sex.csv\")\n",
    "biases = []\n",
    "errors = []\n",
    "for budget in [1]:\n",
    "    data = data = adult_sex[adult_sex[\"budget\"] == budget]\n",
    "    adult_sex_info[\"budget={}\".format(budget)] = {}\n",
    "    fcs = [ 0.1, 0.2, 0.3, 0.4, 0.5,1,1.5,2,3,4,5]\n",
    "    for fc in fcs:  \n",
    "        fcdata = data[data[\"fc\"] == fc]\n",
    "        error_mean = np.mean(fcdata[\"Error\"])\n",
    "        eod_mean = np.mean(fcdata[\"Equal opportunity difference\"])\n",
    "        error_std = np.std(fcdata[\"Error\"])\n",
    "        eod_std = np.std(fcdata[\"Equal opportunity difference\"])\n",
    "        biases.append(eod_mean)\n",
    "        errors.append(error_mean)\n",
    "        adult_sex_info[\"budget={}\".format(budget)][\"fc={}\".format(fc)] = {}\n",
    "        adult_sex_info[\"budget={}\".format(budget)][\"fc={}\".format(fc)][\"Error\"] = [error_mean, error_std]\n",
    "        adult_sex_info[\"budget={}\".format(budget)][\"fc={}\".format(fc)][\"EOD\"] = [eod_mean, eod_std]\n",
    "# #save adult_sex_info to a json file\n",
    "# with open(\"adult_sex_info.json\", \"w\") as outfile: \n",
    "#     json.dump(adult_sex_info, outfile)"
   ]
  },
  {
   "cell_type": "code",
   "execution_count": 17,
   "metadata": {},
   "outputs": [
    {
     "name": "stdout",
     "output_type": "stream",
     "text": [
      "[0.1908660910907247, 0.00831135356252052]\n",
      "[0.17283356860185833, 0.004748569177311663]\n",
      "[0.1630996240388784, 0.0036415530046901533]\n"
     ]
    }
   ],
   "source": [
    "print(adult_sex_info[\"budget=0.01\"][\"fc=0.1\"][\"Error\"])\n",
    "print(adult_sex_info[\"budget=0.1\"][\"fc=0.1\"][\"Error\"])\n",
    "print(adult_sex_info[\"budget=1\"][\"fc=0.1\"][\"Error\"])"
   ]
  },
  {
   "cell_type": "code",
   "execution_count": 18,
   "metadata": {},
   "outputs": [
    {
     "name": "stdout",
     "output_type": "stream",
     "text": [
      "[0.18906579666571652, 0.012140636255036174]\n",
      "[0.18256617423239369, 0.007191567239439025]\n",
      "[0.18116699086112006, 0.010377385990377484]\n"
     ]
    }
   ],
   "source": [
    "print(adult_sex_info[\"budget=0.01\"][\"fc=1\"][\"Error\"])\n",
    "print(adult_sex_info[\"budget=0.1\"][\"fc=1\"][\"Error\"])\n",
    "print(adult_sex_info[\"budget=1\"][\"fc=1\"][\"Error\"])"
   ]
  },
  {
   "cell_type": "code",
   "execution_count": 19,
   "metadata": {},
   "outputs": [
    {
     "name": "stdout",
     "output_type": "stream",
     "text": [
      "[0.27116541661387966, 0.17875157741537764]\n",
      "[0.08610685942718695, 0.03015548873642027]\n",
      "[0.08490293511262408, 0.0703336870251921]\n"
     ]
    }
   ],
   "source": [
    "print(adult_sex_info[\"budget=0.01\"][\"fc=1\"][\"EOD\"])\n",
    "print(adult_sex_info[\"budget=0.1\"][\"fc=1\"][\"EOD\"])\n",
    "print(adult_sex_info[\"budget=1\"][\"fc=1\"][\"EOD\"])"
   ]
  },
  {
   "cell_type": "code",
   "execution_count": 20,
   "metadata": {},
   "outputs": [
    {
     "name": "stdout",
     "output_type": "stream",
     "text": [
      "[0.18946612998794804, 0.00933168552666267]\n",
      "[0.17426696303056377, 0.005912984522406825]\n",
      "[0.1635663684870287, 0.0032262216992628144]\n"
     ]
    }
   ],
   "source": [
    "print(adult_sex_info[\"budget=0.01\"][\"fc=0.2\"][\"Error\"])\n",
    "print(adult_sex_info[\"budget=0.1\"][\"fc=0.2\"][\"Error\"])\n",
    "print(adult_sex_info[\"budget=1\"][\"fc=0.2\"][\"Error\"])"
   ]
  },
  {
   "cell_type": "code",
   "execution_count": 21,
   "metadata": {},
   "outputs": [
    {
     "name": "stdout",
     "output_type": "stream",
     "text": [
      "[0.194499207812015, 0.010464106248855614]\n",
      "[0.1745333852453718, 0.004433402845371255]\n",
      "[0.16436632961758318, 0.0039175574692159485]\n"
     ]
    }
   ],
   "source": [
    "print(adult_sex_info[\"budget=0.01\"][\"fc=0.3\"][\"Error\"])\n",
    "print(adult_sex_info[\"budget=0.1\"][\"fc=0.3\"][\"Error\"])\n",
    "print(adult_sex_info[\"budget=1\"][\"fc=0.3\"][\"Error\"])"
   ]
  },
  {
   "cell_type": "code",
   "execution_count": 22,
   "metadata": {},
   "outputs": [
    {
     "name": "stdout",
     "output_type": "stream",
     "text": [
      "[0.19086583002312485, 0.012144608991699096]\n",
      "[0.17389985746481082, 0.004815732198860981]\n",
      "[0.1695998407472178, 0.00583937316016198]\n"
     ]
    }
   ],
   "source": [
    "print(adult_sex_info[\"budget=0.01\"][\"fc=0.5\"][\"Error\"])\n",
    "print(adult_sex_info[\"budget=0.1\"][\"fc=0.5\"][\"Error\"])\n",
    "print(adult_sex_info[\"budget=1\"][\"fc=0.5\"][\"Error\"])"
   ]
  },
  {
   "cell_type": "code",
   "execution_count": 23,
   "metadata": {},
   "outputs": [
    {
     "name": "stdout",
     "output_type": "stream",
     "text": [
      "[0.2799669927834261, 0.17946132343564875]\n",
      "[0.0885347957519759, 0.022263245985914334]\n",
      "[0.1705207797838475, 0.13368811637994957]\n"
     ]
    }
   ],
   "source": [
    "print(adult_sex_info[\"budget=0.01\"][\"fc=1.5\"][\"EOD\"])\n",
    "print(adult_sex_info[\"budget=0.1\"][\"fc=1.5\"][\"EOD\"])\n",
    "print(adult_sex_info[\"budget=1\"][\"fc=1.5\"][\"EOD\"])"
   ]
  },
  {
   "cell_type": "code",
   "execution_count": 24,
   "metadata": {},
   "outputs": [
    {
     "name": "stdout",
     "output_type": "stream",
     "text": [
      "[0.1933992022536815, 0.011125086237071948]\n",
      "[0.18533256870368242, 0.011816659247675445]\n",
      "[0.17976701875649123, 0.007765315888493833]\n"
     ]
    }
   ],
   "source": [
    "print(adult_sex_info[\"budget=0.01\"][\"fc=1.5\"][\"Error\"])\n",
    "print(adult_sex_info[\"budget=0.1\"][\"fc=1.5\"][\"Error\"])\n",
    "print(adult_sex_info[\"budget=1\"][\"fc=1.5\"][\"Error\"])"
   ]
  },
  {
   "cell_type": "code",
   "execution_count": 9,
   "metadata": {},
   "outputs": [
    {
     "data": {
      "text/plain": [
       "[<matplotlib.lines.Line2D at 0x19b80234a90>]"
      ]
     },
     "execution_count": 9,
     "metadata": {},
     "output_type": "execute_result"
    },
    {
     "data": {
      "image/png": "[encoded data removed]",
      "text/plain": [
       "<Figure size 800x600 with 1 Axes>"
      ]
     },
     "metadata": {},
     "output_type": "display_data"
    }
   ],
   "source": [
    "# plot the bias vs. error\n",
    "import matplotlib.pyplot as plt\n",
    "import matplotlib\n",
    "matplotlib.rcParams.update({'font.size': 14})\n",
    "plt.figure(figsize=(8,6))\n",
    "plt.plot( biases, errors, marker='o', c='r')"
   ]
  },
  {
   "cell_type": "markdown",
   "metadata": {},
   "source": [
    "# recidivism_sex"
   ]
  },
  {
   "cell_type": "code",
   "execution_count": 25,
   "metadata": {},
   "outputs": [],
   "source": [
    "recidivism_sex_info = {}\n",
    "recidivism_sex_info[\"dataset_name\"] = \"Compas\"\n",
    "recidivism_sex_info[\"proctected_feature\"] = \"sex\"\n",
    "recidivism_sex = pd.read_csv(\"recidivism_sex.csv\")\n",
    "for budget in [1,0.1,0.01]:\n",
    "    data = data = recidivism_sex[recidivism_sex[\"budget\"] == budget]\n",
    "    recidivism_sex_info[\"budget={}\".format(budget)] = {}\n",
    "    fcs = [ 0.1, 0.2, 0.3, 0.4, 0.5,1,1.5,2,3,4,5]\n",
    "    for fc in fcs:  \n",
    "        fcdata = data[data[\"fc\"] == fc]\n",
    "        error_mean = np.mean(fcdata[\"Error\"])\n",
    "        eod_mean = np.mean(fcdata[\"Equal opportunity difference\"])\n",
    "        error_std = np.std(fcdata[\"Error\"])\n",
    "        eod_std = np.std(fcdata[\"Equal opportunity difference\"])\n",
    "        recidivism_sex_info[\"budget={}\".format(budget)][\"fc={}\".format(fc)] = {}\n",
    "        recidivism_sex_info[\"budget={}\".format(budget)][\"fc={}\".format(fc)][\"Error\"] = [error_mean, error_std]\n",
    "        recidivism_sex_info[\"budget={}\".format(budget)][\"fc={}\".format(fc)][\"EOD\"] = [eod_mean, eod_std]\n",
    "#save recidivism_sex_info to a json file\n",
    "with open(\"recidivism_sex_info.json\", \"w\") as outfile: \n",
    "    json.dump(recidivism_sex_info, outfile)"
   ]
  },
  {
   "cell_type": "markdown",
   "metadata": {},
   "source": [
    "# Bank Age"
   ]
  },
  {
   "cell_type": "code",
   "execution_count": 26,
   "metadata": {},
   "outputs": [],
   "source": [
    "bank_age_info = {}\n",
    "bank_age_info[\"dataset_name\"] = \"Bank Marketing\"\n",
    "bank_age_info[\"proctected_feature\"] = \"age\"\n",
    "bank_age = pd.read_csv(\"bank_age.csv\")\n",
    "for budget in [1,0.1,0.01]:\n",
    "    data = data = bank_age[bank_age[\"budget\"] == budget]\n",
    "    bank_age_info[\"budget={}\".format(budget)] = {}\n",
    "    fcs = [ 0.1, 0.2, 0.3, 0.4, 0.5,1,1.5,2,3,4,5]\n",
    "    for fc in fcs:  \n",
    "        fcdata = data[data[\"fc\"] == fc]\n",
    "        error_mean = np.mean(fcdata[\"Error\"])\n",
    "        eod_mean = np.mean(fcdata[\"Equal opportunity difference\"])\n",
    "        error_std = np.std(fcdata[\"Error\"])\n",
    "        eod_std = np.std(fcdata[\"Equal opportunity difference\"])\n",
    "        bank_age_info[\"budget={}\".format(budget)][\"fc={}\".format(fc)] = {}\n",
    "        bank_age_info[\"budget={}\".format(budget)][\"fc={}\".format(fc)][\"Error\"] = [error_mean, error_std]\n",
    "        bank_age_info[\"budget={}\".format(budget)][\"fc={}\".format(fc)][\"EOD\"] = [eod_mean, eod_std]\n",
    "#save bank_age_info to a json file\n",
    "with open(\"bank_age_info.json\", \"w\") as outfile: \n",
    "    json.dump(bank_age_info, outfile)"
   ]
  },
  {
   "cell_type": "markdown",
   "metadata": {},
   "source": [
    "# Zindi sex"
   ]
  },
  {
   "cell_type": "code",
   "execution_count": 27,
   "metadata": {},
   "outputs": [],
   "source": [
    "zindi_sex_info = {}\n",
    "zindi_sex_info[\"dataset_name\"] = \"Zindi\"\n",
    "zindi_sex_info[\"proctected_feature\"] = \"sex\"\n",
    "zindi_sex = pd.read_csv(\"zindi_sex.csv\")\n",
    "\n",
    "for budget in [1,0.1,0.01]:\n",
    "    data = data = zindi_sex[zindi_sex[\"budget\"] == budget]\n",
    "    zindi_sex_info[\"budget={}\".format(budget)] = {}\n",
    "    fcs = [ 0.1, 0.2, 0.3, 0.4, 0.5,1,1.5,2,3,4,5]\n",
    "    for fc in fcs:  \n",
    "        fcdata = data[data[\"fc\"] == fc]\n",
    "        error_mean = np.mean(fcdata[\"Error\"])\n",
    "        eod_mean = np.mean(fcdata[\"Equal opportunity difference\"])\n",
    "        error_std = np.std(fcdata[\"Error\"])\n",
    "        eod_std = np.std(fcdata[\"Equal opportunity difference\"])\n",
    "        zindi_sex_info[\"budget={}\".format(budget)][\"fc={}\".format(fc)] = {}\n",
    "        zindi_sex_info[\"budget={}\".format(budget)][\"fc={}\".format(fc)][\"Error\"] = [error_mean, error_std]\n",
    "        zindi_sex_info[\"budget={}\".format(budget)][\"fc={}\".format(fc)][\"EOD\"] = [eod_mean, eod_std]\n",
    "#save zindi_sex_info to a json file\n",
    "with open(\"zindi_sex_info.json\", \"w\") as outfile: \n",
    "    json.dump(zindi_sex_info, outfile)"
   ]
  },
  {
   "cell_type": "code",
   "execution_count": 28,
   "metadata": {},
   "outputs": [
    {
     "data": {
      "text/plain": [
       "{'dataset_name': 'Zindi',\n",
       " 'proctected_feature': 'sex',\n",
       " 'budget=1': {'fc=0.1': {'Error': [0.11350147657362623, 0.006428433088487033],\n",
       "   'EOD': [0.054094362732855304, 0.03799057145550548]},\n",
       "  'fc=0.2': {'Error': [0.11549939635790549, 0.0071838706602693715],\n",
       "   'EOD': [0.045133173340363826, 0.024379721029678638]},\n",
       "  'fc=0.3': {'Error': [0.12085549097428554, 0.007859136738946788],\n",
       "   'EOD': [0.028269395444048738, 0.017271783241701217]},\n",
       "  'fc=0.4': {'Error': [0.12957010381198172, 0.009194084832415145],\n",
       "   'EOD': [0.026512427828684328, 0.021436892607041732]},\n",
       "  'fc=0.5': {'Error': [0.13556374568956164, 0.0070879982066607596],\n",
       "   'EOD': [0.02912862388402452, 0.026827314170826053]},\n",
       "  'fc=1': {'Error': [0.14087749499374666, 0.0036265738995781807],\n",
       "   'EOD': [0.0, 0.0]},\n",
       "  'fc=1.5': {'Error': [0.14079247905325784, 0.0036247230094656746],\n",
       "   'EOD': [0.0, 0.0]},\n",
       "  'fc=2': {'Error': [0.14079247905325784, 0.0036247230094656746],\n",
       "   'EOD': [0.0, 0.0]},\n",
       "  'fc=3': {'Error': [0.14079247905325784, 0.0036247230094656746],\n",
       "   'EOD': [0.0, 0.0]},\n",
       "  'fc=4': {'Error': [0.14079247905325784, 0.0036247230094656746],\n",
       "   'EOD': [0.0, 0.0]},\n",
       "  'fc=5': {'Error': [0.14079247905325784, 0.0036247230094656746],\n",
       "   'EOD': [0.0, 0.0]}},\n",
       " 'budget=0.1': {'fc=0.1': {'Error': [0.12251345543530903,\n",
       "    0.007290526173205553],\n",
       "   'EOD': [0.09582017811196722, 0.05853823555237786]},\n",
       "  'fc=0.2': {'Error': [0.1231513189760495, 0.007109089414077973],\n",
       "   'EOD': [0.0892450154464609, 0.050179014637738224]},\n",
       "  'fc=0.3': {'Error': [0.12361874399068866, 0.004576495060504473],\n",
       "   'EOD': [0.08350699611922192, 0.05445183478837951]},\n",
       "  'fc=0.4': {'Error': [0.12323619033160552, 0.005429426953137389],\n",
       "   'EOD': [0.07139582222125658, 0.055422413916810694]},\n",
       "  'fc=0.5': {'Error': [0.12846497791465147, 0.005791397475957698],\n",
       "   'EOD': [0.05866751241450483, 0.03040226260416369]},\n",
       "  'fc=1': {'Error': [0.1381144769278593, 0.004340659926030517],\n",
       "   'EOD': [0.013379795329991121, 0.010163673251018447]},\n",
       "  'fc=1.5': {'Error': [0.14062244717228012, 0.0037330594883402857],\n",
       "   'EOD': [0.00019881095754908001, 0.00039762191509816003]},\n",
       "  'fc=2': {'Error': [0.14079247905325784, 0.0036247230094656746],\n",
       "   'EOD': [0.0, 0.0]},\n",
       "  'fc=3': {'Error': [0.14079247905325784, 0.0036247230094656746],\n",
       "   'EOD': [0.0, 0.0]},\n",
       "  'fc=4': {'Error': [0.14079247905325784, 0.0036247230094656746],\n",
       "   'EOD': [0.0, 0.0]},\n",
       "  'fc=5': {'Error': [0.14079247905325784, 0.0036247230094656746],\n",
       "   'EOD': [0.0, 0.0]}},\n",
       " 'budget=0.01': {'fc=0.1': {'Error': [0.13951702306852595,\n",
       "    0.010447441000983434],\n",
       "   'EOD': [0.08997671297183513, 0.04437033987961615]},\n",
       "  'fc=0.2': {'Error': [0.13539378610105035, 0.0035595921401825317],\n",
       "   'EOD': [0.08836761923989965, 0.04620795611419554]},\n",
       "  'fc=0.3': {'Error': [0.1388793854417431, 0.008301282345380977],\n",
       "   'EOD': [0.0949100772378807, 0.04863855927109949]},\n",
       "  'fc=0.4': {'Error': [0.1351812010670368, 0.003219570199736993],\n",
       "   'EOD': [0.07266774402064152, 0.04401950406569176]},\n",
       "  'fc=0.5': {'Error': [0.13148297150953897, 0.00463918534007889],\n",
       "   'EOD': [0.07488119495702608, 0.04378659319689874]},\n",
       "  'fc=1': {'Error': [0.13335337641964326, 0.006172781564211297],\n",
       "   'EOD': [0.028102355418842696, 0.02311726657919841]},\n",
       "  'fc=1.5': {'Error': [0.1356065066834385, 0.00569672720986945],\n",
       "   'EOD': [0.01391562391258834, 0.017126517186639538]},\n",
       "  'fc=2': {'Error': [0.1376893972254151, 0.0037901607671700353],\n",
       "   'EOD': [0.004031312976283059, 0.005052697522239371]},\n",
       "  'fc=3': {'Error': [0.13730682549321532, 0.0050329707294413835],\n",
       "   'EOD': [0.00291670211864172, 0.00583340423728344]},\n",
       "  'fc=4': {'Error': [0.13807196895761487, 0.004175650369106915],\n",
       "   'EOD': [0.0087177089282878, 0.011736263358717214]},\n",
       "  'fc=5': {'Error': [0.14223775004156816, 0.013120408385533943],\n",
       "   'EOD': [0.03001073461284834, 0.04589651192896128]}}}"
      ]
     },
     "execution_count": 28,
     "metadata": {},
     "output_type": "execute_result"
    }
   ],
   "source": [
    "zindi_sex_info"
   ]
  },
  {
   "cell_type": "code",
   "execution_count": 31,
   "metadata": {},
   "outputs": [],
   "source": [
    "zindi_bias = []\n",
    "zindi_error = []\n",
    "for budget in [1]:\n",
    "    data = data = zindi_sex[zindi_sex[\"budget\"] == budget]\n",
    "    fcs = [ 0.1, 0.2, 0.3, 0.4, 0.5,1,1.5,2,3,4,5]\n",
    "    for fc in fcs:  \n",
    "        fcdata = data[data[\"fc\"] == fc]\n",
    "        # error_mean = np.mean(fcdata[\"Error\"])\n",
    "        # eod_mean = np.mean(fcdata[\"Equal opportunity difference\"])\n",
    "        zindi_error.extend(fcdata[\"Error\"])\n",
    "        zindi_bias.extend(fcdata[\"Equal opportunity difference\"])\n"
   ]
  },
  {
   "cell_type": "code",
   "execution_count": 32,
   "metadata": {},
   "outputs": [
    {
     "data": {
      "text/plain": [
       "[<matplotlib.lines.Line2D at 0x21a781379a0>]"
      ]
     },
     "execution_count": 32,
     "metadata": {},
     "output_type": "execute_result"
    },
    {
     "data": {
      "image/png": "[encoded data removed]",
      "text/plain": [
       "<Figure size 800x600 with 1 Axes>"
      ]
     },
     "metadata": {},
     "output_type": "display_data"
    }
   ],
   "source": [
    "# plot the results based on bias vs error\n",
    "import matplotlib.pyplot as plt\n",
    "import numpy as np\n",
    "plt.rcParams.update({'font.size': 14})\n",
    "plt.figure(figsize=(8,6))\n",
    "plt.plot(zindi_bias, zindi_error, 'o', color='black')"
   ]
  }
 ],
 "metadata": {
  "kernelspec": {
   "display_name": "Python 3",
   "language": "python",
   "name": "python3"
  },
  "language_info": {
   "codemirror_mode": {
    "name": "ipython",
    "version": 3
   },
   "file_extension": ".py",
   "mimetype": "text/x-python",
   "name": "python",
   "nbconvert_exporter": "python",
   "pygments_lexer": "ipython3",
   "version": "3.9.13"
  }
 },
 "nbformat": 4,
 "nbformat_minor": 2
}
