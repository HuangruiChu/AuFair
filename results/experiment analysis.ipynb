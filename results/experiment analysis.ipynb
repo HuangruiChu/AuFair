{
 "cells": [
  {
   "cell_type": "code",
   "execution_count": 2,
   "metadata": {},
   "outputs": [],
   "source": [
    "import numpy as np\n",
    "import pandas as pd\n",
    "import json"
   ]
  },
  {
   "cell_type": "markdown",
   "metadata": {},
   "source": [
    "# Adult\n",
    "## race"
   ]
  },
  {
   "cell_type": "code",
   "execution_count": 10,
   "metadata": {},
   "outputs": [],
   "source": [
    "adult_race_info = {}\n",
    "adult_race_info[\"dataset_name\"] = \"Adult\"\n",
    "adult_race_info[\"proctected_feature\"] = \"Race\"\n",
    "adult_race = pd.read_csv(\"adult_race.csv\")\n",
    "\n",
    "for budget in [1,0.1,0.01]:\n",
    "    data = adult_race[adult_race[\"budget\"] == budget]\n",
    "    adult_race_info[\"budget={}\".format(budget)] = {}\n",
    "    fcs = [ 0.1, 0.2, 0.3, 0.4, 0.5,1,1.5,2,3,4,5]\n",
    "    for fc in fcs:  \n",
    "        fcdata = data[data[\"fc\"] == fc]\n",
    "        error_mean = np.mean(fcdata[\"Error\"])\n",
    "        eod_mean = np.mean(fcdata[\"Equal opportunity difference\"])\n",
    "        error_std = np.std(fcdata[\"Error\"])\n",
    "        eod_std = np.std(fcdata[\"Equal opportunity difference\"])\n",
    "        adult_race_info[\"budget={}\".format(budget)][\"fc={}\".format(fc)] = {}\n",
    "        adult_race_info[\"budget={}\".format(budget)][\"fc={}\".format(fc)][\"Error\"] = [error_mean, error_std]\n",
    "        adult_race_info[\"budget={}\".format(budget)][\"fc={}\".format(fc)][\"EOD\"] = [eod_mean, eod_std]\n",
    "#save adult_race_info to a json file\n",
    "with open(\"adult_race_info.json\", \"w\") as outfile: \n",
    "    json.dump(adult_race_info, outfile)"
   ]
  },
  {
   "cell_type": "code",
   "execution_count": null,
   "metadata": {},
   "outputs": [],
   "source": []
  },
  {
   "cell_type": "markdown",
   "metadata": {},
   "source": [
    "## Sex"
   ]
  },
  {
   "cell_type": "code",
   "execution_count": 3,
   "metadata": {},
   "outputs": [],
   "source": [
    "adult_sex_info = {}\n",
    "adult_sex_info[\"dataset_name\"] = \"Adult\"\n",
    "adult_sex_info[\"proctected_feature\"] = \"sex\"\n",
    "adult_sex = pd.read_csv(\"adult_sex.csv\")\n",
    "for budget in [1,0.1,0.01]:\n",
    "    data = data = adult_sex[adult_sex[\"budget\"] == budget]\n",
    "    adult_sex_info[\"budget={}\".format(budget)] = {}\n",
    "    fcs = [ 0.1, 0.2, 0.3, 0.4, 0.5,1,1.5,2,3,4,5]\n",
    "    for fc in fcs:  \n",
    "        fcdata = data[data[\"fc\"] == fc]\n",
    "        error_mean = np.mean(fcdata[\"Error\"])\n",
    "        eod_mean = np.mean(fcdata[\"Equal opportunity difference\"])\n",
    "        error_std = np.std(fcdata[\"Error\"])\n",
    "        eod_std = np.std(fcdata[\"Equal opportunity difference\"])\n",
    "        adult_sex_info[\"budget={}\".format(budget)][\"fc={}\".format(fc)] = {}\n",
    "        adult_sex_info[\"budget={}\".format(budget)][\"fc={}\".format(fc)][\"Error\"] = [error_mean, error_std]\n",
    "        adult_sex_info[\"budget={}\".format(budget)][\"fc={}\".format(fc)][\"EOD\"] = [eod_mean, eod_std]\n",
    "#save adult_sex_info to a json file\n",
    "with open(\"adult_sex_info.json\", \"w\") as outfile: \n",
    "    json.dump(adult_sex_info, outfile)"
   ]
  },
  {
   "cell_type": "code",
   "execution_count": 6,
   "metadata": {},
   "outputs": [
    {
     "name": "stdout",
     "output_type": "stream",
     "text": [
      "[0.206634036, 0.01659732468375988]\n",
      "[0.17530024100000002, 0.005824727323387215]\n",
      "[0.167499863, 0.003995318051938088]\n"
     ]
    }
   ],
   "source": [
    "print(adult_sex_info[\"budget=0.01\"][\"fc=0.1\"][\"Error\"])\n",
    "print(adult_sex_info[\"budget=0.1\"][\"fc=0.1\"][\"Error\"])\n",
    "print(adult_sex_info[\"budget=1\"][\"fc=0.1\"][\"Error\"])"
   ]
  },
  {
   "cell_type": "code",
   "execution_count": 7,
   "metadata": {},
   "outputs": [
    {
     "name": "stdout",
     "output_type": "stream",
     "text": [
      "[0.2106005192, 0.019593675314095983]\n",
      "[0.20839915800000003, 0.008960204305791758]\n",
      "[0.2135013524, 0.019082914191188946]\n"
     ]
    }
   ],
   "source": [
    "print(adult_sex_info[\"budget=0.01\"][\"fc=1\"][\"Error\"])\n",
    "print(adult_sex_info[\"budget=0.1\"][\"fc=1\"][\"Error\"])\n",
    "print(adult_sex_info[\"budget=1\"][\"fc=1\"][\"Error\"])"
   ]
  },
  {
   "cell_type": "code",
   "execution_count": 11,
   "metadata": {},
   "outputs": [
    {
     "name": "stdout",
     "output_type": "stream",
     "text": [
      "[0.09580308, 0.049440236339625285]\n",
      "[0.11679468579999999, 0.019963604654354438]\n",
      "[0.16213320979999998, 0.1253856884083653]\n"
     ]
    }
   ],
   "source": [
    "print(adult_sex_info[\"budget=0.01\"][\"fc=1\"][\"EOD\"])\n",
    "print(adult_sex_info[\"budget=0.1\"][\"fc=1\"][\"EOD\"])\n",
    "print(adult_sex_info[\"budget=1\"][\"fc=1\"][\"EOD\"])"
   ]
  },
  {
   "cell_type": "code",
   "execution_count": 8,
   "metadata": {},
   "outputs": [
    {
     "name": "stdout",
     "output_type": "stream",
     "text": [
      "[0.20603429680000002, 0.018488186722942716]\n",
      "[0.177933474, 0.004909570724889409]\n",
      "[0.173166813, 0.004317421250331219]\n"
     ]
    }
   ],
   "source": [
    "print(adult_sex_info[\"budget=0.01\"][\"fc=0.2\"][\"Error\"])\n",
    "print(adult_sex_info[\"budget=0.1\"][\"fc=0.2\"][\"Error\"])\n",
    "print(adult_sex_info[\"budget=1\"][\"fc=0.2\"][\"Error\"])"
   ]
  },
  {
   "cell_type": "code",
   "execution_count": 9,
   "metadata": {},
   "outputs": [
    {
     "name": "stdout",
     "output_type": "stream",
     "text": [
      "[0.2081673248, 0.01845622769843435]\n",
      "[0.1827330798, 0.007713222961897306]\n",
      "[0.1770333964, 0.00792556754753323]\n"
     ]
    }
   ],
   "source": [
    "print(adult_sex_info[\"budget=0.01\"][\"fc=0.3\"][\"Error\"])\n",
    "print(adult_sex_info[\"budget=0.1\"][\"fc=0.3\"][\"Error\"])\n",
    "print(adult_sex_info[\"budget=1\"][\"fc=0.3\"][\"Error\"])"
   ]
  },
  {
   "cell_type": "code",
   "execution_count": 10,
   "metadata": {},
   "outputs": [
    {
     "name": "stdout",
     "output_type": "stream",
     "text": [
      "[0.2093672916, 0.01766604067062043]\n",
      "[0.19409950780000002, 0.0077832624152808895]\n",
      "[0.1871669742, 0.013068538723658861]\n"
     ]
    }
   ],
   "source": [
    "print(adult_sex_info[\"budget=0.01\"][\"fc=0.5\"][\"Error\"])\n",
    "print(adult_sex_info[\"budget=0.1\"][\"fc=0.5\"][\"Error\"])\n",
    "print(adult_sex_info[\"budget=1\"][\"fc=0.5\"][\"Error\"])"
   ]
  },
  {
   "cell_type": "code",
   "execution_count": 12,
   "metadata": {},
   "outputs": [
    {
     "name": "stdout",
     "output_type": "stream",
     "text": [
      "[0.079728957, 0.05615187091507465]\n",
      "[0.066245407, 0.04541820796471966]\n",
      "[0.0094519922, 0.009152480664689272]\n"
     ]
    }
   ],
   "source": [
    "print(adult_sex_info[\"budget=0.01\"][\"fc=1.5\"][\"EOD\"])\n",
    "print(adult_sex_info[\"budget=0.1\"][\"fc=1.5\"][\"EOD\"])\n",
    "print(adult_sex_info[\"budget=1\"][\"fc=1.5\"][\"EOD\"])"
   ]
  },
  {
   "cell_type": "code",
   "execution_count": 13,
   "metadata": {},
   "outputs": [
    {
     "name": "stdout",
     "output_type": "stream",
     "text": [
      "[0.22013331379999998, 0.021238176532469694]\n",
      "[0.2236993138, 0.012754754059457597]\n",
      "[0.2383999084, 0.003492052723607562]\n"
     ]
    }
   ],
   "source": [
    "print(adult_sex_info[\"budget=0.01\"][\"fc=1.5\"][\"Error\"])\n",
    "print(adult_sex_info[\"budget=0.1\"][\"fc=1.5\"][\"Error\"])\n",
    "print(adult_sex_info[\"budget=1\"][\"fc=1.5\"][\"Error\"])"
   ]
  },
  {
   "cell_type": "markdown",
   "metadata": {},
   "source": [
    "# recidivism_sex"
   ]
  },
  {
   "cell_type": "code",
   "execution_count": 12,
   "metadata": {},
   "outputs": [],
   "source": [
    "recidivism_sex_info = {}\n",
    "recidivism_sex_info[\"dataset_name\"] = \"Compas\"\n",
    "recidivism_sex_info[\"proctected_feature\"] = \"sex\"\n",
    "recidivism_sex = pd.read_csv(\"recidivism_sex.csv\")\n",
    "for budget in [1,0.1,0.01]:\n",
    "    data = data = recidivism_sex[recidivism_sex[\"budget\"] == budget]\n",
    "    recidivism_sex_info[\"budget={}\".format(budget)] = {}\n",
    "    fcs = [ 0.1, 0.2, 0.3, 0.4, 0.5,1,1.5,2,3,4,5]\n",
    "    for fc in fcs:  \n",
    "        fcdata = data[data[\"fc\"] == fc]\n",
    "        error_mean = np.mean(fcdata[\"Error\"])\n",
    "        eod_mean = np.mean(fcdata[\"Equal opportunity difference\"])\n",
    "        error_std = np.std(fcdata[\"Error\"])\n",
    "        eod_std = np.std(fcdata[\"Equal opportunity difference\"])\n",
    "        recidivism_sex_info[\"budget={}\".format(budget)][\"fc={}\".format(fc)] = {}\n",
    "        recidivism_sex_info[\"budget={}\".format(budget)][\"fc={}\".format(fc)][\"Error\"] = [error_mean, error_std]\n",
    "        recidivism_sex_info[\"budget={}\".format(budget)][\"fc={}\".format(fc)][\"EOD\"] = [eod_mean, eod_std]\n",
    "#save recidivism_sex_info to a json file\n",
    "with open(\"recidivism_sex_info.json\", \"w\") as outfile: \n",
    "    json.dump(recidivism_sex_info, outfile)"
   ]
  },
  {
   "cell_type": "markdown",
   "metadata": {},
   "source": [
    "# Bank Age"
   ]
  },
  {
   "cell_type": "code",
   "execution_count": 13,
   "metadata": {},
   "outputs": [],
   "source": [
    "bank_age_info = {}\n",
    "bank_age_info[\"dataset_name\"] = \"Compas\"\n",
    "bank_age_info[\"proctected_feature\"] = \"sex\"\n",
    "bank_age = pd.read_csv(\"bank_age.csv\")\n",
    "for budget in [1,0.1,0.01]:\n",
    "    data = data = bank_age[bank_age[\"budget\"] == budget]\n",
    "    bank_age_info[\"budget={}\".format(budget)] = {}\n",
    "    fcs = [ 0.1, 0.2, 0.3, 0.4, 0.5,1,1.5,2,3,4,5]\n",
    "    for fc in fcs:  \n",
    "        fcdata = data[data[\"fc\"] == fc]\n",
    "        error_mean = np.mean(fcdata[\"Error\"])\n",
    "        eod_mean = np.mean(fcdata[\"Equal opportunity difference\"])\n",
    "        error_std = np.std(fcdata[\"Error\"])\n",
    "        eod_std = np.std(fcdata[\"Equal opportunity difference\"])\n",
    "        bank_age_info[\"budget={}\".format(budget)][\"fc={}\".format(fc)] = {}\n",
    "        bank_age_info[\"budget={}\".format(budget)][\"fc={}\".format(fc)][\"Error\"] = [error_mean, error_std]\n",
    "        bank_age_info[\"budget={}\".format(budget)][\"fc={}\".format(fc)][\"EOD\"] = [eod_mean, eod_std]\n",
    "#save bank_age_info to a json file\n",
    "with open(\"bank_age_info.json\", \"w\") as outfile: \n",
    "    json.dump(bank_age_info, outfile)"
   ]
  },
  {
   "cell_type": "markdown",
   "metadata": {},
   "source": [
    "# Zindi sex"
   ]
  },
  {
   "cell_type": "code",
   "execution_count": 14,
   "metadata": {},
   "outputs": [],
   "source": [
    "zindi_sex_info = {}\n",
    "zindi_sex_info[\"dataset_name\"] = \"Compas\"\n",
    "zindi_sex_info[\"proctected_feature\"] = \"sex\"\n",
    "zindi_sex = pd.read_csv(\"zindi_sex.csv\")\n",
    "for budget in [1,0.1,0.01]:\n",
    "    data = data = zindi_sex[zindi_sex[\"budget\"] == budget]\n",
    "    zindi_sex_info[\"budget={}\".format(budget)] = {}\n",
    "    fcs = [ 0.1, 0.2, 0.3, 0.4, 0.5,1,1.5,2,3,4,5]\n",
    "    for fc in fcs:  \n",
    "        fcdata = data[data[\"fc\"] == fc]\n",
    "        error_mean = np.mean(fcdata[\"Error\"])\n",
    "        eod_mean = np.mean(fcdata[\"Equal opportunity difference\"])\n",
    "        error_std = np.std(fcdata[\"Error\"])\n",
    "        eod_std = np.std(fcdata[\"Equal opportunity difference\"])\n",
    "        zindi_sex_info[\"budget={}\".format(budget)][\"fc={}\".format(fc)] = {}\n",
    "        zindi_sex_info[\"budget={}\".format(budget)][\"fc={}\".format(fc)][\"Error\"] = [error_mean, error_std]\n",
    "        zindi_sex_info[\"budget={}\".format(budget)][\"fc={}\".format(fc)][\"EOD\"] = [eod_mean, eod_std]\n",
    "#save zindi_sex_info to a json file\n",
    "with open(\"zindi_sex_info.json\", \"w\") as outfile: \n",
    "    json.dump(zindi_sex_info, outfile)"
   ]
  },
  {
   "cell_type": "code",
   "execution_count": 15,
   "metadata": {},
   "outputs": [
    {
     "data": {
      "text/plain": [
       "{'dataset_name': 'Compas',\n",
       " 'proctected_feature': 'sex',\n",
       " 'budget=1': {'fc=0.1': {'Error': [0.11243862359999998, 0.004628190430988319],\n",
       "   'EOD': [0.0689975792, 0.04392159758269271]},\n",
       "  'fc=0.2': {'Error': [0.1145642482, 0.006867977134638679],\n",
       "   'EOD': [0.047281029999999995, 0.029451547593281033]},\n",
       "  'fc=0.3': {'Error': [0.12706205240000001, 0.005042682369274137],\n",
       "   'EOD': [0.0317114452, 0.022061439855678173]},\n",
       "  'fc=0.4': {'Error': [0.1379442462, 0.004525221437751626],\n",
       "   'EOD': [0.0112785142, 0.007687778213393578]},\n",
       "  'fc=0.5': {'Error': [0.139474669, 0.005169213063634773],\n",
       "   'EOD': [0.0113168838, 0.021746925064816375]},\n",
       "  'fc=1': {'Error': [0.1407924792, 0.003624723132637376], 'EOD': [0.0, 0.0]},\n",
       "  'fc=1.5': {'Error': [0.1407924792, 0.003624723132637376], 'EOD': [0.0, 0.0]},\n",
       "  'fc=2': {'Error': [0.1407924792, 0.003624723132637376], 'EOD': [0.0, 0.0]},\n",
       "  'fc=3': {'Error': [0.1407924792, 0.003624723132637376], 'EOD': [0.0, 0.0]},\n",
       "  'fc=4': {'Error': [0.1407924792, 0.003624723132637376], 'EOD': [0.0, 0.0]},\n",
       "  'fc=5': {'Error': [0.1407924792, 0.003624723132637376], 'EOD': [0.0, 0.0]}},\n",
       " 'budget=0.1': {'fc=0.1': {'Error': [0.11941012079999999,\n",
       "    0.0058338580132911155],\n",
       "   'EOD': [0.0788603402, 0.05845501058366753]},\n",
       "  'fc=0.2': {'Error': [0.11894258699999997, 0.004842486257638445],\n",
       "   'EOD': [0.0793289626, 0.046052657488135154]},\n",
       "  'fc=0.3': {'Error': [0.121705795, 0.0043845267262552735],\n",
       "   'EOD': [0.0729962326, 0.04804432947942984]},\n",
       "  'fc=0.4': {'Error': [0.1242138916, 0.004751202998769077],\n",
       "   'EOD': [0.08170585500000001, 0.04069035212820476]},\n",
       "  'fc=0.5': {'Error': [0.1265093584, 0.004399579946798991],\n",
       "   'EOD': [0.0693605192, 0.03437966644119648]},\n",
       "  'fc=1': {'Error': [0.1406224294, 0.0037031956255487017],\n",
       "   'EOD': [0.0028993508, 0.003583135490382824]},\n",
       "  'fc=1.5': {'Error': [0.1407924792, 0.003624723132637376], 'EOD': [0.0, 0.0]},\n",
       "  'fc=2': {'Error': [0.1407924792, 0.003624723132637376], 'EOD': [0.0, 0.0]},\n",
       "  'fc=3': {'Error': [0.1407924792, 0.003624723132637376], 'EOD': [0.0, 0.0]},\n",
       "  'fc=4': {'Error': [0.1407924792, 0.003624723132637376], 'EOD': [0.0, 0.0]},\n",
       "  'fc=5': {'Error': [0.1407924792, 0.003624723132637376], 'EOD': [0.0, 0.0]}},\n",
       " 'budget=0.01': {'fc=0.1': {'Error': [0.1323332482, 0.005564181914998875],\n",
       "   'EOD': [0.0968702944, 0.04635611182401239]},\n",
       "  'fc=0.2': {'Error': [0.13241830039999997, 0.0059394867713479585],\n",
       "   'EOD': [0.10300276460000002, 0.048953306504925576]},\n",
       "  'fc=0.3': {'Error': [0.13186544420000001, 0.004899129259294737],\n",
       "   'EOD': [0.0871825996, 0.03553352797709386]},\n",
       "  'fc=0.4': {'Error': [0.13301324939999998, 0.00536301461996905],\n",
       "   'EOD': [0.088496737, 0.03796664670001251]},\n",
       "  'fc=0.5': {'Error': [0.1338633274, 0.003389923072207133],\n",
       "   'EOD': [0.07779238720000001, 0.03640611050942896]},\n",
       "  'fc=1': {'Error': [0.13747654120000002, 0.00413271426272059],\n",
       "   'EOD': [0.019656342599999998, 0.014132381207170582]},\n",
       "  'fc=1.5': {'Error': [0.1393896258, 0.004340025990890484],\n",
       "   'EOD': [0.0057431032, 0.007088889511422995]},\n",
       "  'fc=2': {'Error': [0.13960215660000003, 0.004024002666606695],\n",
       "   'EOD': [0.0021006678, 0.003994377007689404]},\n",
       "  'fc=3': {'Error': [0.14053743140000002, 0.0037975024094302526],\n",
       "   'EOD': [0.0026380684, 0.0052761368]},\n",
       "  'fc=4': {'Error': [0.14032489139999998, 0.003985877837167187],\n",
       "   'EOD': [0.001900174, 0.0038003480000000003]},\n",
       "  'fc=5': {'Error': [0.13951724000000001, 0.0049753999698304826],\n",
       "   'EOD': [0.0006824568, 0.0013649136]}}}"
      ]
     },
     "execution_count": 15,
     "metadata": {},
     "output_type": "execute_result"
    }
   ],
   "source": [
    "zindi_sex_info"
   ]
  }
 ],
 "metadata": {
  "kernelspec": {
   "display_name": "Python 3",
   "language": "python",
   "name": "python3"
  },
  "language_info": {
   "codemirror_mode": {
    "name": "ipython",
    "version": 3
   },
   "file_extension": ".py",
   "mimetype": "text/x-python",
   "name": "python",
   "nbconvert_exporter": "python",
   "pygments_lexer": "ipython3",
   "version": "3.9.13"
  }
 },
 "nbformat": 4,
 "nbformat_minor": 2
}
